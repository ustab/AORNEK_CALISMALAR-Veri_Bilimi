{
  "metadata": {
    "kernelspec": {
      "language": "python",
      "display_name": "Python 3",
      "name": "python3"
    },
    "language_info": {
      "name": "python",
      "version": "3.7.6",
      "mimetype": "text/x-python",
      "codemirror_mode": {
        "name": "ipython",
        "version": 3
      },
      "pygments_lexer": "ipython3",
      "nbconvert_exporter": "python",
      "file_extension": ".py"
    },
    "colab": {
      "provenance": [],
      "include_colab_link": true
    }
  },
  "nbformat_minor": 0,
  "nbformat": 4,
  "cells": [
    {
      "cell_type": "markdown",
      "metadata": {
        "id": "view-in-github",
        "colab_type": "text"
      },
      "source": [
        "<a href=\"https://colab.research.google.com/github/ustab/AORNEK_CALISMALAR-Veri_Bilimi/blob/main/tutorial_object_oriented_programming_in_python.ipynb\" target=\"_parent\"><img src=\"https://colab.research.google.com/assets/colab-badge.svg\" alt=\"Open In Colab\"/></a>"
      ]
    },
    {
      "cell_type": "markdown",
      "source": [
        "### Object-Oriented Programming in Python\n",
        "<a href=\"https://imgur.com/G3GibsB\"><img src=\"https://i.imgur.com/G3GibsB.jpg\" title=\"source: imgur.com\" /></a>"
      ],
      "metadata": {
        "id": "-HVlN9ljcHpe"
      }
    },
    {
      "cell_type": "markdown",
      "source": [
        "### Intro\n",
        "Once I've heard a phrase: if you want to comprehend something, teach it...so here I am almost finishing this tutorial about Object-Oriented Programming and put my hands on the next one. Data Science and machine learning fields are undoubtedly extensive and I am like you always learn something new day after day. From my perspective, OOP in Data Science isn't obligatory and you can benefit a lot with many different libraries (e.g. Scikit Learn / Keras and so forth). However, knowing OOP will give you more opportunities and flexibility in your feature projects. With the help of OOP, you will better understand relationships between objects and classes, concepts such as inheritance, encapsulation and polymorphism. Besides, frameworks such as PyTorch or Tensorflow will force you to face with OOP anyway. \n",
        "\n",
        "I know, it may sound terrifying but only at first sight. This tutorial isn't going to be short because I like details. They are really important. For this purpose, don't be lazy, experiment with your code and test yourself. These are probably secrete ingredients for successful learning. Alright, enough talking and let's have a look at what we are going to cover.\n",
        "\n",
        "### Content \n",
        "- <a href='#1'>1. What Is Object-Oriented Programming in Python</a>\n",
        "    - <a href='#1.1'>1.1 Why Instance and not Object?</a>\n",
        "    - <a href='#1.2'>1.2 Difference Between Structural Programming and OOP?</a>\n",
        "   \n",
        "- <a href='#2'>2. Class and Object Creation</a>\n",
        "    - <a href='#2.1'>2.1 Class Attributes, Methods and Fields. How to Distinguish Them?</a>\n",
        "    - <a href='#2.2'>2.2 Class Built-in Attributes and Methods</a>\n",
        "    - <a href='#2.3'>2.3 Class Attributes Changing</a>\n",
        "    - <a href='#2.4'>2.4 Creating Attributes Outside the Class. Is It Worth Doing?</a>\n",
        "    - <a href='#2.5'>2.5 Main Points of the Chapter</a>\n",
        "    \n",
        "- <a href='#3'>3. Constructor and Destructor. Who Are They?</a>\n",
        "    - <a href='#3.1'>3.1 Constructor. Let's Start Building!</a>\n",
        "    - <a href='#3.2'>3.2 Destructor. Who Is Going to be Destructed?</a>\n",
        "    - <a href='#3.3'>3.3 Attributes Creation Control</a>\n",
        "    - <a href='#3.4'>3.4 Main points of the Chapter</a>\n",
        "    \n",
        "- <a href='#4'>4. Class and Object Attributes. Scope of Variables</a>\n",
        "    - <a href='#4.1'>4.1 Accessing Class and Object Attributes</a>\n",
        "    - <a href='#4.2'>4.2 Local Variables</a>\n",
        "    - <a href='#4.3'>4.3 Global Variables</a>\n",
        "    - <a href='#4.4'>4.4 Main Points of the Chapter</a>\n",
        "    \n",
        "- <a href='#5'>5. Inheritance, Polymorphism and Encapsulation</a>\n",
        "    - <a href='#5.1'>5.1 Inheritance</a>\n",
        "        - <a href='#5.1.1'>5.1.1 Constructor Extension</a>\n",
        "        - <a href='#5.1.2'>5.1.2 Method Extension</a>\n",
        "    - <a href='#5.2'>5.2 Polymorphism or Method Overriding</a>\n",
        "    - <a href='#5.3'>5.3 Encapsulation</a>\n",
        "        - <a href='#5.3.1'>5.3.1 Access Modifiers</a>\n",
        "        - <a href='#5.3.2'>5.3.2 Calling Private Attributes from Child Classes</a>\n",
        "        - <a href='#5.3.3'>5.3.3 Getting, Setting and Deleting Encapsulated Attributes</a>\n",
        "    - <a href='#5.4'>5.4 Main Points of the Chapter</a>\n",
        "            \n",
        "- <a href='#6'>6. Instance, Class and Static Methods. What Is the Difference?</a>\n",
        "    - <a href ='#6.1'>6.1 Class Methods</a>\n",
        "    - <a href ='#6.2'>6.2 Static Methods</a>\n",
        "    - <a href ='#6.3'>6.3 Instance Methods</a>\n",
        "    - <a href ='#6.4'>6.4 Main Points of the Chapter</a>\n",
        "        \n",
        "- <a href='#7'>7. Methods and Operators Overloading</a>\n",
        "    - <a href='#7.1'>7.1 Method Overloading</a>\n",
        "    - <a href='#7.2'>7.2 Operator Overloading</a>\n",
        "    - <a href='#7.3'>7.3 Main points of the Chapter</a>\n",
        "    \n",
        "- <a href='#8'>8. What is \\*args and **kwargs</a>\n",
        "    - <a href='#8.1'>8.1 \\*args</a>\n",
        "    - <a href='#8.2'>8.2 **kwargs</a>\n",
        "    - <a href='#8.3'>8.3 Main Points of the Chapter</a>\n",
        "    \n",
        "- <a href='#9'>9. Decorators</a>\n",
        "    - <a href='#9.1'>9.1 What Is a Decorator?</a>\n",
        "    - <a href='#9.2'>9.2 What Is Closure?</a>\n",
        "    - <a href='#9.3'>9.3 What Is a Wrapper Function?</a>\n",
        "    - <a href='#9.4'>9.4 Decorator Implementation</a>\n",
        "    - <a href='#9.5'>9.5 Module functool.wraps</a>\n",
        "    - <a href='#9.6'>9.6 Main Built-in Decorators in Python</a>\n",
        "    - <a href='#9.7'>9.7 How Can I Get a Property From a Function?</a>\n",
        "        - <a href='#9.7.1'>9.7.1 Property Class Implementation</a>\n",
        "        - <a href='#9.7.2'>9.7.2 Property Decorator Implementation</a>\n",
        "    - <a href='#9.8'>9.8 Main Points of the Chapter</a>\n",
        "      \n",
        "- <a href='#10'>10. Descriptors</a>  \n",
        "    \n",
        "- <a href='#11'>11. Abstract Classes. Why Do We Need Them?</a>\n",
        "    - <a href='#11.1'>11.1 Abstract Base Class Module</a>\n",
        "    - <a href='#11.2'>11.2 Abstract Class Implementation</a>\n",
        "    - <a href='#11.3'>11.3 Main Points of the Chapter</a>\n",
        " \n",
        "- <a href='#12'>12. OOP Advantages and Disadvantages</a>\n",
        "    - <a href='#12.1'>12.1 Advantages</a>\n",
        "    - <a href='#12.2'>12.2 Disadvantages</a>\n",
        "\n",
        "I do hope you'll find it both useful and not boring because learning must be interesting. Everything is ready to start. Let's set off. For better understanding, I'll be proving only key points of a chapter in a block called **Main Points of the Chapter**\n",
        "\n",
        "### <a id=\"1\">1. What Is Object-Oriented Programming in Python</a>\n",
        "\n",
        "So what is OOP?\n",
        "\n",
        "Object-Oriented Programming (OOP) is a paradigm where key elements are **objects** and **classes**.\n",
        "\n",
        "- **Class**: simply an abstraction of something (e.g. a desk on which your laptop is laying is an object whereas a representation of all desks is a class)\n",
        "\n",
        "- **Object**: is an object (e.g. my laptop, my phone or my bottle of water are objects)\n",
        "\n",
        "Cycles, conditions and functions are elements of structural programming that allows writing not complex programs. For advanced and complex systems using object-oriented programming is almost inevitable. Even not knowing OOP paradigm in Python we utilize objects and classes which hadn't been created by us.\n",
        "\n",
        "### <a id=\"1.1\">1.1 Why Instance and not Object?</a>\n",
        "\n",
        "You may have seen that there are several names: **Instance and Object.** So..What is the difference between these definitions? Here is what I've found.\n",
        "\n",
        "**A Nitty - Gritty Detail:**\n",
        "\n",
        "All classes in Python belong to  **one class** that's called **class type**. Thus, lists, tuples, strings and others are objects of **Type class.** In order to avoid mess up a word **instance** is more appropriate for newly created classes. However, these names are interchangeable and both can be used. For better understanding, I've created the following picture:\n",
        "\n",
        "<a href=\"https://imgur.com/uLDpX75\"><img src=\"https://i.imgur.com/uLDpX75.png\" title=\"source: imgur.com\" /></a>\n",
        "\n",
        "Above picture depicts that even classes such as Int, Float..Tuple are objects of the **main metaclass Type.** If it's difficult to understand, come back to this chapter later. Just keep in mind that **everything in Python is an object.** For more info, check the link below:\n",
        "- Additional Reading about Meta Classes: https://realpython.com/python-metaclasses/\n",
        "\n",
        "### <a id=\"1.2\">1.2 Difference Between Structural Programming and OOP?</a>\n",
        "I think we have to understand the difference between these two different concepts though it might be clear. Anyway, let it be here.\n",
        "- **Structural Programming:** logic and sequence of actions are key elements.\n",
        "\n",
        "- **Object-Oriented Programming:** A program like a system of interactive objects.\n",
        "\n",
        "### <a id=\"2\">2. Class and Object Creation</a>\n",
        "There is nothing difficult in creating a class and its object. \n",
        " - **Classes** are being created with a keyword **Class** (e.g. class class_name:)\n",
        " - **Objects** are being created according to **the following syntax:** object_name = class_name()\n",
        " \n",
        "**Unlike functions**, when a **class** is being called (invoked), it **creates an object instead of code execution**. Of course, there is no much sense in only reading, you have to practice. let's create our first class and its object.\n",
        "\n",
        "**Important**\n",
        "\n",
        "All the following examples will be based on my favourite computer game/book the Witcher. I recommend finding **your favourite field** (e.g. games, sport, films...). You will better understand the topic by implementing OOP on own examples instead of mine. However, you can first go step by step through my examples and then reimplement with yours.\n",
        "\n",
        "Geralt from Rivia is one of the main characters of the game/book The Witcher. In OOP paradigm, Geralt is simply an object of a class and of course, there are many other characters. To be able to effectively create new characters (objects) we need a special class. let's name it **GameCharacter:**"
      ],
      "metadata": {
        "id": "4mVYKKdzcHpj"
      }
    },
    {
      "cell_type": "code",
      "source": [
        "### Create an empty class GameCharacter. Class name must start with a capital letter! \n",
        "class GameCharacter:\n",
        "    pass\n",
        "\n",
        "### Let's create an object of GameCharacter class. Geralt is an object of GameCharacter class\n",
        "geralt = GameCharacter()\n",
        "\n",
        "### let's find out to which class our created character belongs to\n",
        "print(type(geralt))"
      ],
      "metadata": {
        "execution": {
          "iopub.status.busy": "2021-08-09T09:28:02.691516Z",
          "iopub.execute_input": "2021-08-09T09:28:02.692105Z",
          "iopub.status.idle": "2021-08-09T09:28:02.699355Z",
          "shell.execute_reply.started": "2021-08-09T09:28:02.692040Z",
          "shell.execute_reply": "2021-08-09T09:28:02.698317Z"
        },
        "trusted": true,
        "id": "logBT2KOcHpn",
        "outputId": "816bc001-16e8-4ed3-ea6c-800726b18596"
      },
      "execution_count": null,
      "outputs": [
        {
          "name": "stdout",
          "text": "<class '__main__.GameCharacter'>\n",
          "output_type": "stream"
        }
      ]
    },
    {
      "cell_type": "markdown",
      "source": [
        "Not surprisingly, Geralt belongs to just created class GameCharacter.\n",
        "\n",
        "### <a id=\"2.1\">2.1 Class Attributes, Methods and Fields. How to Distinguish Them?</a>\n",
        "The next thing which is highly important for a class is **attributes/fields/properties and methods**. At first sight, it may sound confusing. Let's sort everything out:\n",
        "\n",
        "Each class is unique and has to contain its own **attributes and methods**:\n",
        "- **Methods** are just **Functions**\n",
        "- **Fields** are just **Variables** (another name for fields is **properties or attributes**. These names are interchangeable)\n",
        "\n",
        "When it comes to attributes of a class you may think of this as certain properties. For example, start with yourself and try figuring out what properties you have (e.g. age, gender, hair color and so forth). Easy isn't it?\n",
        "\n",
        "You have to be sort of a future teller to define all attributes for a class in advance. Some of them might be obvious and some not...but don't worry you can easily add new ones later. Just don't include attributes that you know can't exist for a class (e.g. a person can't have a tail but who knows)\n",
        "\n",
        "In order to **access class attributes** we need an object of that class first and then call an attribute with the help of the following syntax: object_name.attribute_name (it's called **the dot notation**)\n",
        "\n",
        "let's create Vesimir character (another witcher) with attributes (e.g. weight, hair color, height and name) and a method which will be simply printing characters' names."
      ],
      "metadata": {
        "id": "P3p9PhescHpp"
      }
    },
    {
      "cell_type": "code",
      "source": [
        "class GameCharacter:\n",
        "    \n",
        "    # Frist define class attributes (properties)\n",
        "    weight = 90 \n",
        "    hair_color = 'Grey'\n",
        "    height = 180\n",
        "    name = 'Vesimir'\n",
        "    \n",
        "    # Define a method (function) for printing characters' names\n",
        "    def say():\n",
        "        print(f'Hello, My Name is {GameCharacter.name}')\n",
        "\n",
        "# Object Creation\n",
        "vesimir = GameCharacter()\n",
        "\n",
        "# Access object attributes using the dot notation\n",
        "print(\"Vesimir's Name: \" , vesimir.name)\n",
        "print(\"Vesimir's Hair Color: \", vesimir.hair_color )\n",
        "print(\"Vesimir is Saying: \", vesimir.say() )"
      ],
      "metadata": {
        "execution": {
          "iopub.status.busy": "2021-08-09T09:28:04.190913Z",
          "iopub.execute_input": "2021-08-09T09:28:04.191575Z",
          "iopub.status.idle": "2021-08-09T09:28:04.212878Z",
          "shell.execute_reply.started": "2021-08-09T09:28:04.191523Z",
          "shell.execute_reply": "2021-08-09T09:28:04.210506Z"
        },
        "trusted": true,
        "id": "C18R1C2HcHpp",
        "outputId": "c0e3d725-47d8-4bdd-8f20-760ea4dfbd0d"
      },
      "execution_count": null,
      "outputs": [
        {
          "name": "stdout",
          "text": "Vesimir's Name:  Vesimir\nVesimir's Hair Color:  Grey\n",
          "output_type": "stream"
        },
        {
          "traceback": [
            "\u001b[0;31m---------------------------------------------------------------------------\u001b[0m",
            "\u001b[0;31mTypeError\u001b[0m                                 Traceback (most recent call last)",
            "\u001b[0;32m<ipython-input-23-4833ae967556>\u001b[0m in \u001b[0;36m<module>\u001b[0;34m\u001b[0m\n\u001b[1;32m     17\u001b[0m \u001b[0mprint\u001b[0m\u001b[0;34m(\u001b[0m\u001b[0;34m\"Vesimir's Name: \"\u001b[0m \u001b[0;34m,\u001b[0m \u001b[0mvesimir\u001b[0m\u001b[0;34m.\u001b[0m\u001b[0mname\u001b[0m\u001b[0;34m)\u001b[0m\u001b[0;34m\u001b[0m\u001b[0;34m\u001b[0m\u001b[0m\n\u001b[1;32m     18\u001b[0m \u001b[0mprint\u001b[0m\u001b[0;34m(\u001b[0m\u001b[0;34m\"Vesimir's Hair Color: \"\u001b[0m\u001b[0;34m,\u001b[0m \u001b[0mvesimir\u001b[0m\u001b[0;34m.\u001b[0m\u001b[0mhair_color\u001b[0m \u001b[0;34m)\u001b[0m\u001b[0;34m\u001b[0m\u001b[0;34m\u001b[0m\u001b[0m\n\u001b[0;32m---> 19\u001b[0;31m \u001b[0mprint\u001b[0m\u001b[0;34m(\u001b[0m\u001b[0;34m\"Vesimir is Saying: \"\u001b[0m\u001b[0;34m,\u001b[0m \u001b[0mvesimir\u001b[0m\u001b[0;34m.\u001b[0m\u001b[0msay\u001b[0m\u001b[0;34m(\u001b[0m\u001b[0;34m)\u001b[0m \u001b[0;34m)\u001b[0m\u001b[0;34m\u001b[0m\u001b[0;34m\u001b[0m\u001b[0m\n\u001b[0m",
            "\u001b[0;31mTypeError\u001b[0m: say() takes 0 positional arguments but 1 was given"
          ],
          "ename": "TypeError",
          "evalue": "say() takes 0 positional arguments but 1 was given",
          "output_type": "error"
        }
      ]
    },
    {
      "cell_type": "markdown",
      "source": [
        "### From Errors to Success!\n",
        "Don't afraid of making mistakes. Make them! The more you make, the better and always experiment with the code. Try to think what will happen if you rewrite the code or change the logic. In other words, experiments are the best way for successful coding.\n",
        "\n",
        "### Why We Got the Error?\n",
        "The message says that the method takes 0 parameters but we've provided one. How come? Let's dive deeper.\n",
        "The reason is that when we define an object, its attributes and methods can be found only in its class from which can be inherited **many objects**. Thus, when a method is being called, it must **take a certain object** as an argument which then will be processed. The logic may be described like that:\n",
        " 1. Look for say method of vesimir object -> can't find; \n",
        " 2. Look for the method in class GameCharacter -> find it;\n",
        " 3. Give the current object to the methods, in other words, say(vesimir);\n",
        " 4. But say methods doesn't take any parameters, thus an error occurs\n",
        " \n",
        "As a linkage between objects and methods, a keyword **self** is used"
      ],
      "metadata": {
        "id": "w_eDoeV3cHpq"
      }
    },
    {
      "cell_type": "code",
      "source": [
        "# Fixing the error \n",
        "class GameCharacter:\n",
        "    \n",
        "    weight = 90 \n",
        "    hair_color = 'Grey'\n",
        "    height = 180\n",
        "    name = 'Vesimir'\n",
        "    \n",
        "    # This time we provide self argument\n",
        "    def say(self):\n",
        "        print(f'Hello, My Name is {self.name}')\n",
        "            \n",
        "vesimir = GameCharacter()\n",
        "\n",
        "print(\"Vesimir's Name: \" , vesimir.name)\n",
        "print(\"Vesimir's Hair Color: \", vesimir.hair_color)\n",
        "print(\"Vesimir is Saying: \", vesimir.say())"
      ],
      "metadata": {
        "execution": {
          "iopub.status.busy": "2021-08-09T09:28:05.368795Z",
          "iopub.execute_input": "2021-08-09T09:28:05.369229Z",
          "iopub.status.idle": "2021-08-09T09:28:05.377023Z",
          "shell.execute_reply.started": "2021-08-09T09:28:05.369191Z",
          "shell.execute_reply": "2021-08-09T09:28:05.376149Z"
        },
        "trusted": true,
        "id": "BYaUGIj1cHpq",
        "outputId": "96eaf366-7cda-4aa0-d79b-da803f13f706"
      },
      "execution_count": null,
      "outputs": [
        {
          "name": "stdout",
          "text": "Vesimir's Name:  Vesimir\nVesimir's Hair Color:  Grey\nHello, My Name is Vesimir\nVesimir is Saying:  None\n",
          "output_type": "stream"
        }
      ]
    },
    {
      "cell_type": "markdown",
      "source": [
        "Now everything looks fine. Each new object will be linked with a method with the help of **self keyword** and the error won't be raised anymore. Awesome!!! \n",
        "\n",
        "By the way, do you know why we got Vesimir is Saying:  None? Well, this is because the **function say()** doesn't return anything, **thus it returns None.**\n",
        "\n",
        "### <a id=\"2.2\">2.2 Class Built-in Attributes and Methods</a>\n",
        "For each class, there are attributes and methods that had been predefined (built-in)\n",
        "\n",
        "- **Built-in Attributes:**\n",
        "    - \\_\\_name__ - returns a class name;\n",
        "    - \\_\\_doc__ - returns description of a class (documentation);\n",
        "    - \\_\\_dict__ - returns a dictionary of local variables (attributes) for an object/class;\n",
        "    \n",
        "- **Built-in Functions:**\n",
        "    - getattr(obj, 'name') - returns an attribute value of an object;\n",
        "    - setattr(obj, 'name', value) - set a new value for an attribute;\n",
        "    - delattr(obj, 'name') - deletes an attribute; \n",
        "    - hasattr(obj, 'name') - checks if an object has an attribute; \n",
        "    - dir(obj or a class) - returns a complete set of attributes for an object or a class;\n",
        "    - isinstance(obj, class) - checks whether an object is an instance of a certain class"
      ],
      "metadata": {
        "id": "AKfJfoeBcHpq"
      }
    },
    {
      "cell_type": "code",
      "source": [
        "# Let's demonstrate built-in attributes\n",
        "print('Name of the Class: ', GameCharacter.__name__)\n",
        "print('Description of the Class: ', GameCharacter.__doc__)\n",
        "print('All Local Variables of the Class: ', GameCharacter.__dict__)\n",
        "print('All Local Variables of the Object: ', vesimir.__dict__)"
      ],
      "metadata": {
        "execution": {
          "iopub.status.busy": "2021-08-09T09:28:05.884817Z",
          "iopub.execute_input": "2021-08-09T09:28:05.885329Z",
          "iopub.status.idle": "2021-08-09T09:28:05.893151Z",
          "shell.execute_reply.started": "2021-08-09T09:28:05.885282Z",
          "shell.execute_reply": "2021-08-09T09:28:05.892240Z"
        },
        "trusted": true,
        "id": "Uzsryu7fcHpr",
        "outputId": "3d9ca4d2-9378-48a6-fbb7-09f8c37fe988"
      },
      "execution_count": null,
      "outputs": [
        {
          "name": "stdout",
          "text": "Name of the Class:  GameCharacter\nDescription of the Class:  None\nAll Local Variables of the Class:  {'__module__': '__main__', 'weight': 90, 'hair_color': 'Grey', 'height': 180, 'name': 'Vesimir', 'say': <function GameCharacter.say at 0x7f845a6115f0>, '__dict__': <attribute '__dict__' of 'GameCharacter' objects>, '__weakref__': <attribute '__weakref__' of 'GameCharacter' objects>, '__doc__': None}\nAll Local Variables of the Object:  {}\n",
          "output_type": "stream"
        }
      ]
    },
    {
      "cell_type": "markdown",
      "source": [
        "Here we can notice that vesimir object doesn't have any local attributes and this is true. Only GameCharacter class has local attributes. To define local variables for an object we have to either define a constructor (will be covered later) or assign object attributes explicitly. For example, below we've set a new attribute value **weight** and can delete only this attribute because other attributes exist only for the class. However, they can be accessed via the object. Keep it in mind!"
      ],
      "metadata": {
        "id": "wx1XREYRcHpr"
      }
    },
    {
      "cell_type": "code",
      "source": [
        "# Let's demonstrate built-in methods\n",
        "print(\"Vesimir's Height: \", getattr(vesimir, 'height'))\n",
        "\n",
        "print(\"Setting a New Value For Vesimir's Weight: \", setattr(vesimir, 'weight', 85))\n",
        "print(\"New Vesimir's Weight: \", getattr(vesimir, 'weight'))\n",
        "\n",
        "print('Does Vesimir Has hair_color Attribute: ', hasattr(vesimir, 'hair_color'))\n",
        "print('Deleting Attribute hair_color: ', delattr(vesimir, 'weight'))\n",
        "\n",
        "print('Does Vesimir belong to GameCharacter Class: ', isinstance(vesimir, GameCharacter))"
      ],
      "metadata": {
        "execution": {
          "iopub.status.busy": "2021-08-09T09:28:06.159940Z",
          "iopub.execute_input": "2021-08-09T09:28:06.160315Z",
          "iopub.status.idle": "2021-08-09T09:28:06.169119Z",
          "shell.execute_reply.started": "2021-08-09T09:28:06.160283Z",
          "shell.execute_reply": "2021-08-09T09:28:06.167840Z"
        },
        "trusted": true,
        "id": "diekdGnCcHpr",
        "outputId": "6c8fd807-d134-4205-ba2a-345ed2b11ae8"
      },
      "execution_count": null,
      "outputs": [
        {
          "name": "stdout",
          "text": "Vesimir's Height:  180\nSetting a New Value For Vesimir's Weight:  None\nNew Vesimir's Weight:  85\nDoes Vesimir Has hair_color Attribute:  True\nDeleting Attribute hair_color:  None\nDoes Vesimir belong to GameCharacter Class:  True\n",
          "output_type": "stream"
        }
      ]
    },
    {
      "cell_type": "markdown",
      "source": [
        "### <a id=\"2.3\">2.3 Class Attributes Changing</a>\n",
        "**Each attribute of a class can be easily changed.** All we need is just access a certain attribute and provide a new value. Let's demonstrate that by changing the attribute **weight:**"
      ],
      "metadata": {
        "id": "eLC-Fr1mcHps"
      }
    },
    {
      "cell_type": "code",
      "source": [
        "# Suppose Vesimir's weight a week ago\n",
        "print(\"Vesimir's Weight a Week Ago: \", vesimir.weight)\n",
        "\n",
        "# Let's change weight value\n",
        "vesimir.weight = 100\n",
        "print(\"Current Vesimir's Weight: \", vesimir.weight)"
      ],
      "metadata": {
        "execution": {
          "iopub.status.busy": "2021-08-09T09:28:06.484301Z",
          "iopub.execute_input": "2021-08-09T09:28:06.484699Z",
          "iopub.status.idle": "2021-08-09T09:28:06.490569Z",
          "shell.execute_reply.started": "2021-08-09T09:28:06.484660Z",
          "shell.execute_reply": "2021-08-09T09:28:06.489747Z"
        },
        "trusted": true,
        "id": "Ztayc2LNcHps",
        "outputId": "c261f12b-093b-4739-9684-25398f00cd5c"
      },
      "execution_count": null,
      "outputs": [
        {
          "name": "stdout",
          "text": "Vesimir's Weight a Week Ago:  90\nCurrent Vesimir's Weight:  100\n",
          "output_type": "stream"
        }
      ]
    },
    {
      "cell_type": "markdown",
      "source": [
        "### <a id=\"2.4\">2.4 Creating Attributes Outside the Class. Is It Worth Doing?</a>  \n",
        "We can not only change current attribute values but also create new ones. However, it isn't recommended as introduces chaos in the system (i.e. objects of the same class will be different in terms of attributes)"
      ],
      "metadata": {
        "id": "mOzUICQOcHps"
      }
    },
    {
      "cell_type": "code",
      "source": [
        "# Let's create a new bool attribute: has_a_hourse\n",
        "vesimir.has_a_hourse = True\n",
        "\n",
        "print('Does Vesimir Has a Hourse: ', vesimir.has_a_hourse)\n",
        "# We've just defined the new attribute though it hasn't been defined in a class previously"
      ],
      "metadata": {
        "execution": {
          "iopub.status.busy": "2021-08-09T09:28:06.810274Z",
          "iopub.execute_input": "2021-08-09T09:28:06.810623Z",
          "iopub.status.idle": "2021-08-09T09:28:06.816262Z",
          "shell.execute_reply.started": "2021-08-09T09:28:06.810594Z",
          "shell.execute_reply": "2021-08-09T09:28:06.815229Z"
        },
        "trusted": true,
        "id": "UUXyKG3XcHpt",
        "outputId": "f5d6eb44-0d63-4b82-c933-a592556803a9"
      },
      "execution_count": null,
      "outputs": [
        {
          "name": "stdout",
          "text": "Does Vesimir Has a Hourse:  True\n",
          "output_type": "stream"
        }
      ]
    },
    {
      "cell_type": "markdown",
      "source": [
        "### <a id=\"2.5\">2.5 Main points of the chapter</a>\n",
        "- **Attributes** are variables;\n",
        "- **Methods** are functions;\n",
        "- Attributes and methods are called by using **the dot notation;**\n",
        "- **self** argument is a linkage between methods and objects;\n",
        "- If a method doesn't take in an object, it's a **static method;**\n",
        "- Static methods are called by using a special decorator (<a href='#9.a'>9. Decorators</a>) **@static method;** \n",
        "- New attributes that haven't been defined in a class can be created. However, it leads to inconsistency.\n",
        "\n",
        "### <a id=\"3\">3. Constructor and Destructor. Who Are They?</a>\n",
        "### <a id=\"3.1\">3.1 Constructor. Let's Start Building!</a>\n",
        "We are already familiar with the attributes of a class. We can build as many new objects as we want but here we are facing a problem. Although objects will belong to one class, they will be different in terms of attribute values. If we look at our previous implementation, we can notice that all the attributes are predefined and we can't change them when initializing an object. It's inconvenient and creates many problems. Any ideas?\n",
        "\n",
        "Well, why not to define a special method in a class for changing/initializing the attributes. Sounds like a good idea. Let's implement that!"
      ],
      "metadata": {
        "id": "5GjtEUp3cHpt"
      }
    },
    {
      "cell_type": "code",
      "source": [
        "class GameCharacter:\n",
        "    \n",
        "    # Method for setting/initializing attribute values\n",
        "    def set_attributes(self, name, weight):\n",
        "        self.name = name\n",
        "        self.weight = weight\n",
        "\n",
        "# Creation of Vesimir and Geralt characters without any attributes\n",
        "vesimir = GameCharacter()\n",
        "geralt = GameCharacter()\n",
        "\n",
        "# Setting attributes for Vesimir and Geralt\n",
        "vesimir.set_attributes(name = 'Vesimir', weight = 100)\n",
        "geralt.set_attributes(name = 'Geralt', weight = 90)\n",
        "\n",
        "# Let's find out the attributes of the objects\n",
        "print(f\"Vesimir's Name: {vesimir.name}\\nVesimir's Weight: {vesimir.weight}\")\n",
        "print('\\n')\n",
        "print(f\"Geralt's Name: {geralt.name}\\nGeralt's Weight: {geralt.weight}\")"
      ],
      "metadata": {
        "execution": {
          "iopub.status.busy": "2021-08-09T09:28:07.093706Z",
          "iopub.execute_input": "2021-08-09T09:28:07.094072Z",
          "iopub.status.idle": "2021-08-09T09:28:07.104194Z",
          "shell.execute_reply.started": "2021-08-09T09:28:07.094021Z",
          "shell.execute_reply": "2021-08-09T09:28:07.103198Z"
        },
        "trusted": true,
        "id": "cyd5nXaDcHpt",
        "outputId": "c78559f8-0c6b-4976-c638-df40feaad19c"
      },
      "execution_count": null,
      "outputs": [
        {
          "name": "stdout",
          "text": "Vesimir's Name: Vesimir\nVesimir's Weight: 100\n\n\nGeralt's Name: Geralt\nGeralt's Weight: 90\n",
          "output_type": "stream"
        }
      ]
    },
    {
      "cell_type": "markdown",
      "source": [
        "Method **set_attributes()** enables setting attribute values for objects. Unfortunately, we have to **call the method every time we create a new object.** Luckily, in Python there is a special method on this case it's called **constructor**.\n",
        "\n",
        "Constructor is a method called automatically when an object is being created. Besides, it's a **special method** and has the following syntax:\n",
        "**\\_\\_init__(self, params)**\n",
        "\n",
        "In Python **methods with underscores** belong to a **special group of methods** called **overloading or magic methods**. We don't have to call these methods explicitly, **they are called automatically** when an object takes part in some action (e.g. when an object is being created **\\_\\_init__()** method is called and builds an object with predefined attributes)\n",
        "\n",
        "Let's define a constructor for the class GameCharacter:"
      ],
      "metadata": {
        "id": "GtdkDq-2cHpu"
      }
    },
    {
      "cell_type": "code",
      "source": [
        "class GameCharacter:\n",
        "    \n",
        "    # Create the constructor of the class. For simplicity,\n",
        "    # let's leave only name and hair_color attributes\n",
        "    def __init__(self, name, hair_color):\n",
        "        self.name = name\n",
        "        self.hair_color = hair_color\n",
        "        \n",
        "# Above we've created the constructor method. \n",
        "# It will be called automatically when an object is being created.\n",
        "# The last thing to do is only enumerate arguments when creating an object\n",
        "\n",
        "# Let's create the main game characters with unique attributes \n",
        "vesimir = GameCharacter(name = 'Vesimir', hair_color = 'Grey')\n",
        "geralt = GameCharacter(name = 'Geralt', hair_color = 'White')\n",
        "ciri = GameCharacter(name = 'Ciri', hair_color = 'White')\n",
        "\n",
        "print(\"Ciri's Hair Color: \", ciri.hair_color)\n",
        "print(\"Geralt's Name: \", geralt.name)\n",
        "print(\"Vesimir's Hair Color: \", vesimir.hair_color)"
      ],
      "metadata": {
        "execution": {
          "iopub.status.busy": "2021-08-09T09:28:07.551338Z",
          "iopub.execute_input": "2021-08-09T09:28:07.552013Z",
          "iopub.status.idle": "2021-08-09T09:28:07.562325Z",
          "shell.execute_reply.started": "2021-08-09T09:28:07.551947Z",
          "shell.execute_reply": "2021-08-09T09:28:07.561022Z"
        },
        "trusted": true,
        "id": "ZOGsUngtcHpu",
        "outputId": "7e982cd5-ec65-42a1-b98c-7764c2538ead"
      },
      "execution_count": null,
      "outputs": [
        {
          "name": "stdout",
          "text": "Ciri's Hair Color:  White\nGeralt's Name:  Geralt\nVesimir's Hair Color:  Grey\n",
          "output_type": "stream"
        }
      ]
    },
    {
      "cell_type": "markdown",
      "source": [
        "We've successfully created 3 main game characters: Ciri, Geralt and Vesimir. We not only created them but also defined their attributes. Rember that you can define **default arguments in a method.** In this case, you have to pass only obligatory arguments in a method, **default values can be omitted.**"
      ],
      "metadata": {
        "id": "DRHlR1vQcHpv"
      }
    },
    {
      "cell_type": "code",
      "source": [
        "# Let's experiment. Let's say on average all game characters have height = 179\n",
        "# Set them by default\n",
        "class GameCharacter:\n",
        "    \n",
        "    # Can notice that the argument height has a default value \n",
        "    def __init__(self, name, hair_color, height = 179):\n",
        "        self.name = name\n",
        "        self.hair_color = hair_color\n",
        "        self.height = height\n",
        "        \n",
        "# Now when creating an object we don't have to provide the height attribute.\n",
        "# It will be set to its default value\n",
        "vesimir = GameCharacter(name = 'Vesimir', hair_color = 'Grey')\n",
        "print(\"Vesimir's Height: \", vesimir.height)"
      ],
      "metadata": {
        "execution": {
          "iopub.status.busy": "2021-08-09T09:28:07.746891Z",
          "iopub.execute_input": "2021-08-09T09:28:07.747290Z",
          "iopub.status.idle": "2021-08-09T09:28:07.755768Z",
          "shell.execute_reply.started": "2021-08-09T09:28:07.747256Z",
          "shell.execute_reply": "2021-08-09T09:28:07.754159Z"
        },
        "trusted": true,
        "id": "KU5W1yW4cHpv",
        "outputId": "87755156-9065-4e72-f38b-1d96e6268338"
      },
      "execution_count": null,
      "outputs": [
        {
          "name": "stdout",
          "text": "Vesimir's Height:  179\n",
          "output_type": "stream"
        }
      ]
    },
    {
      "cell_type": "markdown",
      "source": [
        "But here I must say a few words. In fact, **\\_\\_init__()** is not a constructor of a class, it just initializes created objects.\n",
        "\n",
        "**Objects are being created with the method \\_\\_new__()**\n",
        "\n",
        "For more info, check the following article: https://spyhce.com/blog/understanding-new-and-init\n",
        "\n",
        "### <a id=\"3.2\">3.2 Destructor. Who is Going to be Destructed?</a>\n",
        "It's obvious that if we can create then we can destruct as well. In Python, there is a special method for this purpose.\n",
        "\n",
        "**\\_\\_del__()** is a special method and it's responsible for deleting the objects (i.e. it's a destructor of a class)"
      ],
      "metadata": {
        "id": "nfN2ARh4cHpv"
      }
    },
    {
      "cell_type": "code",
      "source": [
        "# Let's demonstrate constructor and destructor methods in action\n",
        "class GameCharacter:\n",
        "    \n",
        "    # Define the constructor of the class\n",
        "    def __init__(self, name, hair_color, height = 179):\n",
        "        self.name = name\n",
        "        self.hair_color = hair_color\n",
        "        self.height = height\n",
        "        \n",
        "    # Define the destructor of the class\n",
        "    def __del__(self):\n",
        "        print(f'Game Character {self.name} Was Deleted')\n",
        "        \n",
        "geralt = GameCharacter(name = 'Geralt', hair_color = 'White', height = 180)\n",
        "vesimir = GameCharacter(name = 'Vesimir', hair_color = 'Grey', height = 180)\n",
        "\n",
        "# Let's delete Vesimir\n",
        "del vesimir "
      ],
      "metadata": {
        "execution": {
          "iopub.status.busy": "2021-08-09T09:28:08.101775Z",
          "iopub.execute_input": "2021-08-09T09:28:08.102253Z",
          "iopub.status.idle": "2021-08-09T09:28:08.112393Z",
          "shell.execute_reply.started": "2021-08-09T09:28:08.102207Z",
          "shell.execute_reply": "2021-08-09T09:28:08.111188Z"
        },
        "trusted": true,
        "id": "OwCNp1v2cHpv",
        "outputId": "0343ce39-e223-4549-88df-1c1dd5393a86"
      },
      "execution_count": null,
      "outputs": [
        {
          "name": "stdout",
          "text": "Game Character Vesimir Was Deleted\n",
          "output_type": "stream"
        }
      ]
    },
    {
      "cell_type": "markdown",
      "source": [
        "We've defined the constructor and the destructor methods of the class. As we already know, methods with underscores are special and they are called automatically when an object takes part in a certain operation (e.g. object creation - **\\_\\_init__()**, object deletion - **\\_\\_del__()** ).\n",
        "\n",
        "Above we've deleted game character Vesimir and can't access the object any more. Have a look:"
      ],
      "metadata": {
        "id": "IxKtCY2scHpw"
      }
    },
    {
      "cell_type": "code",
      "source": [
        "# Geralt still exists\n",
        "geralt.hair_color"
      ],
      "metadata": {
        "execution": {
          "iopub.status.busy": "2021-08-09T09:28:08.367559Z",
          "iopub.execute_input": "2021-08-09T09:28:08.367924Z",
          "iopub.status.idle": "2021-08-09T09:28:08.374282Z",
          "shell.execute_reply.started": "2021-08-09T09:28:08.367893Z",
          "shell.execute_reply": "2021-08-09T09:28:08.373188Z"
        },
        "trusted": true,
        "id": "JK9MkF5rcHpw",
        "outputId": "0d5152ef-42d4-4847-c2ec-305565d06623"
      },
      "execution_count": null,
      "outputs": [
        {
          "execution_count": 33,
          "output_type": "execute_result",
          "data": {
            "text/plain": "'White'"
          },
          "metadata": {}
        }
      ]
    },
    {
      "cell_type": "code",
      "source": [
        "# However, Vesimir doesn't exist any more.\n",
        "# If we try to call vesimir object, an error will be raised\n",
        "vesimir"
      ],
      "metadata": {
        "execution": {
          "iopub.status.busy": "2021-08-09T09:28:08.614039Z",
          "iopub.execute_input": "2021-08-09T09:28:08.614423Z",
          "iopub.status.idle": "2021-08-09T09:28:08.630312Z",
          "shell.execute_reply.started": "2021-08-09T09:28:08.614390Z",
          "shell.execute_reply": "2021-08-09T09:28:08.628183Z"
        },
        "trusted": true,
        "id": "76t44vd6cHpw",
        "outputId": "c4959278-e201-4588-bf3f-1a4ca8beec91"
      },
      "execution_count": null,
      "outputs": [
        {
          "traceback": [
            "\u001b[0;31m---------------------------------------------------------------------------\u001b[0m",
            "\u001b[0;31mNameError\u001b[0m                                 Traceback (most recent call last)",
            "\u001b[0;32m<ipython-input-34-eefa797665c4>\u001b[0m in \u001b[0;36m<module>\u001b[0;34m\u001b[0m\n\u001b[1;32m      1\u001b[0m \u001b[0;31m# However, Vesimir doesn't exist any more.\u001b[0m\u001b[0;34m\u001b[0m\u001b[0;34m\u001b[0m\u001b[0;34m\u001b[0m\u001b[0m\n\u001b[1;32m      2\u001b[0m \u001b[0;31m# If we try to call vesimir object, an error will be raised\u001b[0m\u001b[0;34m\u001b[0m\u001b[0;34m\u001b[0m\u001b[0;34m\u001b[0m\u001b[0m\n\u001b[0;32m----> 3\u001b[0;31m \u001b[0mvesimir\u001b[0m\u001b[0;34m\u001b[0m\u001b[0;34m\u001b[0m\u001b[0m\n\u001b[0m",
            "\u001b[0;31mNameError\u001b[0m: name 'vesimir' is not defined"
          ],
          "ename": "NameError",
          "evalue": "name 'vesimir' is not defined",
          "output_type": "error"
        }
      ]
    },
    {
      "cell_type": "markdown",
      "source": [
        "### <a id=\"3.3\">3.3 Attributes Creation Control</a>\n",
        "We already know that new attributes can be created though we haven't defined them explicitly in a class.\n",
        "\n",
        "Is it possible to control which exactly attributes can be created in a class? \n",
        "\n",
        "Yes! This is where **\\_\\_slots__** attribute comes into play. It checks attributes and if some attributes haven't been defined in **\\_\\_slots__**, an error is raised and new attributes aren't created. As a result, attributes in a class will be more consistent.\n",
        "\n",
        "Let's have a look at the following example:"
      ],
      "metadata": {
        "id": "FubHHBYZcHpx"
      }
    },
    {
      "cell_type": "code",
      "source": [
        "# Let's deprecate creating new attributes that aren't defined in a class\n",
        "class GameCharacter:\n",
        "    \n",
        "    # Here we allow only certain attributes to be created\n",
        "    __slots__ = ('name', 'hair_color', 'height')\n",
        "    \n",
        "    # Constructor \n",
        "    def __init__(self, name, hair_color, height):\n",
        "        self.name = name\n",
        "        self.hair_color = hair_color\n",
        "        self.height = height   \n",
        "           \n",
        "# Let's call allowed attribute\n",
        "geralt = GameCharacter(name = 'Geralt', hair_color = 'White', height = 180)\n",
        "geralt.hair_color"
      ],
      "metadata": {
        "execution": {
          "iopub.status.busy": "2021-08-09T09:28:09.172331Z",
          "iopub.execute_input": "2021-08-09T09:28:09.172689Z",
          "iopub.status.idle": "2021-08-09T09:28:09.182502Z",
          "shell.execute_reply.started": "2021-08-09T09:28:09.172652Z",
          "shell.execute_reply": "2021-08-09T09:28:09.181334Z"
        },
        "trusted": true,
        "id": "80BX376WcHpx",
        "outputId": "a07d0605-1396-4d63-c57f-b915ee0445d6"
      },
      "execution_count": null,
      "outputs": [
        {
          "name": "stdout",
          "text": "Game Character Geralt Was Deleted\n",
          "output_type": "stream"
        },
        {
          "execution_count": 35,
          "output_type": "execute_result",
          "data": {
            "text/plain": "'White'"
          },
          "metadata": {}
        }
      ]
    },
    {
      "cell_type": "markdown",
      "source": [
        "**\\_\\_slots__** checks whether new attributes are allowed or not. If a certain attribute is allowed, an attribute is created, otherwise not. Have a look:"
      ],
      "metadata": {
        "id": "y3wtr2YwcHpx"
      }
    },
    {
      "cell_type": "code",
      "source": [
        "# New attribute creation \n",
        "geralt.has_sword = True"
      ],
      "metadata": {
        "execution": {
          "iopub.status.busy": "2021-08-09T09:28:09.255372Z",
          "iopub.execute_input": "2021-08-09T09:28:09.255745Z",
          "iopub.status.idle": "2021-08-09T09:28:09.272987Z",
          "shell.execute_reply.started": "2021-08-09T09:28:09.255712Z",
          "shell.execute_reply": "2021-08-09T09:28:09.271418Z"
        },
        "trusted": true,
        "id": "6t3qnzWtcHpy",
        "outputId": "3322fba6-1b0b-4e5f-f7ef-ffb4711882ba"
      },
      "execution_count": null,
      "outputs": [
        {
          "traceback": [
            "\u001b[0;31m---------------------------------------------------------------------------\u001b[0m",
            "\u001b[0;31mAttributeError\u001b[0m                            Traceback (most recent call last)",
            "\u001b[0;32m<ipython-input-36-fb5e8cdb0244>\u001b[0m in \u001b[0;36m<module>\u001b[0;34m\u001b[0m\n\u001b[1;32m      1\u001b[0m \u001b[0;31m# New attribute creation\u001b[0m\u001b[0;34m\u001b[0m\u001b[0;34m\u001b[0m\u001b[0;34m\u001b[0m\u001b[0m\n\u001b[0;32m----> 2\u001b[0;31m \u001b[0mgeralt\u001b[0m\u001b[0;34m.\u001b[0m\u001b[0mhas_sword\u001b[0m \u001b[0;34m=\u001b[0m \u001b[0;32mTrue\u001b[0m\u001b[0;34m\u001b[0m\u001b[0;34m\u001b[0m\u001b[0m\n\u001b[0m",
            "\u001b[0;31mAttributeError\u001b[0m: 'GameCharacter' object has no attribute 'has_sword'"
          ],
          "ename": "AttributeError",
          "evalue": "'GameCharacter' object has no attribute 'has_sword'",
          "output_type": "error"
        }
      ]
    },
    {
      "cell_type": "markdown",
      "source": [
        "Besides, I'd like to point out one point. Sometimes you may see the following constructor:"
      ],
      "metadata": {
        "id": "E3X5GSmOcHpy"
      }
    },
    {
      "cell_type": "code",
      "source": [
        "class GameCharacter:\n",
        "    \n",
        "    __slots__ = ('name', 'hair_color', 'height')\n",
        "    \n",
        "    # We can define expected values in the constructor (the notations)\n",
        "    def __init__(self, name:str = 'geralt', hair_color:str = 'white', height:int = 180):\n",
        "        self.name = name\n",
        "        self.hair_color = hair_color\n",
        "        self.height = height   "
      ],
      "metadata": {
        "execution": {
          "iopub.status.busy": "2021-08-09T09:28:09.375716Z",
          "iopub.execute_input": "2021-08-09T09:28:09.376093Z",
          "iopub.status.idle": "2021-08-09T09:28:09.383025Z",
          "shell.execute_reply.started": "2021-08-09T09:28:09.376039Z",
          "shell.execute_reply": "2021-08-09T09:28:09.381676Z"
        },
        "trusted": true,
        "id": "b8eCSkxFcHpy"
      },
      "execution_count": null,
      "outputs": []
    },
    {
      "cell_type": "markdown",
      "source": [
        "When you see something like that then it's called the **notations**. Notations tell which types and values a constructor is expected to get. It doesn't mean that it's impossible to provide other types, not at all. It just tells what types we should provide.\n",
        "\n",
        "### <a id=\"3.4\">3.4 Main points of the chapter</a>\n",
        "- **Constructor** is a method which is called automatically when an object is being created (e.g. **\\_\\_init__()** );\n",
        "- **Destructor** is a method which is called automatically when an object is being deleted (e.g. **\\_\\_del__()** );\n",
        "- self.name, self.weight... are **attributes/fields** whereas name, weight, heigh... are **parameters;**\n",
        "- Having **default parameters** in any methods, make sure you follow the order: **non - default parameters first, then default parameters;**\n",
        "- **\\_\\_init()__** has to take in **self parameter;**\n",
        "- Methods with underscores are special. They are called **methods of operator overloading or magic methods;**\n",
        "- **Magic methods** are called automatically when an object takes part in a certain operation (e.g. addition \\_\\_add__() ); \n",
        "- **Methods with the same name** override each other;\n",
        "- **Constructor** allows predefining attributes of objects;\n",
        "- **\\_\\_slots__ field** allows only certain attributes to be created\n",
        "\n",
        "### <a id=\"4\">4. Class and Object Attributes. Scope of Variables</a>\n",
        "Before we dive deeper we have to grasp that there is a difference between the class and object attributes. Moreover, attributes have a **different access type and can be local and global.** \n",
        "\n",
        "### <a id=\"4.1\">4.1 Accessing Class and Object Attributes</a>\n",
        "First of all, you may ask: **How to distinguish class and object attributes?** \n",
        "\n",
        "Well, the answer is simple. All variables that are defined **inside the methods are object attributes** and all the rest **(outside the methods) is class attributes.**\n",
        "\n",
        "Usually, class attributes are placed right after the class name (at the top) and shared by all objects. "
      ],
      "metadata": {
        "id": "ZG_t-Ni-cHpy"
      }
    },
    {
      "cell_type": "code",
      "source": [
        "class GameCharacter:\n",
        "    \n",
        "    # This attribute will belong to the class.\n",
        "    class_name = 'Game Character'\n",
        "    \n",
        "    # All attributes inside this method will belong to objects\n",
        "    def __init__(self, name, hair_color, height):\n",
        "        self.name = name\n",
        "        self.hair_color = hair_color\n",
        "        self.height = height\n",
        "        \n",
        "geralt = GameCharacter(name = 'Geralt', hair_color = 'White', height = 180)"
      ],
      "metadata": {
        "execution": {
          "iopub.status.busy": "2021-08-09T09:28:09.388611Z",
          "iopub.execute_input": "2021-08-09T09:28:09.388979Z",
          "iopub.status.idle": "2021-08-09T09:28:09.402845Z",
          "shell.execute_reply.started": "2021-08-09T09:28:09.388947Z",
          "shell.execute_reply": "2021-08-09T09:28:09.401641Z"
        },
        "trusted": true,
        "id": "UWw6iCD-cHpz"
      },
      "execution_count": null,
      "outputs": []
    },
    {
      "cell_type": "markdown",
      "source": [
        "- **Class attributes** can be accessed **via an object or a class** (when there aren't any objects yet)\n",
        "- **Object attributes** can be accessed **only via an object**"
      ],
      "metadata": {
        "id": "mOAmc89WcHpz"
      }
    },
    {
      "cell_type": "code",
      "source": [
        "# Accessing the class attribute via the class and the object \n",
        "print(GameCharacter.class_name, geralt.class_name)"
      ],
      "metadata": {
        "execution": {
          "iopub.status.busy": "2021-08-09T09:28:09.459985Z",
          "iopub.execute_input": "2021-08-09T09:28:09.460372Z",
          "iopub.status.idle": "2021-08-09T09:28:09.465299Z",
          "shell.execute_reply.started": "2021-08-09T09:28:09.460338Z",
          "shell.execute_reply": "2021-08-09T09:28:09.464453Z"
        },
        "trusted": true,
        "id": "-yz9JthqcHpz",
        "outputId": "e827b53a-e344-46f9-c97e-ad3db63da70b"
      },
      "execution_count": null,
      "outputs": [
        {
          "name": "stdout",
          "text": "Game Character Game Character\n",
          "output_type": "stream"
        }
      ]
    },
    {
      "cell_type": "code",
      "source": [
        "# Accessing object attributes via the class is impossible, only via the object\n",
        "print(GameCharacter.height)"
      ],
      "metadata": {
        "execution": {
          "iopub.status.busy": "2021-08-09T09:28:09.471858Z",
          "iopub.execute_input": "2021-08-09T09:28:09.472245Z",
          "iopub.status.idle": "2021-08-09T09:28:09.491294Z",
          "shell.execute_reply.started": "2021-08-09T09:28:09.472212Z",
          "shell.execute_reply": "2021-08-09T09:28:09.489971Z"
        },
        "trusted": true,
        "id": "AdGjqzYTcHpz",
        "outputId": "9e894bb5-d4e9-4076-82fb-9afc3864e10e"
      },
      "execution_count": null,
      "outputs": [
        {
          "traceback": [
            "\u001b[0;31m---------------------------------------------------------------------------\u001b[0m",
            "\u001b[0;31mAttributeError\u001b[0m                            Traceback (most recent call last)",
            "\u001b[0;32m<ipython-input-40-c4965cb4e398>\u001b[0m in \u001b[0;36m<module>\u001b[0;34m\u001b[0m\n\u001b[1;32m      1\u001b[0m \u001b[0;31m# Accessing object attributes via the class is impossible, only via the object\u001b[0m\u001b[0;34m\u001b[0m\u001b[0;34m\u001b[0m\u001b[0;34m\u001b[0m\u001b[0m\n\u001b[0;32m----> 2\u001b[0;31m \u001b[0mprint\u001b[0m\u001b[0;34m(\u001b[0m\u001b[0mGameCharacter\u001b[0m\u001b[0;34m.\u001b[0m\u001b[0mheight\u001b[0m\u001b[0;34m)\u001b[0m\u001b[0;34m\u001b[0m\u001b[0;34m\u001b[0m\u001b[0m\n\u001b[0m",
            "\u001b[0;31mAttributeError\u001b[0m: type object 'GameCharacter' has no attribute 'height'"
          ],
          "ename": "AttributeError",
          "evalue": "type object 'GameCharacter' has no attribute 'height'",
          "output_type": "error"
        }
      ]
    },
    {
      "cell_type": "markdown",
      "source": [
        "### <a id=\"4.2\">4.2 Local Variables</a>\n",
        "Local variables in a class are variables that defined inside methods. They exist only there and can't be used outside those methods. In the above code, variables such as **name, hair_color and height are local.** We can't access them using a class name."
      ],
      "metadata": {
        "id": "Y89cSXDVcHp0"
      }
    },
    {
      "cell_type": "code",
      "source": [
        "# Accesssing the local variable \n",
        "GameCharacter.hair_color"
      ],
      "metadata": {
        "execution": {
          "iopub.status.busy": "2021-08-09T09:28:09.594207Z",
          "iopub.execute_input": "2021-08-09T09:28:09.594744Z",
          "iopub.status.idle": "2021-08-09T09:28:09.609663Z",
          "shell.execute_reply.started": "2021-08-09T09:28:09.594698Z",
          "shell.execute_reply": "2021-08-09T09:28:09.607847Z"
        },
        "trusted": true,
        "id": "DNaM7gRocHp0",
        "outputId": "18a4aac4-0748-424b-86fe-c835c336a35e"
      },
      "execution_count": null,
      "outputs": [
        {
          "traceback": [
            "\u001b[0;31m---------------------------------------------------------------------------\u001b[0m",
            "\u001b[0;31mAttributeError\u001b[0m                            Traceback (most recent call last)",
            "\u001b[0;32m<ipython-input-41-2cd2414baa63>\u001b[0m in \u001b[0;36m<module>\u001b[0;34m\u001b[0m\n\u001b[1;32m      1\u001b[0m \u001b[0;31m# Accesssing the local variable\u001b[0m\u001b[0;34m\u001b[0m\u001b[0;34m\u001b[0m\u001b[0;34m\u001b[0m\u001b[0m\n\u001b[0;32m----> 2\u001b[0;31m \u001b[0mGameCharacter\u001b[0m\u001b[0;34m.\u001b[0m\u001b[0mhair_color\u001b[0m\u001b[0;34m\u001b[0m\u001b[0;34m\u001b[0m\u001b[0m\n\u001b[0m",
            "\u001b[0;31mAttributeError\u001b[0m: type object 'GameCharacter' has no attribute 'hair_color'"
          ],
          "ename": "AttributeError",
          "evalue": "type object 'GameCharacter' has no attribute 'hair_color'",
          "output_type": "error"
        }
      ]
    },
    {
      "cell_type": "markdown",
      "source": [
        "### <a id=\"4.3\">4.3 Global Variables</a>\n",
        "**Global variables aren't defined in code blocks** (e.g. functions, statements and so forth) and can be accessed by using a class or an object."
      ],
      "metadata": {
        "id": "b4HP3gaGcHp0"
      }
    },
    {
      "cell_type": "code",
      "source": [
        "# Accesssing the global variable by using a class and an object \n",
        "print(GameCharacter.class_name, geralt.class_name)"
      ],
      "metadata": {
        "execution": {
          "iopub.status.busy": "2021-08-09T09:28:09.749321Z",
          "iopub.execute_input": "2021-08-09T09:28:09.749685Z",
          "iopub.status.idle": "2021-08-09T09:28:09.758167Z",
          "shell.execute_reply.started": "2021-08-09T09:28:09.749655Z",
          "shell.execute_reply": "2021-08-09T09:28:09.756040Z"
        },
        "trusted": true,
        "id": "pCnxfLfscHp0",
        "outputId": "ed1289b4-8ffe-49ea-a7c8-55b278417e3b"
      },
      "execution_count": null,
      "outputs": [
        {
          "name": "stdout",
          "text": "Game Character Game Character\n",
          "output_type": "stream"
        }
      ]
    },
    {
      "cell_type": "markdown",
      "source": [
        "**Important**\n",
        "\n",
        "Although **Global/Local variables** and **class/object attributes** are looking similar, they **differ in the way they are accessed.** \n",
        "\n",
        "For **global/local variables** the most important thing is the **place where they can be accessed**, whereas for **class/object attribute** the most important is **how they are accessed (by using a class/object name).** Hope you understand the difference.\n",
        "\n",
        "### <a id=\"4.4\">4.4 Main Points of the Chapter</a>\n",
        "- **Class attributes** are defined **outside methods** and can be accessed **via class or object;**\n",
        "- **Object attributes** are defined **inside methods** and can be accessed only **via an object;**\n",
        "- **Local variables/attributes** are defined **in methods or code blocks;**\n",
        "- **Global variables/attributes** are defined **outside methods or code blocks**\n",
        "\n",
        "### <a id=\"5\">5. Inheritance, Polymorphism and Encapsulation</a>\n",
        "Let's deal with this, at first sight, spooky definitions one by one starting from inheritance.\n",
        "\n",
        "### <a id=\"5.1\">5.1 Inheritance</a>\n",
        "This is just an abstraction and the sense is pretty straightforward. We've already faced with inheritance when were dealing with objects creation. An object inherits attributes and methods of its class when is being created. Taking this fact into account we can say that a new class can also inherit methods and attributes of an already existing class. This is inheritance in OOP.\n",
        "\n",
        "Alright, but why do we need that?\n",
        "\n",
        "Imagine that we have to create thousands or even millions of different game characters. Common sense guides us that all they will have something in common, plus something unique. Rewriting the same code millions of times is tedious and not a good idea, we need a better solution...and here inheritance comes into play. All we have to do is just define the main class (it's called **parental class**) with the main attributes and inherit as many classes as we want (they are called **child classes**). Child classes will have not only own unique attributes and methods but also attributes and methods from parental class or classes (yes, a child class may have not only one parental class but many). In other words, inheritance provides code \n",
        "flexibility and consistency. \n",
        "\n",
        "**To inherit a class or several classes, provide the following syntax:**\n",
        "\n",
        "new_class_name ( parental_class_1, parental_class_2, ..., parental_class_n )\n",
        "\n",
        "Now, let's practice on examples. I'm coming back to my favourite computer game.\n",
        "\n",
        "\n",
        "In the game Geralt, Ciri and Vesimir are the Witchers. There are many other different game characters (e.g. monsters, villagers, knights and so forth). Although they all are game characters, they have some unique attributes (e.g. the witchers and monsters have extraordinary abilities whereas villagers certain features of a game location (clothes, type of voice and so on))\n",
        "\n",
        "I hope you got the idea."
      ],
      "metadata": {
        "id": "mwpJbsz_cHp1"
      }
    },
    {
      "cell_type": "code",
      "source": [
        "# Again define the main GameCharacter Class (Parental Class)\n",
        "class GameCharacter:\n",
        "    \n",
        "    # Define the constructor\n",
        "    def __init__(self, name, hair_color, height):\n",
        "        self.name = name\n",
        "        self.hair_color = hair_color\n",
        "        self.height = height\n",
        "        \n",
        "    # Define 2 main methods for greeting and saying good bye  \n",
        "    def greeting(self):\n",
        "        return f'I am glad to see you, my name is {self.name}'\n",
        "        \n",
        "    def farewell(self):\n",
        "        return 'Farewell'\n",
        "\n",
        "# Define Witcher Class (child class)\n",
        "# Let's create a method signs_ability that prints which signs the Witcher has\n",
        "class Witcher(GameCharacter):\n",
        "    \n",
        "    # No need for constructor because it is being inherited from the parental class.\n",
        "    # Define a unique method. Only the witchers have sign abilities\n",
        "    def signs_ability(self):\n",
        "        signs = ['Axii','Qven','Ignii','Aard','Yrden']\n",
        "        return signs\n",
        "\n",
        "# Create a new object \n",
        "geralt = Witcher(name = 'Geralt', hair_color = 'White', height = 180)\n",
        "\n",
        "# Now Geralt belongs to Witcher Class as well as GameCharacter class\n",
        "# Let's get info about signs\n",
        "print(geralt.signs_ability())\n",
        "\n",
        "# Accessing other attributes from the parental class \n",
        "print(\"Geralt's Name: \", geralt.name)\n",
        "print(geralt.greeting())"
      ],
      "metadata": {
        "execution": {
          "iopub.status.busy": "2021-08-09T09:28:09.763613Z",
          "iopub.execute_input": "2021-08-09T09:28:09.764003Z",
          "iopub.status.idle": "2021-08-09T09:28:09.777388Z",
          "shell.execute_reply.started": "2021-08-09T09:28:09.763954Z",
          "shell.execute_reply": "2021-08-09T09:28:09.776296Z"
        },
        "trusted": true,
        "id": "nwq25CugcHp1",
        "outputId": "f3f6d1ef-49b7-45d3-a793-aba857d4463b"
      },
      "execution_count": null,
      "outputs": [
        {
          "name": "stdout",
          "text": "['Axii', 'Qven', 'Ignii', 'Aard', 'Yrden']\nGeralt's Name:  Geralt\nI am glad to see you, my name is Geralt\n",
          "output_type": "stream"
        }
      ]
    },
    {
      "cell_type": "markdown",
      "source": [
        "From the above code, we can see that **Witcher class** has been inherited from **GameCharacter class** and we didn't have to rewrite all the previous attributes. We just added several lines of code and initialized a new object with the unique method\n",
        "**signs_ability()** because in the game only the Witchers have extraordinary abilities with signs. To make sure that a class is a subclass of another class, use the function **issubclass()**"
      ],
      "metadata": {
        "id": "JN-ecGNEcHp1"
      }
    },
    {
      "cell_type": "code",
      "source": [
        "print('Is Withcer Class Subclass of GameCharacter Class: ', issubclass(Witcher, GameCharacter))"
      ],
      "metadata": {
        "execution": {
          "iopub.status.busy": "2021-08-09T09:28:09.824818Z",
          "iopub.execute_input": "2021-08-09T09:28:09.825211Z",
          "iopub.status.idle": "2021-08-09T09:28:09.830759Z",
          "shell.execute_reply.started": "2021-08-09T09:28:09.825174Z",
          "shell.execute_reply": "2021-08-09T09:28:09.829920Z"
        },
        "trusted": true,
        "id": "th3TBVFGcHp2",
        "outputId": "c639f7cc-993b-40f9-dd46-10c5563e62c6"
      },
      "execution_count": null,
      "outputs": [
        {
          "name": "stdout",
          "text": "Is Withcer Class Subclass of GameCharacter Class:  True\n",
          "output_type": "stream"
        }
      ]
    },
    {
      "cell_type": "markdown",
      "source": [
        "### <a id=\"5.1.1\">5.1.1 Constructor Extension</a>\n",
        "Previously, we haven't provided **\\_\\_init__()** method for **Witcher class.** In this case, Witcher class will be looking for the constructor in the parental class and will ultimately find it. We can create **\\_\\_init__()** for Witcher class as well. In this case, **\\_\\_init__()** from Witcher class will override GameCharacter **\\_\\_init__()**. In the game, the Witchers belong to different schools (e.g. Cat School, Wolf School, Bear School and others). Let's add this unique attribute in Witcher class."
      ],
      "metadata": {
        "id": "ZLFcD7accHp2"
      }
    },
    {
      "cell_type": "code",
      "source": [
        "# Let's create the constructor for Witcher class\n",
        "class Witcher(GameCharacter):\n",
        "    \n",
        "    # Geralt belongs to Wolf School  \n",
        "    def __init__(self, witcher_school = 'Wolf'):\n",
        "        self.witcher_school = witcher_school\n",
        "        \n",
        "# Access the new attribute value         \n",
        "geralt = Witcher()\n",
        "geralt.witcher_school"
      ],
      "metadata": {
        "execution": {
          "iopub.status.busy": "2021-08-09T09:28:09.867976Z",
          "iopub.execute_input": "2021-08-09T09:28:09.868376Z",
          "iopub.status.idle": "2021-08-09T09:28:09.876963Z",
          "shell.execute_reply.started": "2021-08-09T09:28:09.868340Z",
          "shell.execute_reply": "2021-08-09T09:28:09.875675Z"
        },
        "trusted": true,
        "id": "Kzur97A3cHp2",
        "outputId": "058b7e7a-8e8e-4750-d422-950c44cd5a03"
      },
      "execution_count": null,
      "outputs": [
        {
          "execution_count": 45,
          "output_type": "execute_result",
          "data": {
            "text/plain": "'Wolf'"
          },
          "metadata": {}
        }
      ]
    },
    {
      "cell_type": "markdown",
      "source": [
        "In the above code **\\_\\_init__()** from GameCharacter class has been overridden and we can't access attributes from GameCharacter class anymore."
      ],
      "metadata": {
        "id": "dn1aPYGEcHp2"
      }
    },
    {
      "cell_type": "code",
      "source": [
        "geralt.name"
      ],
      "metadata": {
        "execution": {
          "iopub.status.busy": "2021-08-09T09:28:09.944516Z",
          "iopub.execute_input": "2021-08-09T09:28:09.944899Z",
          "iopub.status.idle": "2021-08-09T09:28:09.962728Z",
          "shell.execute_reply.started": "2021-08-09T09:28:09.944858Z",
          "shell.execute_reply": "2021-08-09T09:28:09.960782Z"
        },
        "trusted": true,
        "id": "Mr9zPbijcHp3",
        "outputId": "559fe4eb-be94-4bcf-82d9-ff9949fd921e"
      },
      "execution_count": null,
      "outputs": [
        {
          "traceback": [
            "\u001b[0;31m---------------------------------------------------------------------------\u001b[0m",
            "\u001b[0;31mAttributeError\u001b[0m                            Traceback (most recent call last)",
            "\u001b[0;32m<ipython-input-46-85dac99ee49a>\u001b[0m in \u001b[0;36m<module>\u001b[0;34m\u001b[0m\n\u001b[0;32m----> 1\u001b[0;31m \u001b[0mgeralt\u001b[0m\u001b[0;34m.\u001b[0m\u001b[0mname\u001b[0m\u001b[0;34m\u001b[0m\u001b[0;34m\u001b[0m\u001b[0m\n\u001b[0m",
            "\u001b[0;31mAttributeError\u001b[0m: 'Witcher' object has no attribute 'name'"
          ],
          "ename": "AttributeError",
          "evalue": "'Witcher' object has no attribute 'name'",
          "output_type": "error"
        }
      ]
    },
    {
      "cell_type": "markdown",
      "source": [
        "However, most of the time we don't want to rewrite the parental constructor, we want to extend it! \n",
        "\n",
        "For this purpose, we just need to **call the parental constructor and then extend it** with new fields:"
      ],
      "metadata": {
        "id": "Sj4MDnvEcHp3"
      }
    },
    {
      "cell_type": "code",
      "source": [
        "class Witcher(GameCharacter):\n",
        "    \n",
        "    # As this constructor will be extended we have to provide all previous parameters\n",
        "    # Extend constructor for Witcher class. Make __init__() and enumerate all fields\n",
        "    def __init__(self, name, hair_color, height, witcher_school = 'Wolf'):\n",
        "        # Calling the parental constructor \n",
        "        GameCharacter.__init__(self, name, hair_color, height)\n",
        "        # Extend it with a new attribute\n",
        "        self.witcher_school = witcher_school\n",
        "    \n",
        "# Now we have to provide not only one but all arguments because the constructor of Witcher class has been extended by GameCharacter constructor \n",
        "geralt = Witcher(name = 'Geralt', hair_color = 'White', height = 180)\n",
        "\n",
        "# Can access not only unique but also attributes from parental constructor.\n",
        "# Thanks to the constructor extension!\n",
        "print(\"Witcher School : \", geralt.witcher_school)\n",
        "print(\"Geralt's Hair Color: \", geralt.hair_color)"
      ],
      "metadata": {
        "execution": {
          "iopub.status.busy": "2021-08-09T09:28:10.065744Z",
          "iopub.execute_input": "2021-08-09T09:28:10.066114Z",
          "iopub.status.idle": "2021-08-09T09:28:10.076559Z",
          "shell.execute_reply.started": "2021-08-09T09:28:10.066081Z",
          "shell.execute_reply": "2021-08-09T09:28:10.075220Z"
        },
        "trusted": true,
        "id": "xXkZEs5ScHp3",
        "outputId": "17515c10-3199-4ec4-9159-65a891bc3427"
      },
      "execution_count": null,
      "outputs": [
        {
          "name": "stdout",
          "text": "Witcher School :  Wolf\nGeralt's Hair Color:  White\n",
          "output_type": "stream"
        }
      ]
    },
    {
      "cell_type": "markdown",
      "source": [
        "**Important note**\n",
        "\n",
        "Above **child constructor** has been extended by parental constructor with the help of the following syntax: **class_name.\\__init__()**\n",
        "\n",
        "However, this option isn't reliable because when it comes to **multiple inheritance** the order of which parental classes are called is highly important. Wrong order introduces chaos and errors. To avoid this, use reliable construction: **super().\\_\\_init__()**. The **function super()** will go through all parental classes in the right order (the function uses special algorithm inside) \n",
        "\n",
        "### <a id=\"5.1.2\">5.1.2 Method Extension</a>\n",
        "Well, a constructor is a method like any other methods...just a bit special due to underscores (magic method). Previously, we've already extended it so that we could get access to parental attributes. Thus, we can make extensions on other functions as well. In other words, we can call parental methods in child methods and then process their results (i.e. call function inside a function)\n",
        "\n",
        "For example, I'd like to change the greeting method in Witcher class. I don't want to change it much, just add a phrase that current character is the Witcher. "
      ],
      "metadata": {
        "id": "yJw3N6IzcHp3"
      }
    },
    {
      "cell_type": "code",
      "source": [
        "class Witcher(GameCharacter):\n",
        "    \n",
        "    def __init__(self, name, hair_color, height, witcher_school = 'Wolf'):\n",
        "        # use super() this time\n",
        "        super().__init__(name, hair_color, height)\n",
        "        self.witcher_school = witcher_school\n",
        "   \n",
        "    # This method will be extended.\n",
        "    # It means that firstly it executes greeting method from GameCharacter class \n",
        "    # Then the rest code  \n",
        "    def greeting(self):\n",
        "        # Call greeting method form Parental Class (Method Extension)\n",
        "        parental_res = super().greeting()\n",
        "        # Continue executing the rest of the code \n",
        "        print(f'{parental_res}\\nI am the Withcer')\n",
        "        \n",
        "geralt = Witcher(name = 'Geralt', hair_color = 'White', height = 180)\n",
        "geralt.greeting()"
      ],
      "metadata": {
        "execution": {
          "iopub.status.busy": "2021-08-09T09:28:10.136140Z",
          "iopub.execute_input": "2021-08-09T09:28:10.136484Z",
          "iopub.status.idle": "2021-08-09T09:28:10.146426Z",
          "shell.execute_reply.started": "2021-08-09T09:28:10.136454Z",
          "shell.execute_reply": "2021-08-09T09:28:10.145252Z"
        },
        "trusted": true,
        "id": "Bp7N4iZ4cHp4",
        "outputId": "af82a89b-c235-4f19-99fd-24fbcc43263f"
      },
      "execution_count": null,
      "outputs": [
        {
          "name": "stdout",
          "text": "I am glad to see you, my name is Geralt\nI am the Withcer\n",
          "output_type": "stream"
        }
      ]
    },
    {
      "cell_type": "markdown",
      "source": [
        "Splendidly, the method **greeting()** from Witcher class has been extended!\n",
        "\n",
        "### <a id=\"5.2\">5.2 Polymorphism or Method Overriding</a> \n",
        "\n",
        "The first thing which comes up in your mind when you hear the word polymorphism is probably something that has many different forms or shapes. **Polymorphism is just an abstract term.** Basically, **polymorphism in OOP is just methods with the same names but absolutely different logic.**\n",
        "\n",
        "Surprisingly but we've already seen polymorphism in action (e.g. **\\_\\_init__()** method).\n",
        "\n",
        "Be careful, **polymorphism of a function and class methods are different terms** (polymorphism of a function isn't related to polymorphism in OOP)\n",
        "\n",
        "Let's implement polymorphism. For this purpose, simply create the method **greeting()** (the same method name but different logic). We know that the method already exists in **GameCharacter class** and defining the same method name in **Witcher class** will override the method, this is exactly what we need."
      ],
      "metadata": {
        "id": "yBM5vAaQcHp4"
      }
    },
    {
      "cell_type": "code",
      "source": [
        "# Write familiar code once again\n",
        "class Witcher(GameCharacter):\n",
        "    \n",
        "    # Constructor of the class\n",
        "    def __init__(self, name, hair_color, height, witcher_school = 'Wolf'):\n",
        "        super().__init__(name, hair_color, height)\n",
        "        self.witcher_school = witcher_school\n",
        "        \n",
        "    # Polymorphism in action.  \n",
        "    def greeting(self):\n",
        "        return 'I am the Witcher and I am Looking for the Monsters!'\n",
        "        \n",
        "geralt = Witcher(name = 'Geralt', hair_color = 'White', height = 180)\n",
        "geralt.greeting()"
      ],
      "metadata": {
        "execution": {
          "iopub.status.busy": "2021-08-09T09:28:10.228249Z",
          "iopub.execute_input": "2021-08-09T09:28:10.228647Z",
          "iopub.status.idle": "2021-08-09T09:28:10.240083Z",
          "shell.execute_reply.started": "2021-08-09T09:28:10.228608Z",
          "shell.execute_reply": "2021-08-09T09:28:10.238610Z"
        },
        "trusted": true,
        "id": "6WnajuMMcHp4",
        "outputId": "cc619d06-d35a-4443-db48-85047928678c"
      },
      "execution_count": null,
      "outputs": [
        {
          "execution_count": 49,
          "output_type": "execute_result",
          "data": {
            "text/plain": "'I am the Witcher and I am Looking for the Monsters!'"
          },
          "metadata": {}
        }
      ]
    },
    {
      "cell_type": "markdown",
      "source": [
        "From the above code, we can notice that the execution of the method **greeting()** leads to a different result. This is due to the fact that the **parental method has been overridden** by the child method (polymorphism)\n",
        "\n",
        "### <a id=\"5.3\">5.3 Encapsulation</a>\n",
        "We are facing one more abstraction which is called **encapsulation.** As you may guess encapsulation means something that we want to **hide and protect.** Classes can be huge and complex and inside can be many auxiliary attributes and methods which must not be used outside a certain class. They are sort of small elements that provide stability for a class. Thus, we may want to protect stability elements of a class and not allow changing them in a usual way. But before we have to grasp **access modifiers** and how they differ because it's the **core of the encapsulation mechanism.**\n",
        "\n",
        "### <a id=\"5.3.1\">5.3.1 Access Modifiers</a>\n",
        "Access modifiers are used to modify the scope of attributes in a class. There are **3 main types:**\n",
        "- **Public:** attribute_name (can be accessed anywhere);\n",
        "- **Protected:** \\_attribute_name (can be accessed only in the class as well as from all child classes);\n",
        "- **Private:** \\_\\_attribute_name (can be accessed only in that class in which has been defined)\n",
        "\n",
        "Why do we need them? \n",
        "\n",
        "Some attributes might be valuable for a class and we may want to prevent them from changing or accessing outside the class. Have a look:"
      ],
      "metadata": {
        "id": "1n5ehkPbcHp4"
      }
    },
    {
      "cell_type": "code",
      "source": [
        "# Let's access the attribute name from GameCharacter class and change it\n",
        "geralt.name = 100"
      ],
      "metadata": {
        "execution": {
          "iopub.status.busy": "2021-08-09T09:28:10.262872Z",
          "iopub.execute_input": "2021-08-09T09:28:10.263269Z",
          "iopub.status.idle": "2021-08-09T09:28:10.273711Z",
          "shell.execute_reply.started": "2021-08-09T09:28:10.263233Z",
          "shell.execute_reply": "2021-08-09T09:28:10.272225Z"
        },
        "trusted": true,
        "id": "kyiCmATfcHp5"
      },
      "execution_count": null,
      "outputs": []
    },
    {
      "cell_type": "markdown",
      "source": [
        "We definitely don't want that. **Numbers are inappropriate for names.** To prevent this situation we have to apply **access modifiers.**"
      ],
      "metadata": {
        "id": "dIupctpecHp5"
      }
    },
    {
      "cell_type": "code",
      "source": [
        "# For demonstration, define all three type of access modifiers in the class\n",
        "class GameCharacter:\n",
        "    \n",
        "    def __init__(self, name, hair_color, height):\n",
        "        self.__name = name # private\n",
        "        self._hair_color = hair_color # protected\n",
        "        self.height = height # public\n",
        "        \n",
        "geralt = GameCharacter(name = 'Geralt', hair_color = 'White', height = 180)\n",
        "\n",
        "# We can only access public and protected attributes via the object\n",
        "# They are actually idenctical, read below why\n",
        "print(geralt._hair_color, geralt.height)\n",
        "\n",
        "# Accessing the private attributes raises an error\n",
        "geralt.__name"
      ],
      "metadata": {
        "execution": {
          "iopub.status.busy": "2021-08-09T09:28:10.339922Z",
          "iopub.execute_input": "2021-08-09T09:28:10.340317Z",
          "iopub.status.idle": "2021-08-09T09:28:10.367358Z",
          "shell.execute_reply.started": "2021-08-09T09:28:10.340283Z",
          "shell.execute_reply": "2021-08-09T09:28:10.365008Z"
        },
        "trusted": true,
        "id": "G3S6L9CxcHp5",
        "outputId": "258c5946-06b0-4d6d-d70f-216281953f5c"
      },
      "execution_count": null,
      "outputs": [
        {
          "name": "stdout",
          "text": "White 180\n",
          "output_type": "stream"
        },
        {
          "traceback": [
            "\u001b[0;31m---------------------------------------------------------------------------\u001b[0m",
            "\u001b[0;31mAttributeError\u001b[0m                            Traceback (most recent call last)",
            "\u001b[0;32m<ipython-input-51-19401113736e>\u001b[0m in \u001b[0;36m<module>\u001b[0;34m\u001b[0m\n\u001b[1;32m     14\u001b[0m \u001b[0;34m\u001b[0m\u001b[0m\n\u001b[1;32m     15\u001b[0m \u001b[0;31m# Accessing the private attributes raises an error\u001b[0m\u001b[0;34m\u001b[0m\u001b[0;34m\u001b[0m\u001b[0;34m\u001b[0m\u001b[0m\n\u001b[0;32m---> 16\u001b[0;31m \u001b[0mgeralt\u001b[0m\u001b[0;34m.\u001b[0m\u001b[0m__name\u001b[0m\u001b[0;34m\u001b[0m\u001b[0;34m\u001b[0m\u001b[0m\n\u001b[0m",
            "\u001b[0;31mAttributeError\u001b[0m: 'GameCharacter' object has no attribute '__name'"
          ],
          "ename": "AttributeError",
          "evalue": "'GameCharacter' object has no attribute '__name'",
          "output_type": "error"
        }
      ]
    },
    {
      "cell_type": "markdown",
      "source": [
        "The above error tells us that the attribute **\\_\\_name** doesn't exist. However, it does..we just hid it and it isn't available outside the class.\n",
        "\n",
        "You may say: if we can access **attributes height and \\_hair_color** and change both of them what is the difference then? Well, this is my answer: the access modifier with a single underscore only **indicates or tells** that it's protected and can be used only in a certain class and its child classes. In other words, **protected attributes just don't exist in Python.** \n",
        "\n",
        "In fact, **protected and public attributes are identical.** Single underscore only tells that the attribute protected and we shouldn't use it outside the class, otherwise it may lead to unpredictable errors because it's assumed not to be touched. If it's still difficult to grasp, here is a sort of a rule of thumb: if you see attributes with a single underscore, don't call them directly because they are inner service variables.\n",
        "\n",
        "Keep in mind that **not only attributes can have different access modifiers but also methods!** \n",
        "\n",
        "**Private/protected methods** are used to provide functionality inside the class. Don't touch them and don't try to call outside the class!!!\n",
        "\n",
        "To better understand the topic let's cover one more example. For example, we may want to keep track of how many game characters we've already created. It may be really important because we may want to create an only certain number of characters for a certain location of the game. A wrong counter will introduce chaos and uncertainty. Let's create a private (encapsulated) class attribute **\\_\\_counter.**"
      ],
      "metadata": {
        "id": "FdYjuv3tcHp5"
      }
    },
    {
      "cell_type": "code",
      "source": [
        "class GameCharacter:\n",
        "    \n",
        "    # New private class attribute \n",
        "    __counter = 0\n",
        "\n",
        "    # Make all object attribute private \n",
        "    def __init__(self, name, hair_color, height):\n",
        "        self.__name = name\n",
        "        self.__hair_color = hair_color\n",
        "        self.__height = height\n",
        "        \n",
        "        # New game character creation will be leading to an increase in counter \n",
        "        # We use a specila syntax to access class attribute via an object \n",
        "        self.__class__.__counter += 1\n",
        "    \n",
        "    # Decrease the counter if delete a game character\n",
        "    def __del__(self):\n",
        "        self.__class__.__counter -= 1\n",
        "        \n",
        "geralt = GameCharacter(name = 'Geralt', hair_color = 'White', height = 180)\n",
        "ciri = GameCharacter(name = 'Ciri', hair_color = 'White', height = 180)"
      ],
      "metadata": {
        "execution": {
          "iopub.status.busy": "2021-08-09T09:28:10.469580Z",
          "iopub.execute_input": "2021-08-09T09:28:10.470289Z",
          "iopub.status.idle": "2021-08-09T09:28:10.480061Z",
          "shell.execute_reply.started": "2021-08-09T09:28:10.470233Z",
          "shell.execute_reply": "2021-08-09T09:28:10.478499Z"
        },
        "trusted": true,
        "id": "KAPLZ6t4cHp6"
      },
      "execution_count": null,
      "outputs": []
    },
    {
      "cell_type": "markdown",
      "source": [
        "Everything seems to be working! However,  we **can't access private attributes** not to mention changing them.\n",
        "\n",
        "How can we solve this problem?\n",
        "\n",
        "I must say that there are several solutions. One of them is to use a **special syntax:**\n",
        "- obj.\\_\\_class__.attribute/method_name;\n",
        "- obj.\\_class_name__attribute/method name;\n",
        "- class_name.\\_class_name__counter"
      ],
      "metadata": {
        "id": "W9B6diXacHp6"
      }
    },
    {
      "cell_type": "code",
      "source": [
        "# Special syntax allows not only getting but also changing private attributes\n",
        "geralt._GameCharacter__name"
      ],
      "metadata": {
        "execution": {
          "iopub.status.busy": "2021-08-09T09:28:10.482077Z",
          "iopub.execute_input": "2021-08-09T09:28:10.482686Z",
          "iopub.status.idle": "2021-08-09T09:28:10.498851Z",
          "shell.execute_reply.started": "2021-08-09T09:28:10.482632Z",
          "shell.execute_reply": "2021-08-09T09:28:10.497932Z"
        },
        "trusted": true,
        "id": "Q_wftrXWcHp6",
        "outputId": "12759495-9975-4262-bda7-8947fd287528"
      },
      "execution_count": null,
      "outputs": [
        {
          "execution_count": 53,
          "output_type": "execute_result",
          "data": {
            "text/plain": "'Geralt'"
          },
          "metadata": {}
        }
      ]
    },
    {
      "cell_type": "markdown",
      "source": [
        "However, it's not recommended and a **double underscore** must indicate the developers that they must work with this attribute only using **special methods** called **getters, setters and deleters**. We must remember what we can do with object attributes:\n",
        "- Getting an attribute value: obj.field_name;\n",
        "- Setting an attribute value: obj.field_name = new_value;\n",
        "- Attribute deleting: del obj.field_name\n",
        "\n",
        "### <a id=\"5.3.2\">5.3.2 Calling Private Attributes From Child Classes</a>\n",
        "Let's figure out how behave private attributes during inheritance. In GameCharacter class we've defined a private attribute **\\_\\_counter.** To be able to access this attribute let's create a special method called **get_counter().** Then create a child class Witcher and try calling the private attribute"
      ],
      "metadata": {
        "id": "ZxtXTam9cHp7"
      }
    },
    {
      "cell_type": "code",
      "source": [
        "class GameCharacter:\n",
        "    \n",
        "    __counter = 0\n",
        "\n",
        "    def __init__(self, name, hair_color, height):\n",
        "        self.__name = name\n",
        "        self.__hair_color = hair_color\n",
        "        self.__height = height\n",
        "        self.__class__.__counter += 1\n",
        "    \n",
        "    def __del__(self):\n",
        "        self.__class__.__counter -= 1\n",
        "    \n",
        "    # For accessing the private attribute\n",
        "    def get_counter(self):\n",
        "        return self.__counter  \n",
        "    \n",
        "class Witcher(GameCharacter):\n",
        "    \n",
        "    def __init__(self, name, hair_color, height, witcher_school = 'Wolf'):\n",
        "        super().__init__(name, hair_color, height)\n",
        "        self.witcher_school = witcher_school\n",
        "        \n",
        "    def greeting(self):\n",
        "        return 'I am the Witcher and I am Looking for the Monsters!'\n",
        "    \n",
        "geralt = Witcher(name = 'Geralt', hair_color = 'White', height = 180)\n",
        "\n",
        "# let's try calling __counter via the child object\n",
        "geralt.__counter"
      ],
      "metadata": {
        "execution": {
          "iopub.status.busy": "2021-08-09T09:28:10.609768Z",
          "iopub.execute_input": "2021-08-09T09:28:10.610357Z",
          "iopub.status.idle": "2021-08-09T09:28:10.631689Z",
          "shell.execute_reply.started": "2021-08-09T09:28:10.610312Z",
          "shell.execute_reply": "2021-08-09T09:28:10.630082Z"
        },
        "trusted": true,
        "id": "2a4Iw_R4cHp7",
        "outputId": "5f389353-a857-4b49-bd2a-7f6e8d1c9b6a"
      },
      "execution_count": null,
      "outputs": [
        {
          "traceback": [
            "\u001b[0;31m---------------------------------------------------------------------------\u001b[0m",
            "\u001b[0;31mAttributeError\u001b[0m                            Traceback (most recent call last)",
            "\u001b[0;32m<ipython-input-54-fc879ce4e30e>\u001b[0m in \u001b[0;36m<module>\u001b[0;34m\u001b[0m\n\u001b[1;32m     28\u001b[0m \u001b[0;34m\u001b[0m\u001b[0m\n\u001b[1;32m     29\u001b[0m \u001b[0;31m# let's try calling __counter via the child object\u001b[0m\u001b[0;34m\u001b[0m\u001b[0;34m\u001b[0m\u001b[0;34m\u001b[0m\u001b[0m\n\u001b[0;32m---> 30\u001b[0;31m \u001b[0mgeralt\u001b[0m\u001b[0;34m.\u001b[0m\u001b[0m__counter\u001b[0m\u001b[0;34m\u001b[0m\u001b[0;34m\u001b[0m\u001b[0m\n\u001b[0m",
            "\u001b[0;31mAttributeError\u001b[0m: 'Witcher' object has no attribute '__counter'"
          ],
          "ename": "AttributeError",
          "evalue": "'Witcher' object has no attribute '__counter'",
          "output_type": "error"
        }
      ]
    },
    {
      "cell_type": "markdown",
      "source": [
        "Above error says that private attribute **\\_\\_counter** has become unavailable and it's impossible to call the attribute from a child class. It's happening because once a private attribute has been defined, its name changes and has a prefix of a class to which belong. In our case, it belongs to the class GameCharacter, thus its name must have a prefix of that class. \n",
        "\n",
        "Let's find out local attributes of Witcher class."
      ],
      "metadata": {
        "id": "qM39VcpzcHp7"
      }
    },
    {
      "cell_type": "code",
      "source": [
        "Witcher.__dict__"
      ],
      "metadata": {
        "execution": {
          "iopub.status.busy": "2021-08-09T09:28:10.633293Z",
          "iopub.status.idle": "2021-08-09T09:28:10.633845Z"
        },
        "trusted": true,
        "id": "zHMeY5wEcHp7"
      },
      "execution_count": null,
      "outputs": []
    },
    {
      "cell_type": "markdown",
      "source": [
        "It can be clearly seen that the name of private attribute **\\_\\_counter** has changed to **\\_GameCharacter__counter.** Because of this, we can't access this attribute from Witcher class, the attribute has another prefix! \n",
        "\n",
        "We can access this attribute only using the method which has been inherited **get_counter()**"
      ],
      "metadata": {
        "id": "xNaanRVmcHp7"
      }
    },
    {
      "cell_type": "code",
      "source": [
        "geralt.get_counter()"
      ],
      "metadata": {
        "execution": {
          "iopub.status.busy": "2021-08-09T09:28:10.736504Z",
          "iopub.execute_input": "2021-08-09T09:28:10.736849Z",
          "iopub.status.idle": "2021-08-09T09:28:10.742883Z",
          "shell.execute_reply.started": "2021-08-09T09:28:10.736818Z",
          "shell.execute_reply": "2021-08-09T09:28:10.741853Z"
        },
        "trusted": true,
        "id": "IvXIANVKcHp8",
        "outputId": "df90fbb3-1463-4816-f6ed-61ae2d431d0d"
      },
      "execution_count": null,
      "outputs": [
        {
          "execution_count": 55,
          "output_type": "execute_result",
          "data": {
            "text/plain": "1"
          },
          "metadata": {}
        }
      ]
    },
    {
      "cell_type": "markdown",
      "source": [
        "Everything is working. Please remember, when it comes to private attributes they can be called only via **get()** methods.\n",
        "\n",
        "### <a id=\"5.3.2.1\"><a id=\"5.3.2.0\"><a id=\"5.3.3\">5.3.3 Getting, Setting and Deleting Encapsulated Attributes</a></a></a>\n",
        "To call encapsulated attributes we have to just define methods such as **get/set/delete** in the class. In addition, with the help of the method **set** we can control which types are allowed as attribute values. First, let's implement these methods for the **\\_\\_counter** attribute."
      ],
      "metadata": {
        "id": "NdzgV39BcHp8"
      }
    },
    {
      "cell_type": "code",
      "source": [
        "class GameCharacter:\n",
        " \n",
        "    __counter = 0\n",
        "\n",
        "    def __init__(self, name, hair_color, height):\n",
        "        self.__name = name\n",
        "        self.__hair_color = hair_color\n",
        "        self.__height = height\n",
        "        \n",
        "        self.__class__.__counter += 1\n",
        "        \n",
        "    def __del__(self):\n",
        "        self.__class__.__counter -= 1\n",
        "        \n",
        "    # Define the getter\n",
        "    def get_counter(self):\n",
        "        return self.__class__.__counter\n",
        "   \n",
        "    # Define the setter\n",
        "    def set_counter(self, new_value):\n",
        "        # Only int is allowed\n",
        "        if isinstance(new_value, int):\n",
        "            self.__class__.__counter = new_value\n",
        "        else:\n",
        "            raise TypeError('Counter Must Be Int!')\n",
        "      \n",
        "    # Define the deleter\n",
        "    def drop_counter(self):\n",
        "        print('Counter Has Been Deleted')\n",
        "        del self.__class__.__counter\n",
        "\n",
        "# Awesome, now we can keep track of created characters. Let's check that:\n",
        "geralt = GameCharacter(name = 'Geralt', hair_color = 'White', height = 180)\n",
        "ciri = GameCharacter(name = 'Ciri', hair_color = 'White', height = 180)\n",
        "\n",
        "# Let's call the getter\n",
        "print('Initial Number of Created Game Characters: ', ciri.get_counter() )\n",
        "\n",
        "# let's delete an object and make sure that __counter is working properly\n",
        "del geralt\n",
        "print('Current Number of Created Game Characters: ', ciri.get_counter() )\n",
        "\n",
        "# let's call the setter\n",
        "ciri.set_counter(42)\n",
        "print('New Counter Value: ', ciri.get_counter())\n",
        "\n",
        "# Let's call the deleter\n",
        "ciri.drop_counter()"
      ],
      "metadata": {
        "execution": {
          "iopub.status.busy": "2021-08-09T09:28:10.791562Z",
          "iopub.execute_input": "2021-08-09T09:28:10.791911Z",
          "iopub.status.idle": "2021-08-09T09:28:10.807551Z",
          "shell.execute_reply.started": "2021-08-09T09:28:10.791881Z",
          "shell.execute_reply": "2021-08-09T09:28:10.806329Z"
        },
        "trusted": true,
        "id": "dXfa9X18cHp8",
        "outputId": "600994e9-f6b7-492a-e0b8-1bfe5f8331ed"
      },
      "execution_count": null,
      "outputs": [
        {
          "name": "stdout",
          "text": "Initial Number of Created Game Characters:  2\nCurrent Number of Created Game Characters:  1\nNew Counter Value:  42\nCounter Has Been Deleted\n",
          "output_type": "stream"
        }
      ]
    },
    {
      "cell_type": "markdown",
      "source": [
        "Perfect, the getters, setters and deleters are seemed to be working. However, these methods work only for the **\\_\\_counter**. \n",
        "\n",
        "They aren't going to work for the rest attributes (e.g. **\\_\\_name, \\_\\_hair_color and \\__height**). As a solution, we can create individual setters, getters and deleters for every private attribute but it **contradicts DRY conception** (Don't Repeat Yourself).\n",
        "\n",
        "Luckily, exists a solution which is called **descriptors.**\n",
        "\n",
        "Descriptors allow writing getters, setters and deleters only once and prevent repeating (<a href='#10.0'>10. Descriptors</a>). Moreover, the way how we've defined the getters, setters and deleters isn't the only one and not the best. There are more \"convenient\" ways based on the class/decorator **property.**\n",
        "\n",
        "Class property can be found here: (<a href='#9.7.1'>9.7.1 Property Class Implementation</a>)\n",
        "\n",
        "### <a id=\"5.4\">5.4 Main Points of the Chapter</a>\n",
        "- **Child class** inherits parental methods and attributes;\n",
        "- **Child methods** can be extended by parental ones;\n",
        "- **Polymorphism** - the same methods name but different logic;\n",
        "- Attributes and methods can be encapsulated (public, protected and private);\n",
        "- Protected and Public attributes are **identical;**\n",
        "- For calling private attributes define **getters and setters**\n",
        "\n",
        "### <a id=\"6\">6. Instance, Class and Static Methods. What Is the Difference?</a>\n",
        "I think that it's important to know that not all methods can have access to all attributes of a class. Some methods can change only the state of a class whereas others the state of objects. These **methods have a different scope of variables** and understanding the difference between them is crucial!\n",
        "\n",
        "### <a id=\"6.1\">6.1 Class Methods</a>\n",
        "Let's start with the class method. The name of the method stands on its own. They take in **class as an argument** and has the following decorator: **@classmethod**. These methods can change only the state of a class because objects attributes aren't available for them (these methods don't take in self as an argument). For simplicity, let's come back to encapsulated class attribute **\\_\\_counter.** \n",
        "\n",
        "Previously we've already defined two special methods **set_counter()** and **get_counter().** Now let's make them class methods."
      ],
      "metadata": {
        "id": "jSoEzqTXcHp9"
      }
    },
    {
      "cell_type": "code",
      "source": [
        "# The same class\n",
        "class GameCharacter:\n",
        "    \n",
        "    __counter = 0\n",
        "    \n",
        "    # The same constructor \n",
        "    def __init__(self, name, hair_color, height):\n",
        "        self.name = name\n",
        "        self.hair_color = hair_color\n",
        "        self.height = height\n",
        "\n",
        "        self.__class__.__counter += 1\n",
        "        \n",
        "    # Make the following methods class methods\n",
        "    @classmethod\n",
        "    def get_counter(cls):\n",
        "        return cls.__counter\n",
        "        \n",
        "    @classmethod\n",
        "    def set_counter(cls, new_value):\n",
        "        cls.__counter = new_value\n",
        "        return cls.__counter\n",
        "    \n",
        "geralt = GameCharacter(name = 'Geralt', hair_color = 'White', height = 180)\n",
        "ciri = GameCharacter(name = 'Ciri', hair_color = 'White', height = 180)\n",
        "\n",
        "# Let's call these methods\n",
        "print('Total Number of Created Objects: ', GameCharacter.get_counter())\n",
        "print(\"Changed Number of Created Objects: \", GameCharacter.set_counter(10))"
      ],
      "metadata": {
        "execution": {
          "iopub.status.busy": "2021-08-09T09:28:10.823103Z",
          "iopub.execute_input": "2021-08-09T09:28:10.823452Z",
          "iopub.status.idle": "2021-08-09T09:28:10.835787Z",
          "shell.execute_reply.started": "2021-08-09T09:28:10.823419Z",
          "shell.execute_reply": "2021-08-09T09:28:10.834788Z"
        },
        "trusted": true,
        "id": "0C9gSIBzcHp9",
        "outputId": "2ec789ff-0d48-4d8a-857b-c3fab03475e8"
      },
      "execution_count": null,
      "outputs": [
        {
          "name": "stdout",
          "text": "Total Number of Created Objects:  2\nChanged Number of Created Objects:  10\n",
          "output_type": "stream"
        },
        {
          "name": "stderr",
          "text": "Exception ignored in: <function GameCharacter.__del__ at 0x7f845a5a49e0>\nTraceback (most recent call last):\n  File \"<ipython-input-56-a43d31b9ea64>\", line 13, in __del__\nAttributeError: type object 'GameCharacter' has no attribute '_GameCharacter__counter'\n",
          "output_type": "stream"
        }
      ]
    },
    {
      "cell_type": "markdown",
      "source": [
        "Previously these methods took in neither an object nor a class what isn't right. Methods **get_counter()** and **set_counter()** are responsible for getting and changing the class attribute. Thus, it must be a **class method.** The current implementation is more appropriate and the first sight at the code gives more details (decorators indicate that these methods belong to the class)\n",
        "\n",
        "### <a id=\"6.2\">6.2 Static Methods</a>\n",
        "These methods **take in neither objects nor classes** as arguments. Thus, their scope of attributes is strongly bounded. Attributes of classes and objects **aren't available** for them and they **can't change** the state of classes and objects. They can operate only those arguments which are defined in them. The main advantage of static methods that they **don't depend on classes and objects.** In addition, they can be called directly through a class without any objects creation. Calling these methods through objects is possible as well.\n",
        "\n",
        "We can define static methods with the help of a special decorator **@staticmethod**.\n",
        "\n",
        "If you see a method without **self** parameter, it's a good idea to make it either static or class method.\n",
        "\n",
        "Let's create **@staticmethod** for a randomly generating age of a game character."
      ],
      "metadata": {
        "id": "CjMi3VEXcHp9"
      }
    },
    {
      "cell_type": "code",
      "source": [
        "import numpy as np\n",
        "np.random.seed(42)\n",
        "\n",
        "class GameCharacter:\n",
        "    \n",
        "    # Define the static method first\n",
        "    @staticmethod \n",
        "    def generate_random_number():\n",
        "        return np.random.randint(1,100,1)[0]\n",
        "    \n",
        "    # Define the constructor where age will be randomly generated by the static method\n",
        "    def __init__(self, name, hair_color, height):\n",
        "        self.name = name\n",
        "        self.hair_color = hair_color\n",
        "        self.height = height\n",
        "        # static methods available for both objects and classes.\n",
        "        # Let's call the method via the class\n",
        "        self.age = self.__class__.generate_random_number()\n",
        "\n",
        "random_character = GameCharacter(name = 'Bob', hair_color = 'Grey', height = 188)\n",
        "print('Age of a game character: ', random_character.age)"
      ],
      "metadata": {
        "execution": {
          "iopub.status.busy": "2021-08-09T09:28:10.912705Z",
          "iopub.execute_input": "2021-08-09T09:28:10.913080Z",
          "iopub.status.idle": "2021-08-09T09:28:10.925151Z",
          "shell.execute_reply.started": "2021-08-09T09:28:10.913012Z",
          "shell.execute_reply": "2021-08-09T09:28:10.924038Z"
        },
        "trusted": true,
        "id": "1XQcQJLHcHp9",
        "outputId": "91625a1f-e4a7-43d3-8a27-f29296e38012"
      },
      "execution_count": null,
      "outputs": [
        {
          "name": "stdout",
          "text": "Age of a game character:  52\n",
          "output_type": "stream"
        }
      ]
    },
    {
      "cell_type": "markdown",
      "source": [
        "The method **generate_random_number()** takes in neither an object nor a class as an argument. In addition, we were able to pass this method into the constructor to randomly create age values. Static methods might be a good choice if you need functions that \n",
        "will be responsible for some calculations and won't be changing states of objects or classes. These facts make static methods **more stable and reliable.**\n",
        "\n",
        "### <a id=\"6.3\">6.3 Instance Methods</a>\n",
        "We're already familiar with them. They take in the **self argument** (i.e. they take in an object explicitly). It allows them getting access and control attributes of objects. In addition, with the syntax: **self.\\_\\_class__** they can get access to class attributes and manipulate them as well. All these make them the most powerful methods in a class. The following example will be rather lengthy because this is how I want to demonstrate the flexibility and power of instance methods."
      ],
      "metadata": {
        "id": "1QZ1RzWDcHp-"
      }
    },
    {
      "cell_type": "code",
      "source": [
        "import random \n",
        "\n",
        "class GameCharacter:\n",
        "    \n",
        "    # Define class attributes assuming that the age of a game character\n",
        "    # is in the range from 1 to 100 and make them private\n",
        "    __counter = 0\n",
        "    __min_age = 1\n",
        "    __max_age = 100\n",
        "    \n",
        "    # Add new the attribute age in the costructor. \n",
        "    # Now let's demonstrate how powerfult the self is\n",
        "    def __init__(self, name, hair_color, height, age):\n",
        "        \n",
        "        # Don't change\n",
        "        self.name = name\n",
        "        self.hair_color = hair_color\n",
        "        self.height = height\n",
        "        \n",
        "        # Let's allow to create a game character if the age is in the range\n",
        "        # attributes  __min_age and __max_age are private and belong to the class\n",
        "        # but we can call them anyway\n",
        "        if age >= self.__class__.__min_age and age <= self.__class__.__max_age:\n",
        "            print(f'{self.name} has been successfully created')\n",
        "            self.__class__.__counter += 1\n",
        "            \n",
        "        # Raise Value Error for inappropriate age\n",
        "        else:\n",
        "            raise ValueError\n",
        "            \n",
        "class Witcher(GameCharacter):\n",
        "    \n",
        "    # Previously it was a method. Let's make it a private attribute now \n",
        "    __signs = ('Axii', 'Qven', 'Ignii', 'Aard', 'Yrden')\n",
        "\n",
        "    # Define the constructor of the class\n",
        "    def __init__(self, name, hair_color, height, age, witcher_school = 'Wolf'):\n",
        "        super().__init__(name, hair_color, height, age)\n",
        "        self.witcher_school = witcher_school\n",
        "        # Create a new attribute of an object\n",
        "        self.signs = self.__class__.__signs\n",
        "    \n",
        "    # Randomy picks some sign\n",
        "    def pick_sign(self):\n",
        "        sign_number = random.sample(range(0,len(self.signs)),1)[0]\n",
        "        return self.signs[sign_number]\n",
        "    \n",
        "    # Attack method\n",
        "    def attack(self):\n",
        "        print('The Sword Was Bared!')\n",
        "        print(f'Sign {self.pick_sign()} Is Ready')\n",
        "           \n",
        "geralt = Witcher(name = 'Geralt', hair_color = 'White', height = 180, age = 48)\n",
        "\n",
        "# Let's call a new attribute\n",
        "print('Available Signs: ', geralt.signs)\n",
        "\n",
        "# Let's call new methods\n",
        "print('Randomly picked sign: ', geralt.pick_sign())\n",
        "print('\\n')\n",
        "geralt.attack()"
      ],
      "metadata": {
        "execution": {
          "iopub.status.busy": "2021-08-09T09:28:11.091846Z",
          "iopub.execute_input": "2021-08-09T09:28:11.092259Z",
          "iopub.status.idle": "2021-08-09T09:28:11.112271Z",
          "shell.execute_reply.started": "2021-08-09T09:28:11.092225Z",
          "shell.execute_reply": "2021-08-09T09:28:11.110971Z"
        },
        "trusted": true,
        "id": "J9HZFBUWcHp-",
        "outputId": "e194c8e2-cdbb-4df9-8627-36263b24ebdd"
      },
      "execution_count": null,
      "outputs": [
        {
          "name": "stdout",
          "text": "Geralt has been successfully created\nAvailable Signs:  ('Axii', 'Qven', 'Ignii', 'Aard', 'Yrden')\nRandomly picked sign:  Axii\n\n\nThe Sword Was Bared!\nSign Qven Is Ready\n",
          "output_type": "stream"
        }
      ]
    },
    {
      "cell_type": "markdown",
      "source": [
        "Let me explain what was going on in the code. First, I've decided to allow creating a new game character on condition that a **proper age is provided.** For this purpose, I've created **private attributes \\_\\_min_age and \\__max_age.**\n",
        "\n",
        "Because **\\_\\_init__()** method is an instance method it has access to attributes of the class, thus we can call **\\_\\_min_age and \\__max_age** by using a special syntax. \n",
        "\n",
        "This time class Witcher had its own private attribute called **\\_\\_signs** (a tuple with signs names). The constructor of Witcher class was extended by parental class and had a **new attribute called signs.** It was a new object attribute. Two new methods were defined. The most interesting here was that these two methods used attributes from the classes as well as object attributes (i.e. instance methods had access to both object and class attributes). I do hope that you understood why instance methods are so powerful and flexible.\n",
        "\n",
        "### <a id=\"6.4\">6.4 Main Points of the Chapter</a>\n",
        "- Class methods take in a **class as an argument** and they have **access to all class attributes;**\n",
        "- Provide **@classmethod** to define a class method;\n",
        "- Class methods are used to **change the state of a class (its attributes);**\n",
        "- Static methods take in **neither a class nor an object as an argument** and they don't have access to class or object attributes;\n",
        "- Provide **@staticmethod** to define a static method;\n",
        "- Instance methods take in an object as an argument and have access to both class and object attributes\n",
        "\n",
        "### <a id=\"7\">7. Methods and Operators Overloading</a>\n",
        "Key elements here will be **operators** (e.g +, -, / and so forth) and **functions.** For now, all we need to know is that overloading helps us change the logic or behaviour of a certain operator or a function. \n",
        "\n",
        "Let's have a look at methods overloading.\n",
        "\n",
        "### <a id=\"7.1\">7.1 Method Overloading</a>\n",
        "This is my favourite topic because it makes your functions/code flexible. I've encountered dozens of times with situations when I wanted to control the behaviour of a function depending on incoming parameters. Imagine that you are developing a plot function and you want to control whether or not to display a legend, confidence intervals of a graph or a plot type. For this purpose, you define parameters or let's name them triggers depending on which you switch the behaviour of the function (e.g. we can define the following parameters: show legend = True, show_conf_intervals = True. Switching these parameters to True/False will lead to changing the function behaviour, exactly what we want). That's probably all we need to know about methods overloading.\n",
        "\n",
        "To overload a method just define a set of parameters with default values. I personally call them **states.**\n",
        "\n",
        "As default states values: **True/False or None** can be used.\n",
        "\n",
        "Let's define a method **attack()** for Witcher class and overload it. In the game, we use a silver sword for monsters and a usual one for people."
      ],
      "metadata": {
        "id": "DVLNHcIjcHp-"
      }
    },
    {
      "cell_type": "code",
      "source": [
        "class Witcher(GameCharacter):\n",
        "    \n",
        "    __signs = ('Axii', 'Qven', 'Ignii', 'Aard', 'Yrden')\n",
        "    \n",
        "    def __init__(self, name, hair_color, height, age, witcher_school = 'Wolf'):\n",
        "        super().__init__(name, hair_color, height, age)\n",
        "        self.witcher_school = witcher_school\n",
        "        self.signs = self.__class__.__signs\n",
        "        \n",
        "    def pick_sign(self):\n",
        "        sign_number = random.sample(range(0,len(self.signs)),1)[0]\n",
        "        return self.signs[sign_number]\n",
        "        \n",
        "    # let's overload this method \n",
        "    def attack(self, is_monster = False):\n",
        "        if is_monster == True:\n",
        "            return f'Bare Silver Sword\\nSign {self.pick_sign()} Is Ready'\n",
        "        else:\n",
        "            return f'Bare Usual Sword\\nSign {self.pick_sign()} Is Ready'\n",
        "    \n",
        "geralt = Witcher(name = 'Geralt', hair_color = 'White', height = 180, age = 48)\n",
        "\n",
        "# For people set is_monster by default (it's switched off)\n",
        "print(geralt.attack())\n",
        "print('\\n')\n",
        "\n",
        "# For Monsters set is_monster = True (switch it on)\n",
        "print(geralt.attack(is_monster=True))"
      ],
      "metadata": {
        "execution": {
          "iopub.status.busy": "2021-08-09T09:28:11.114067Z",
          "iopub.execute_input": "2021-08-09T09:28:11.114397Z",
          "iopub.status.idle": "2021-08-09T09:28:11.134753Z",
          "shell.execute_reply.started": "2021-08-09T09:28:11.114364Z",
          "shell.execute_reply": "2021-08-09T09:28:11.133711Z"
        },
        "trusted": true,
        "id": "YiUlVkgQcHp_",
        "outputId": "18e5f95c-47f1-4ff8-938d-551832e4040d"
      },
      "execution_count": null,
      "outputs": [
        {
          "name": "stdout",
          "text": "Geralt has been successfully created\nBare Usual Sword\nSign Aard Is Ready\n\n\nBare Silver Sword\nSign Axii Is Ready\n",
          "output_type": "stream"
        }
      ]
    },
    {
      "cell_type": "markdown",
      "source": [
        "As you can see it isn't difficult at all. We controlled the logic of the function **attack()** by **switching on and off** the argument **is_monster.** This is how the method overloading works. You can define as many states or switchers as you want but the concept will be the same: **Different function logic depending on initial states of parameters.**\n",
        "\n",
        "We've overloaded the **custom function** because it was defined by us but what to do if we want to **overload built-in functions?**\n",
        "Well, just write this built-in function and make it do what you want. There is a huge list of built-in functions and you can find them in the documentation:\n",
        "- https://docs.python.org/3/reference/datamodel.html\n",
        "\n",
        "- https://docs.python.org/3/library/functions.html\n",
        "\n",
        "A list of **magic methods:** https://www.tutorialsteacher.com/python/magic-methods-in-python\n",
        "\n",
        "let's overload the magic method **\\_\\_str__()**. Overloading of this method allows defining what the object must return if it has been taken as a string."
      ],
      "metadata": {
        "id": "Oh4bAQKzcHp_"
      }
    },
    {
      "cell_type": "code",
      "source": [
        "print(geralt) "
      ],
      "metadata": {
        "execution": {
          "iopub.status.busy": "2021-08-09T09:28:11.136016Z",
          "iopub.execute_input": "2021-08-09T09:28:11.136356Z",
          "iopub.status.idle": "2021-08-09T09:28:11.155535Z",
          "shell.execute_reply.started": "2021-08-09T09:28:11.136312Z",
          "shell.execute_reply": "2021-08-09T09:28:11.154415Z"
        },
        "trusted": true,
        "id": "3kKrIgrScHp_",
        "outputId": "fc2b5ac7-8f07-4907-dc8a-343deb235b65"
      },
      "execution_count": null,
      "outputs": [
        {
          "name": "stdout",
          "text": "<__main__.Witcher object at 0x7f845a6228d0>\n",
          "output_type": "stream"
        }
      ]
    },
    {
      "cell_type": "markdown",
      "source": [
        "This is probably not what we want to see when printing the object. let's change that:"
      ],
      "metadata": {
        "id": "VypwmVU2cHqA"
      }
    },
    {
      "cell_type": "code",
      "source": [
        "class Witcher(GameCharacter):\n",
        "    \n",
        "    __signs = ('Axii', 'Qven', 'Ignii', 'Aard', 'Yrden')\n",
        "    \n",
        "    def __init__(self, name, hair_color, height, age, witcher_school = 'Wolf'):\n",
        "        super().__init__(name, hair_color, height, age)\n",
        "        self.witcher_school = witcher_school\n",
        "        self.signs = self.__class__.__signs\n",
        "     \n",
        "    # Overloading \n",
        "    def __str__(self):\n",
        "        return f'This Is {self.name} Object'\n",
        "    \n",
        "geralt = Witcher(name = 'Geralt', hair_color = 'White', height = 180, age = 48)\n",
        "print(geralt)"
      ],
      "metadata": {
        "execution": {
          "iopub.status.busy": "2021-08-09T09:28:11.205375Z",
          "iopub.execute_input": "2021-08-09T09:28:11.205748Z",
          "iopub.status.idle": "2021-08-09T09:28:11.216283Z",
          "shell.execute_reply.started": "2021-08-09T09:28:11.205714Z",
          "shell.execute_reply": "2021-08-09T09:28:11.214934Z"
        },
        "trusted": true,
        "id": "1n52tpZRcHqA",
        "outputId": "7c676143-f2ee-4da3-f060-c4927c353110"
      },
      "execution_count": null,
      "outputs": [
        {
          "name": "stdout",
          "text": "Geralt has been successfully created\nThis Is Geralt Object\n",
          "output_type": "stream"
        }
      ]
    },
    {
      "cell_type": "markdown",
      "source": [
        "### <a id=\"7.2\">7.2 Operator Overloading</a>\n",
        "It changes the logic of operator such as addition, multiplication and so forth apart from its default operation (e.g. numbers will be added, strings will be concatenated and lists will be merged). The best and simple example here is probably coordinates of a point which we want to add with another point (i.e. add two objects together). But this is just an example and I again come back to my favourite computer game.\n",
        "\n",
        "In the game, the Witchers create different elixirs. It gives them extra abilities and power. Let's assume that if we add several elixirs, we combine their effects. We will create the **class Elixir** and pass in its constructor the following attributes:\n",
        "- Name: name of the elixir ( str );\n",
        "- Properties: set of properties which an elixir provides ( list );\n",
        "- Toxicity: each elixir has its toxicity which causes harm effects ( int , seconds);\n",
        "- Duration: duration of each elixir ( int , seconds)\n",
        "\n",
        "let's start coding!"
      ],
      "metadata": {
        "id": "5a-imXNgcHqA"
      }
    },
    {
      "cell_type": "code",
      "source": [
        "class Elixir:\n",
        "    \n",
        "    # Define constructor of the Class with the following attributes.\n",
        "    # All attributes will be private (encapsulated)\n",
        "    def __init__(self, name, properties, toxicity, duration):\n",
        "        self.__name = name\n",
        "        self.__properties = list(properties)\n",
        "        self.__toxicity = toxicity\n",
        "        self.__duration = duration\n",
        "        \n",
        "    # Define a method for extracting information for a particular elixir \n",
        "    def get_properties(self):\n",
        "    \n",
        "        print(f'Information About {self.__name} Elixir:',\n",
        "              f'\\nProperties: {self.__properties}',\n",
        "              f'\\nToxicity: {self.__toxicity}',\n",
        "              f'\\nDuration: {self.__duration}')\n",
        "        \n",
        "    # Let's overload add operator. \n",
        "    # Once again, we want add method to combine properties of elixirs,\n",
        "    # display total toxicity and duration of each elixir\n",
        "    def __add__(self, elixr_n):\n",
        "        combined_properties = self.__properties  + elixr_n.__properties\n",
        "        total_toxicity = self.__toxicity + elixr_n.__toxicity\n",
        "        duration_per_elixir = {self.__name:self.__duration,\n",
        "                               elixr_n.__name:elixr_n.__duration}\n",
        "        \n",
        "        print(f'Combined Properties: {combined_properties}',\n",
        "              f'\\nTotal Toxicity: {total_toxicity}',\n",
        "              f'\\nRemaining Time: {duration_per_elixir}')\n",
        "        \n",
        "    \n",
        "# Create 2 different elixirs\n",
        "thunder = Elixir(name = 'Thunder',\n",
        "                 properties = ['Extra Power'],\n",
        "                 toxicity = 25,\n",
        "                 duration = 30)\n",
        "\n",
        "cat = Elixir(name = 'Cat',\n",
        "             properties = ['Night Vision'],\n",
        "             toxicity = 15,\n",
        "             duration = 240)\n",
        "\n",
        "# Let's get info about the first elixir\n",
        "thunder.get_properties()\n",
        "print('\\n')\n",
        "\n",
        "# Let's get info about the second elixir\n",
        "cat.get_properties()\n",
        "print('\\n')\n",
        "\n",
        "# Combine properties of 2 elixirs:\n",
        "thunder + cat"
      ],
      "metadata": {
        "execution": {
          "iopub.status.busy": "2021-08-09T09:28:11.237546Z",
          "iopub.execute_input": "2021-08-09T09:28:11.237916Z",
          "iopub.status.idle": "2021-08-09T09:28:11.253921Z",
          "shell.execute_reply.started": "2021-08-09T09:28:11.237878Z",
          "shell.execute_reply": "2021-08-09T09:28:11.252647Z"
        },
        "trusted": true,
        "id": "ME2750j2cHqB",
        "outputId": "088af696-5e9e-4e98-bdc8-b3a55119ffc7"
      },
      "execution_count": null,
      "outputs": [
        {
          "name": "stdout",
          "text": "Information About Thunder Elixir: \nProperties: ['Extra Power'] \nToxicity: 25 \nDuration: 30\n\n\nInformation About Cat Elixir: \nProperties: ['Night Vision'] \nToxicity: 15 \nDuration: 240\n\n\nCombined Properties: ['Extra Power', 'Night Vision'] \nTotal Toxicity: 40 \nRemaining Time: {'Thunder': 30, 'Cat': 240}\n",
          "output_type": "stream"
        }
      ]
    },
    {
      "cell_type": "markdown",
      "source": [
        "Awesome, now we can manipulate elixirs and combine their properties, keep track on total toxicity value (high value can kill the Witcher) and see remaining time of each elixir. Sounds good. However, in my code, it's possible to combine only two elixirs. For combining many elixirs you have to change the overloading method...leave it to you as homework.\n",
        "\n",
        "Also, I'd like to leave here a reference to the documentation where you can find the main overloading operators:\n",
        "- https://docs.python.org/3/reference/datamodel.html ( Chapter 3.3.8. Emulating numeric types )\n",
        "\n",
        "Plus, an article about methods and operators overloading:\n",
        "- https://stackabuse.com/overloading-functions-and-operators-in-python/\n",
        "\n",
        "### <a id=\"7.3\">7.3 Main Points of the Chapter</a>\n",
        "- **Method overloading** - different logic of a method depending on parameters of its arguments;\n",
        "- **Operator overloading** - different behavior of certain operators (e.g. \\__add__( ), \\_\\_div__( ) and so forth);\n",
        "\n",
        "### <a id=\"8\">8. What is \\*args and **kwargs</a> \n",
        "In order to figure it out, we have to comprehend the concept of **positional** and **keywords arguments**. \n",
        "\n",
        "Let's deal with them separately.\n",
        "\n",
        "### <a id=\"8.1\">8.1 \\*args</a> \n",
        "\\*args stands for **arguments. It allows creating a tuple of positional arguments with arbitrary length.** The main operator here is **the star** whereas **arg** is just a variable name and can be any. Star operator allows **unpacking elements of objects such as tuples and lists.** With the help of \\*args we can provide any number of arguments for a function which provides function flexibility and stability. Let's have a look:"
      ],
      "metadata": {
        "id": "UcTrPy7QcHqB"
      }
    },
    {
      "cell_type": "code",
      "source": [
        "# Ordinary function with fixed number of arguments \n",
        "def no_args_example(a,b,c):\n",
        "    return sum((a,b,c))\n",
        "\n",
        "no_args_example(1,2,3)"
      ],
      "metadata": {
        "execution": {
          "iopub.status.busy": "2021-08-09T09:28:11.311851Z",
          "iopub.execute_input": "2021-08-09T09:28:11.312206Z",
          "iopub.status.idle": "2021-08-09T09:28:11.319335Z",
          "shell.execute_reply.started": "2021-08-09T09:28:11.312175Z",
          "shell.execute_reply": "2021-08-09T09:28:11.318412Z"
        },
        "trusted": true,
        "id": "OcXYGW0UcHqB",
        "outputId": "90c57b04-2267-4fdf-a615-b01c3ab27669"
      },
      "execution_count": null,
      "outputs": [
        {
          "execution_count": 64,
          "output_type": "execute_result",
          "data": {
            "text/plain": "6"
          },
          "metadata": {}
        }
      ]
    },
    {
      "cell_type": "code",
      "source": [
        "# Above function is not flexible because adding more arguments raises an error\n",
        "no_args_example(1,2,3,4)"
      ],
      "metadata": {
        "execution": {
          "iopub.status.busy": "2021-08-09T09:28:11.338634Z",
          "iopub.execute_input": "2021-08-09T09:28:11.338960Z",
          "iopub.status.idle": "2021-08-09T09:28:11.353605Z",
          "shell.execute_reply.started": "2021-08-09T09:28:11.338931Z",
          "shell.execute_reply": "2021-08-09T09:28:11.352306Z"
        },
        "trusted": true,
        "id": "0sHUFSWRcHqC",
        "outputId": "a32a2dff-6216-4c3d-f751-6465a5d2dd9c"
      },
      "execution_count": null,
      "outputs": [
        {
          "traceback": [
            "\u001b[0;31m---------------------------------------------------------------------------\u001b[0m",
            "\u001b[0;31mTypeError\u001b[0m                                 Traceback (most recent call last)",
            "\u001b[0;32m<ipython-input-65-67b46dcf9319>\u001b[0m in \u001b[0;36m<module>\u001b[0;34m\u001b[0m\n\u001b[1;32m      1\u001b[0m \u001b[0;31m# Above function is not flexible because adding more arguments raises an error\u001b[0m\u001b[0;34m\u001b[0m\u001b[0;34m\u001b[0m\u001b[0;34m\u001b[0m\u001b[0m\n\u001b[0;32m----> 2\u001b[0;31m \u001b[0mno_args_example\u001b[0m\u001b[0;34m(\u001b[0m\u001b[0;36m1\u001b[0m\u001b[0;34m,\u001b[0m\u001b[0;36m2\u001b[0m\u001b[0;34m,\u001b[0m\u001b[0;36m3\u001b[0m\u001b[0;34m,\u001b[0m\u001b[0;36m4\u001b[0m\u001b[0;34m)\u001b[0m\u001b[0;34m\u001b[0m\u001b[0;34m\u001b[0m\u001b[0m\n\u001b[0m",
            "\u001b[0;31mTypeError\u001b[0m: no_args_example() takes 3 positional arguments but 4 were given"
          ],
          "ename": "TypeError",
          "evalue": "no_args_example() takes 3 positional arguments but 4 were given",
          "output_type": "error"
        }
      ]
    },
    {
      "cell_type": "code",
      "source": [
        "# Providing *args allows providing any number of argumets \n",
        "def args_example(*args):\n",
        "    print(type(args)) # for those who doesn't believe that *args returns a tuple\n",
        "    return sum(args)\n",
        "\n",
        "args_example(1,2,3,4)"
      ],
      "metadata": {
        "execution": {
          "iopub.status.busy": "2021-08-09T09:28:11.456425Z",
          "iopub.execute_input": "2021-08-09T09:28:11.457032Z",
          "iopub.status.idle": "2021-08-09T09:28:11.468651Z",
          "shell.execute_reply.started": "2021-08-09T09:28:11.456974Z",
          "shell.execute_reply": "2021-08-09T09:28:11.467429Z"
        },
        "trusted": true,
        "id": "Dwg4NT6NcHqC",
        "outputId": "5c4322c1-3a93-4b76-be0b-6c69b06b7beb"
      },
      "execution_count": null,
      "outputs": [
        {
          "name": "stdout",
          "text": "<class 'tuple'>\n",
          "output_type": "stream"
        },
        {
          "execution_count": 66,
          "output_type": "execute_result",
          "data": {
            "text/plain": "10"
          },
          "metadata": {}
        }
      ]
    },
    {
      "cell_type": "markdown",
      "source": [
        "Splendidly, \\*args allows providing **any number of arguments** by packing all positional argument into a tuple.\n",
        "\n",
        "### <a id=\"8.2\">8.2 **kwargs</a>\n",
        "\\*\\*kwargs stands for **keyword arguments.** It allows creating a **dictionary of keyword arguments with arbitrary length.** The main operator here is a double star, kwargs is again just a variable name and can be any."
      ],
      "metadata": {
        "id": "G530PNDScHqC"
      }
    },
    {
      "cell_type": "code",
      "source": [
        "# let's create a function with a fixed number of keyword arguments\n",
        "def no_kwargs_example(current_gold = 1000, item_price = 250):\n",
        "    return print('Remaining Gold: ', current_gold - item_price)\n",
        "no_kwargs_example()"
      ],
      "metadata": {
        "execution": {
          "iopub.status.busy": "2021-08-09T09:28:11.474878Z",
          "iopub.execute_input": "2021-08-09T09:28:11.475265Z",
          "iopub.status.idle": "2021-08-09T09:28:11.486179Z",
          "shell.execute_reply.started": "2021-08-09T09:28:11.475233Z",
          "shell.execute_reply": "2021-08-09T09:28:11.484816Z"
        },
        "trusted": true,
        "id": "_ZrjTuR6cHqC",
        "outputId": "9ba6c1f1-a5f4-41c8-e509-3c67fdc45e6a"
      },
      "execution_count": null,
      "outputs": [
        {
          "name": "stdout",
          "text": "Remaining Gold:  750\n",
          "output_type": "stream"
        }
      ]
    },
    {
      "cell_type": "code",
      "source": [
        "# Again, providing a new keyword argument raises an error. To prevent this, let's use **kwargs\n",
        "# Let's assume that first argument is always current_gold whereas other arguments will be bought items\n",
        "def kwargs_example(**kwargs):\n",
        "    print(type(kwargs)) # to make sure that **kwargs return a dictionary \n",
        "    keys = list(kwargs.keys()) # save keys of the dictionary for later iterations\n",
        "    for key in keys[1:]:\n",
        "        if kwargs[keys[0]] >= kwargs[key]:\n",
        "            kwargs[keys[0]] -= kwargs[key]\n",
        "            print(f'{key} was Bought. Remaining Gold: {kwargs[keys[0]]}')\n",
        "        else:\n",
        "            print('Not Enough Gold')\n",
        "\n",
        "kwargs_example(current_gold = 1000, sun_rune = 250, moon_rune = 450)"
      ],
      "metadata": {
        "execution": {
          "iopub.status.busy": "2021-08-09T09:28:11.488683Z",
          "iopub.execute_input": "2021-08-09T09:28:11.489119Z",
          "iopub.status.idle": "2021-08-09T09:28:11.503991Z",
          "shell.execute_reply.started": "2021-08-09T09:28:11.489070Z",
          "shell.execute_reply": "2021-08-09T09:28:11.501460Z"
        },
        "trusted": true,
        "id": "Y58UGhaXcHqD",
        "outputId": "f485cabf-6e69-482e-9b1d-c2f4c0eaf080"
      },
      "execution_count": null,
      "outputs": [
        {
          "name": "stdout",
          "text": "<class 'dict'>\nsun_rune was Bought. Remaining Gold: 750\nmoon_rune was Bought. Remaining Gold: 300\n",
          "output_type": "stream"
        }
      ]
    },
    {
      "cell_type": "markdown",
      "source": [
        "As we can see \\*\\*kwargs allows providing an arbitrary number of keyword arguments by unpacking them. So this all you have to know about **kwargs in Python. I do hope that it will help to make your future functions flexible and stable.\n",
        "### <a id=\"8.3\">8.3 Main Points of the Chapter</a>\n",
        "- \\*args stands for **positional** arguments, \\*\\*kwargs stands for **keyword** arguments;\n",
        "- \\*args and \\*\\*kwargs allow providing an **arbitrary** number of positional/keyword arguments;\n",
        "- **Arguments and parameters** of a function are **different terms;**\n",
        "- \\*args unpacks **tuple/list** into positional variables,\\*\\*kwargs is similar but can be applied only for a dictionary;**\n",
        "- Impossible to provide **several \\*args and \\*\\*kwargs** for a single function because it's unclear how to split arguments between them;\n",
        "- Positional and keyword arguments must follow the following order (**first - positional, then keyword arguments**)\n",
        "\n",
        "### <a id=\"9.a\"><a id=\"9\">9. Decorators</a></a>\n",
        "We've already seen decorators in action when we were dealing with **static and class** methods and I thought that we need to cover at least the basics before finishing our amazing journey in OOP. Decorators aren't related with OOP paradigm, they came from the realm of **functional programming** (it's another programming paradigm where a program is constructed by applying only functions). In functional paradigm functions are **first-class functions.** First-class functions are just more flexible and have the following **properties:**\n",
        "- Functions can be saved into variables; \n",
        "- Functions can be defined inside other functions (function nesting);\n",
        "- Functions can be passed as arguments into another function or functions\n",
        "\n",
        "### <a id=\"9.1\">9.1 What Is a Decorator?</a>\n",
        "Decorator is just a function which takes another function as an argument and changes or extends its logic without changing any line of code (I personally think that **extends is a more appropriate word** because decorated function must be executed anyway and only after we change the logic). Defining only a decorator once we can apply it many times and change the logic of any function, amazing, isn't it?\n",
        "\n",
        "Decorators can be applied to:\n",
        "- Classes (in this case decorator takes a class as an argument. However, **applying a decorator on a class doesn't affect class methods**)\n",
        "- Methods (takes a method as an argument)\n",
        "\n",
        "Function logic can be extended with the help of another function which is nested in a decorator, it's called a **wrapper**.\n",
        "The wrapper executes decorated function and extends its behaviour. From this point, you have to firstly face with a term **closure**.\n",
        "### <a id=\"9.2\">9.2 What Is Closure?</a>\n",
        "Closure is simply when a nested function has an access to arguments of the outermost function. Let's have a look at the following example"
      ],
      "metadata": {
        "id": "0gUvJj1dcHqD"
      }
    },
    {
      "cell_type": "code",
      "source": [
        "# For simplicity, let's define only one method with a nested function\n",
        "# A method for buying something in the game \n",
        "def buy_item(price): # this is the enclosing function\n",
        "    current_gold = 1000\n",
        "    def substract_gold(): # this is the nested function\n",
        "        if current_gold >= price:\n",
        "            remaining_gold = current_gold - price\n",
        "            return print('Remaining Gold: ', remaining_gold)\n",
        "        else:\n",
        "            return 'Not Enough Gold'\n",
        "    return substract_gold"
      ],
      "metadata": {
        "execution": {
          "iopub.status.busy": "2021-08-09T09:28:11.660457Z",
          "iopub.execute_input": "2021-08-09T09:28:11.660807Z",
          "iopub.status.idle": "2021-08-09T09:28:11.666854Z",
          "shell.execute_reply.started": "2021-08-09T09:28:11.660777Z",
          "shell.execute_reply": "2021-08-09T09:28:11.665581Z"
        },
        "trusted": true,
        "id": "d-FGo-MbcHqD"
      },
      "execution_count": null,
      "outputs": []
    },
    {
      "cell_type": "markdown",
      "source": [
        "Above we've created the nested function and applied the closure. **substract_gold()** function has an access to all variables of the main function **buy_item().**\n",
        "\n",
        "Let's execute the function:"
      ],
      "metadata": {
        "id": "uXjc4flzcHqE"
      }
    },
    {
      "cell_type": "code",
      "source": [
        "# Bought something that costed 50 gold coins\n",
        "buy_item(50)"
      ],
      "metadata": {
        "execution": {
          "iopub.status.busy": "2021-08-09T09:28:11.697130Z",
          "iopub.execute_input": "2021-08-09T09:28:11.697468Z",
          "iopub.status.idle": "2021-08-09T09:28:11.703337Z",
          "shell.execute_reply.started": "2021-08-09T09:28:11.697438Z",
          "shell.execute_reply": "2021-08-09T09:28:11.702240Z"
        },
        "trusted": true,
        "id": "DBP0VnezcHqE",
        "outputId": "7a045f67-8784-451c-9b92-00b48ef3348b"
      },
      "execution_count": null,
      "outputs": [
        {
          "execution_count": 70,
          "output_type": "execute_result",
          "data": {
            "text/plain": "<function __main__.buy_item.<locals>.substract_gold()>"
          },
          "metadata": {}
        }
      ]
    },
    {
      "cell_type": "markdown",
      "source": [
        "We can see that calling **buy_item(50)** leads to getting only the address of the inner function. This is because the function **buy_item()** returns only a reference to the **substract_gold()** function. To execute the function we should have written the function **remaining_gold** with parenthesis: **remaining_gold()**...but we do not need that. \n",
        "\n",
        "Let's save the result of the function into a variable "
      ],
      "metadata": {
        "id": "8rAOlBLScHqE"
      }
    },
    {
      "cell_type": "code",
      "source": [
        "# func_res keeps the result of buy_item() function which is a reference to the nested function \n",
        "func_res = buy_item(50) \n",
        "\n",
        "# Now variable func_res is a function and we can execute it. Let's try\n",
        "func_res()"
      ],
      "metadata": {
        "execution": {
          "iopub.status.busy": "2021-08-09T09:28:11.746686Z",
          "iopub.execute_input": "2021-08-09T09:28:11.747203Z",
          "iopub.status.idle": "2021-08-09T09:28:11.751797Z",
          "shell.execute_reply.started": "2021-08-09T09:28:11.747169Z",
          "shell.execute_reply": "2021-08-09T09:28:11.751118Z"
        },
        "trusted": true,
        "id": "EJ63nKCFcHqE",
        "outputId": "2c7c2e8c-d580-497e-d6b8-f6926e55caed"
      },
      "execution_count": null,
      "outputs": [
        {
          "name": "stdout",
          "text": "Remaining Gold:  950\n",
          "output_type": "stream"
        }
      ]
    },
    {
      "cell_type": "code",
      "source": [
        "# Actually, this option is also possible. \n",
        "# First, get a reference to the nested function (first parenthesis) \n",
        "# Then execute it (the second parenthesis)\n",
        "buy_item(50)()"
      ],
      "metadata": {
        "execution": {
          "iopub.status.busy": "2021-08-09T09:28:11.765206Z",
          "iopub.execute_input": "2021-08-09T09:28:11.766102Z",
          "iopub.status.idle": "2021-08-09T09:28:11.772893Z",
          "shell.execute_reply.started": "2021-08-09T09:28:11.766027Z",
          "shell.execute_reply": "2021-08-09T09:28:11.771194Z"
        },
        "trusted": true,
        "id": "jQl6No34cHqE",
        "outputId": "7a4d93b7-1b9f-4d45-cf9d-8d9415bccd87"
      },
      "execution_count": null,
      "outputs": [
        {
          "name": "stdout",
          "text": "Remaining Gold:  950\n",
          "output_type": "stream"
        }
      ]
    },
    {
      "cell_type": "markdown",
      "source": [
        "This is probably all you need to know about **closures** and now we can easily proceed with decorators, especially with the **wrapper function.**\n",
        "\n",
        "### <a id=\"9.3\">9.3 What Is a Wrapper Function?</a>\n",
        "It's just a **nested function of a decorator** which executes the decorated function and extends its behaviour. You might have already got bored with nesting but this is the concept on which decorators rely on. Understanding the Closre concept will help us in writing the first decorator.\n",
        "\n",
        "let's start with the first simple example:"
      ],
      "metadata": {
        "id": "okVLI671cHqF"
      }
    },
    {
      "cell_type": "code",
      "source": [
        "# Define the decorator\n",
        "# Decorator structure is just nested functions\n",
        "def show_message(func): # the main function\n",
        "    def wrapper(): # nested function\n",
        "        # execution of decorated function \n",
        "        # (no need to save into a variable because it just prints 5)\n",
        "        func() \n",
        "        print('Time to decorate!')\n",
        "        print('Decoration has finished')\n",
        "    return wrapper\n",
        "\n",
        "# Write a function to be decorated. The function simply prints 5\n",
        "def show_5():\n",
        "    print(5)\n",
        "    \n",
        "# Decorate show_5():\n",
        "show_5 = show_message(show_5)\n",
        "show_5()"
      ],
      "metadata": {
        "execution": {
          "iopub.status.busy": "2021-08-09T09:28:11.833910Z",
          "iopub.execute_input": "2021-08-09T09:28:11.834342Z",
          "iopub.status.idle": "2021-08-09T09:28:11.844665Z",
          "shell.execute_reply.started": "2021-08-09T09:28:11.834299Z",
          "shell.execute_reply": "2021-08-09T09:28:11.843266Z"
        },
        "trusted": true,
        "id": "xqqxF85WcHqF",
        "outputId": "f5ef2846-cc04-4b3f-cef2-33932e1e6d6f"
      },
      "execution_count": null,
      "outputs": [
        {
          "name": "stdout",
          "text": "5\nTime to decorate!\nDecoration has finished\n",
          "output_type": "stream"
        }
      ]
    },
    {
      "cell_type": "markdown",
      "source": [
        "Congrats, we've coped with the task and written the first decorator. However, it was probably the simplest example ever. In most cases, methods will have different arguments and the wrapper function must be able to take them all as well. For this purpose, we have to deal with **\\*args and \\*\\*kwargs.** Luckily, we already know the topic and can easily implement them.\n",
        "\n",
        "### <a id=\"9.4\">9.4 Decorator Implementation</a>\n",
        "Let it be simple. We may want to know who is using the method. Adding print to each code might be inconvenient and only in some cases, we may want to know who has used a certain method. As an alternative solution, you may use a method overloading and it will be working. However, it's inconvenient because you have to overload each method. When you have this situation applying a decorator can be a good solution for the problem. Let's overcome the problem by creating the following decorator:"
      ],
      "metadata": {
        "id": "029fABiFcHqF"
      }
    },
    {
      "cell_type": "code",
      "source": [
        "# Decorator Creation (i.e. function inside a function. Nested function is a wrapper)\n",
        "def show_name(func):\n",
        "    # function can take in positional as well as keyword arguments\n",
        "    def wrapper(self, *args, **kwargs): \n",
        "        # pack all possible argumetns. self must be treated separately\n",
        "        func(self, *args, **kwargs) \n",
        "        print(f'{self.name} has called the method')   \n",
        "    return wrapper\n",
        "        \n",
        "        \n",
        "# Familiar code        \n",
        "class Witcher(GameCharacter):\n",
        "    __signs = ('Axii', 'Qven', 'Ignii', 'Aard', 'Yrden')\n",
        "    \n",
        "    def __init__(self, name, hair_color, height, age, witcher_school = 'Wolf'):\n",
        "        super().__init__(name, hair_color, height, age)\n",
        "        self.witcher_school = witcher_school\n",
        "        self.signs = self.__class__.__signs\n",
        "           \n",
        "    def pick_sign(self):\n",
        "        sign_number = random.sample(range(0,len(self.signs)),1)[0]\n",
        "        return self.signs[sign_number]\n",
        "    \n",
        "    @show_name\n",
        "    def attack(self, is_monster = False):\n",
        "        if is_monster == True:\n",
        "            print(f'Bare Silver Sword\\nSign {self.pick_sign()} Is Ready')\n",
        "        else:\n",
        "            print(f'Bare Usual Sword\\nSign {self.pick_sign()} Is Ready')\n",
        "    @show_name \n",
        "    def greeting(self):\n",
        "        print(f\"My name is {self.name}\\nI'm the Witcher and I'm looking for the monsters\")\n",
        "    \n",
        "\n",
        "geralt = Witcher(name = 'Geralt', hair_color = 'White', height = 180, age = 48)  \n",
        "ciri = Witcher(name = 'Ciri', hair_color = 'White', height = 180, age = 22)\n",
        "vesimir = Witcher(name = 'Vesimir', hair_color = 'Grey', height = 180, age = 88)\n",
        "\n",
        "print('\\n')\n",
        "geralt.attack(is_monster = True)\n",
        "\n",
        "print('\\n')\n",
        "ciri.pick_sign()\n",
        "\n",
        "print('\\n')\n",
        "vesimir.greeting()"
      ],
      "metadata": {
        "execution": {
          "iopub.status.busy": "2021-08-09T09:28:11.899828Z",
          "iopub.execute_input": "2021-08-09T09:28:11.900223Z",
          "iopub.status.idle": "2021-08-09T09:28:11.921359Z",
          "shell.execute_reply.started": "2021-08-09T09:28:11.900188Z",
          "shell.execute_reply": "2021-08-09T09:28:11.920384Z"
        },
        "trusted": true,
        "id": "mtT4liixcHqF",
        "outputId": "311def31-4de0-440a-91f1-14ff9d8c5416"
      },
      "execution_count": null,
      "outputs": [
        {
          "name": "stdout",
          "text": "Geralt has been successfully created\nCiri has been successfully created\nVesimir has been successfully created\n\n\nBare Silver Sword\nSign Qven Is Ready\nGeralt has called the method\n\n\n\n\nMy name is Vesimir\nI'm the Witcher and I'm looking for the monsters\nVesimir has called the method\n",
          "output_type": "stream"
        }
      ]
    },
    {
      "cell_type": "markdown",
      "source": [
        "Unbelievable, defining the decorator **@show_name** only once we were able to extend the logic of all defined function in the **Witcher class.** I hope, the example has demonstrated how powerful decorators can be.\n",
        "\n",
        "### <a id=\"9.5\">9.5 Module functool.wraps</a> \n",
        "I have to point out one moment. If we will try to get the name of a decorated function, we get what we don't expect:"
      ],
      "metadata": {
        "id": "DOucaPhHcHqG"
      }
    },
    {
      "cell_type": "code",
      "source": [
        "geralt.greeting.__name__"
      ],
      "metadata": {
        "execution": {
          "iopub.status.busy": "2021-08-09T09:28:11.985506Z",
          "iopub.execute_input": "2021-08-09T09:28:11.985844Z",
          "iopub.status.idle": "2021-08-09T09:28:11.993751Z",
          "shell.execute_reply.started": "2021-08-09T09:28:11.985814Z",
          "shell.execute_reply": "2021-08-09T09:28:11.991761Z"
        },
        "trusted": true,
        "id": "YUZTJGGIcHqG",
        "outputId": "b4fc3340-5a37-4432-d055-477d01868d80"
      },
      "execution_count": null,
      "outputs": [
        {
          "execution_count": 75,
          "output_type": "execute_result",
          "data": {
            "text/plain": "'wrapper'"
          },
          "metadata": {}
        }
      ]
    },
    {
      "cell_type": "markdown",
      "source": [
        "It says that the function **greeting()** is a wrapper but this isn't what we want to see. In addition, we can't access and see attributes of the function as well. To overcome the problem, we have to manually rewrite the function **show_name()** and a reference to the documentation in the **wrapper()** function. Have a look:"
      ],
      "metadata": {
        "id": "02ag5QQKcHqG"
      }
    },
    {
      "cell_type": "code",
      "source": [
        "def show_name(func):\n",
        "    \n",
        "    def wrapper(self, *args, **kwargs): \n",
        "        func(self, *args, **kwargs)\n",
        "        print(f'{self.name} has called the method')\n",
        "    # Rewrite the function name and the reference to the documentation \n",
        "    wrapper.__name__ = func.__name__\n",
        "    wrapper.__doc__ = func.__doc__  \n",
        "    return wrapper\n",
        "   \n",
        "\n",
        "class Witcher(GameCharacter):\n",
        "    \n",
        "    __signs = ('Axii', 'Qven', 'Ignii', 'Aard', 'Yrden')\n",
        "    \n",
        "    def __init__(self, name, hair_color, height, age, witcher_school = 'Wolf'):\n",
        "        super().__init__(name, hair_color, height, age)\n",
        "        self.witcher_school = witcher_school\n",
        "        self.signs = self.__class__.__signs\n",
        "        \n",
        "    @show_name \n",
        "    def greeting(self):\n",
        "        print(f\"My name is {self.name}\\nI'm the Witcher and I'm looking for the monsters\")\n",
        "        \n",
        "geralt = Witcher(name = 'Geralt', hair_color = 'White', height = 180, age = 48)\n",
        "\n",
        "# Now everything is right\n",
        "geralt.greeting.__name__"
      ],
      "metadata": {
        "execution": {
          "iopub.status.busy": "2021-08-09T09:28:12.138302Z",
          "iopub.execute_input": "2021-08-09T09:28:12.138662Z",
          "iopub.status.idle": "2021-08-09T09:28:12.155297Z",
          "shell.execute_reply.started": "2021-08-09T09:28:12.138631Z",
          "shell.execute_reply": "2021-08-09T09:28:12.153766Z"
        },
        "trusted": true,
        "id": "vHROY93tcHqG",
        "outputId": "bd306787-e06a-4dfa-be80-acfdc4b4ae1a"
      },
      "execution_count": null,
      "outputs": [
        {
          "name": "stdout",
          "text": "Geralt has been successfully created\n",
          "output_type": "stream"
        },
        {
          "execution_count": 76,
          "output_type": "execute_result",
          "data": {
            "text/plain": "'greeting'"
          },
          "metadata": {}
        }
      ]
    },
    {
      "cell_type": "markdown",
      "source": [
        "However, there is a better solution which provides **module functool.wraps**. All we have to do is just add a decorator **@wraps** to the function **wrapper()** and it solves all previous problems with the help of a single line of code."
      ],
      "metadata": {
        "id": "am79so7XcHqH"
      }
    },
    {
      "cell_type": "code",
      "source": [
        "from functools import wraps\n",
        "\n",
        "def show_name(func):\n",
        "    # Only need to add a decorator \n",
        "    @wraps(func)\n",
        "    def wrapper(self, *args, **kwargs): \n",
        "        func(self, *args, **kwargs)\n",
        "        print(f'{self.name} has called the method')\n",
        "    return wrapper\n",
        "\n",
        "class Witcher(GameCharacter):\n",
        "    \n",
        "    __signs = ('Axii', 'Qven', 'Ignii', 'Aard', 'Yrden')\n",
        "    \n",
        "    def __init__(self, name, hair_color, height, age, witcher_school = 'Wolf'):\n",
        "        super().__init__(name, hair_color, height, age)\n",
        "        self.witcher_school = witcher_school\n",
        "        self.signs = self.__class__.__signs\n",
        "        \n",
        "    @show_name \n",
        "    def greeting(self):\n",
        "        print(f\"My name is {self.name}\\nI'm the Witcher and I'm looking for the monsters\")\n",
        "        \n",
        "geralt = Witcher(name = 'Geralt', hair_color = 'White', height = 180, age = 48)\n",
        "\n",
        "# Now everything is right\n",
        "geralt.greeting.__name__"
      ],
      "metadata": {
        "execution": {
          "iopub.status.busy": "2021-08-09T09:28:12.156734Z",
          "iopub.execute_input": "2021-08-09T09:28:12.157484Z",
          "iopub.status.idle": "2021-08-09T09:28:12.173793Z",
          "shell.execute_reply.started": "2021-08-09T09:28:12.157445Z",
          "shell.execute_reply": "2021-08-09T09:28:12.172747Z"
        },
        "trusted": true,
        "id": "mxyOLjXYcHqH",
        "outputId": "83a71614-8081-4daf-94e5-05a2a221654c"
      },
      "execution_count": null,
      "outputs": [
        {
          "name": "stdout",
          "text": "Geralt has been successfully created\n",
          "output_type": "stream"
        },
        {
          "execution_count": 77,
          "output_type": "execute_result",
          "data": {
            "text/plain": "'greeting'"
          },
          "metadata": {}
        }
      ]
    },
    {
      "cell_type": "markdown",
      "source": [
        "For more info, check this huge article about python decorators:\n",
        "- https://realpython.com/primer-on-python-decorators/#more-real-world-examples\n",
        "\n",
        "### <a id=\"9.6\">9.6 Main Built-in Decorators in Python</a> \n",
        "\n",
        "Python includes **3 main build-in decorators:**\n",
        "- @classmethod;\n",
        "- @staticmethod;\n",
        "- @property\n",
        "\n",
        "The first two we already know but **@property** is something new for us. With the help of this decorator we can:\n",
        "- **\"Transform\"** a function into a property (field);\n",
        "- Create methods for **getting/setting and deleting property values** in a more convenient way\n",
        "\n",
        "### <a id=\"9.7\">9.7 How Can I Get a Property From a Function?</a>\n",
        "\n",
        "Decorator **@property** allows transforming a function into a property. For instance, we may want to define a function that combines some properties or make a result of a function a new property. All you have to do is just apply **@property** on a function.\n",
        "\n",
        "Let's come back to **Witcher class** and transform a function **pick_sign()** into a property."
      ],
      "metadata": {
        "id": "G2w5wPnDcHqH"
      }
    },
    {
      "cell_type": "code",
      "source": [
        "class Witcher(GameCharacter):\n",
        "    \n",
        "    __signs = ('Axii', 'Qven', 'Ignii', 'Aard', 'Yrden')\n",
        "    \n",
        "    def __init__(self, name, hair_color, height, age, witcher_school = 'Wolf'):\n",
        "        super().__init__(name, hair_color, height, age)\n",
        "        self.witcher_school = witcher_school\n",
        "        self.signs = self.__class__.__signs\n",
        "     \n",
        "    # Define a new property\n",
        "    @property       \n",
        "    def pick_sign(self):\n",
        "        sign_number = random.sample(range(0,len(self.signs)),1)[0]\n",
        "        return self.signs[sign_number]\n",
        "    \n",
        "ciri = Witcher(name = 'Ciri', hair_color = 'White', height = 180, age = 22)\n",
        "\n",
        "# Now instead of a method Ciri has a new property\n",
        "ciri.pick_sign"
      ],
      "metadata": {
        "execution": {
          "iopub.status.busy": "2021-08-09T09:28:12.205912Z",
          "iopub.execute_input": "2021-08-09T09:28:12.206475Z",
          "iopub.status.idle": "2021-08-09T09:28:12.221379Z",
          "shell.execute_reply.started": "2021-08-09T09:28:12.206440Z",
          "shell.execute_reply": "2021-08-09T09:28:12.220085Z"
        },
        "trusted": true,
        "id": "Mt8Yi_o5cHqH",
        "outputId": "1914a93e-5fd5-4808-e1eb-c292f4350e55"
      },
      "execution_count": null,
      "outputs": [
        {
          "name": "stdout",
          "text": "Ciri has been successfully created\n",
          "output_type": "stream"
        },
        {
          "execution_count": 78,
          "output_type": "execute_result",
          "data": {
            "text/plain": "'Axii'"
          },
          "metadata": {}
        }
      ]
    },
    {
      "cell_type": "markdown",
      "source": [
        "You can make as above but I personally prefer defining a property like that:"
      ],
      "metadata": {
        "id": "NROziL2TcHqL"
      }
    },
    {
      "cell_type": "code",
      "source": [
        "class Witcher(GameCharacter):\n",
        "    \n",
        "    __signs = ('Axii', 'Qven', 'Ignii', 'Aard', 'Yrden')\n",
        "    \n",
        "    def __init__(self, name, hair_color, height, age, witcher_school = 'Wolf'):\n",
        "        GameCharacter.__init__(self, name, hair_color, height, age)\n",
        "        self.witcher_school = witcher_school\n",
        "        self.signs = self.__class__.__signs\n",
        "        \n",
        "    # Don't touch origianl function      \n",
        "    def pick_sign(self):\n",
        "        sign_number = random.sample(range(0,len(self.signs)),1)[0]\n",
        "        return self.signs[sign_number]\n",
        "    \n",
        "    # Now define a new property name (the name of a function will be a new property)\n",
        "    @property\n",
        "    def picked_sign(self):\n",
        "        return self.pick_sign()\n",
        "      \n",
        "ciri = Witcher(name = 'Ciri', hair_color = 'White', height = 180, age = 22)\n",
        "\n",
        "# let's call the created property\n",
        "ciri.picked_sign"
      ],
      "metadata": {
        "execution": {
          "iopub.status.busy": "2021-08-09T09:28:12.270533Z",
          "iopub.execute_input": "2021-08-09T09:28:12.271100Z",
          "iopub.status.idle": "2021-08-09T09:28:12.286633Z",
          "shell.execute_reply.started": "2021-08-09T09:28:12.271036Z",
          "shell.execute_reply": "2021-08-09T09:28:12.285144Z"
        },
        "trusted": true,
        "id": "5gIJ1--McHqL",
        "outputId": "f73054cd-9303-4f06-f56c-843225d1caf2"
      },
      "execution_count": null,
      "outputs": [
        {
          "name": "stdout",
          "text": "Ciri has been successfully created\n",
          "output_type": "stream"
        },
        {
          "execution_count": 79,
          "output_type": "execute_result",
          "data": {
            "text/plain": "'Aard'"
          },
          "metadata": {}
        }
      ]
    },
    {
      "cell_type": "code",
      "source": [
        "# However, we can't change or delete this property.\n",
        "# For this purpose, we have to define the setter and deleter\n",
        "ciri.picked_sign = 'Qven'"
      ],
      "metadata": {
        "execution": {
          "iopub.status.busy": "2021-08-09T09:28:12.291600Z",
          "iopub.execute_input": "2021-08-09T09:28:12.291962Z",
          "iopub.status.idle": "2021-08-09T09:28:12.307786Z",
          "shell.execute_reply.started": "2021-08-09T09:28:12.291915Z",
          "shell.execute_reply": "2021-08-09T09:28:12.306637Z"
        },
        "trusted": true,
        "id": "2jwzij5rcHqL",
        "outputId": "71f47d14-5d00-476b-abc7-c726c488a856"
      },
      "execution_count": null,
      "outputs": [
        {
          "traceback": [
            "\u001b[0;31m---------------------------------------------------------------------------\u001b[0m",
            "\u001b[0;31mAttributeError\u001b[0m                            Traceback (most recent call last)",
            "\u001b[0;32m<ipython-input-80-eb4c8236362d>\u001b[0m in \u001b[0;36m<module>\u001b[0;34m\u001b[0m\n\u001b[1;32m      1\u001b[0m \u001b[0;31m# However, we can't change or delete this property.\u001b[0m\u001b[0;34m\u001b[0m\u001b[0;34m\u001b[0m\u001b[0;34m\u001b[0m\u001b[0m\n\u001b[1;32m      2\u001b[0m \u001b[0;31m# For this purpose, we have to define the setter and deleter\u001b[0m\u001b[0;34m\u001b[0m\u001b[0;34m\u001b[0m\u001b[0;34m\u001b[0m\u001b[0m\n\u001b[0;32m----> 3\u001b[0;31m \u001b[0mciri\u001b[0m\u001b[0;34m.\u001b[0m\u001b[0mpicked_sign\u001b[0m \u001b[0;34m=\u001b[0m \u001b[0;34m'Qven'\u001b[0m\u001b[0;34m\u001b[0m\u001b[0;34m\u001b[0m\u001b[0m\n\u001b[0m",
            "\u001b[0;31mAttributeError\u001b[0m: can't set attribute"
          ],
          "ename": "AttributeError",
          "evalue": "can't set attribute",
          "output_type": "error"
        }
      ]
    },
    {
      "cell_type": "markdown",
      "source": [
        "We've already covered **getters, setters and deleters**. However, there is a more convenient way of defining them. \n",
        "\n",
        "Keep in mind that there are two options of defining the getters, setters and deleters:\n",
        "- Using **@property decorator;**\n",
        "- Using **property class**\n",
        "\n",
        "Let's deal with them one by one\n",
        "\n",
        "###  <a id=\"8.8.1\"><a id=\"9.7.1\">9.7.1 Property Class Implementation</a></a>\n",
        "I suggest coming back to the example that was covered in <a href='#5.3.2.0'>5.3.3 Getting and Setting Encapsulated Attributes</a> and rewrite it by using **property class.**\n"
      ],
      "metadata": {
        "id": "kXXrqquecHqL"
      }
    },
    {
      "cell_type": "code",
      "source": [
        "class GameCharacter:\n",
        " \n",
        "    _counter = 0\n",
        "\n",
        "    def __init__(self, name, hair_color, height):\n",
        "        self.__name = name\n",
        "        self.__hair_color = hair_color\n",
        "        self.__height = height\n",
        "        self.__class__._counter += 1\n",
        "        \n",
        "    def __del__(self):\n",
        "        self.__class__._counter -= 1\n",
        "        \n",
        "    # Define the getter, setter and deleter\n",
        "    def get_counter(self):\n",
        "        return self.__class__._counter\n",
        "   \n",
        "    def set_counter(self, new_value):\n",
        "        # Only int is allowed\n",
        "        if isinstance(new_value, int):\n",
        "            self.__class__._counter = new_value\n",
        "        else:\n",
        "            raise TypeError('Counter Must Be Int!')\n",
        "      \n",
        "    def drop_counter(self):\n",
        "        print('Counter Has Been Deleted')\n",
        "        del self.__class__._counter\n",
        "        \n",
        "    # Now we can name our property. Let's name it counter.\n",
        "    # We define counter property by using the special class property \n",
        "    # and pass the created getter, setter and deleter as arguments\n",
        "    \n",
        "    # As forth argument description of the property may be passed\n",
        "    counter = property(get_counter, set_counter, drop_counter, 'Counter of Game Characters')\n",
        "        \n",
        "geralt = GameCharacter(name = 'Geralt', hair_color = 'White', height = 180)\n",
        "ciri = GameCharacter(name = 'Ciri', hair_color = 'White', height = 180)\n",
        "\n",
        "# The class property allows not calling get_counter(), set_counter() and drop_counter() methods\n",
        "# We can get, set and delete the property counter using the dot notation\n",
        "print('Initial Number of Created Game Characters: ', ciri.counter)\n",
        "\n",
        "ciri.counter = 10\n",
        "print('New Counter Value: ', ciri.counter)\n",
        "\n",
        "del ciri.counter"
      ],
      "metadata": {
        "execution": {
          "iopub.status.busy": "2021-08-09T09:28:12.410156Z",
          "iopub.execute_input": "2021-08-09T09:28:12.410552Z",
          "iopub.status.idle": "2021-08-09T09:28:12.425937Z",
          "shell.execute_reply.started": "2021-08-09T09:28:12.410514Z",
          "shell.execute_reply": "2021-08-09T09:28:12.424788Z"
        },
        "trusted": true,
        "id": "4JS1xUtacHqM",
        "outputId": "6901a412-4d0f-4cc5-dce1-c613c0ccf5c6"
      },
      "execution_count": null,
      "outputs": [
        {
          "name": "stdout",
          "text": "Initial Number of Created Game Characters:  2\nNew Counter Value:  10\nCounter Has Been Deleted\n",
          "output_type": "stream"
        }
      ]
    },
    {
      "cell_type": "markdown",
      "source": [
        "It looks much better, isn't it?\n",
        "\n",
        "### <a id=\"9.7.2\">9.7.2 Property Decorator Implementation</a> \n",
        "Here we will cover another example. Let's apply **@property** on **Witcher class** and define its getter, setter and deleter methods."
      ],
      "metadata": {
        "id": "Ky7nyYuAcHqM"
      }
    },
    {
      "cell_type": "code",
      "source": [
        "# We have to rewrite GameCharacter class because:\n",
        "# 1. Make the field counter protected because private attributes can't be inherited\n",
        "# 2. In above code __counter becomes the property .counter \n",
        "class GameCharacter:\n",
        "    \n",
        "    _counter = 0\n",
        "\n",
        "    def __init__(self, name, hair_color, height):\n",
        "        self.__name = name\n",
        "        self.__hair_color = hair_color\n",
        "        self.__height = height\n",
        "        self.__class__._counter += 1\n",
        "    \n",
        "    def __del__(self):\n",
        "        self.__class__._counter -= 1\n",
        "\n",
        "class Witcher(GameCharacter):\n",
        "    \n",
        "    __signs = ('Axii', 'Qven', 'Ignii', 'Aard', 'Yrden')\n",
        "    \n",
        "    def __init__(self, name, hair_color, height, witcher_school = 'Wolf'):\n",
        "        super().__init__(name, hair_color, height)\n",
        "        self.witcher_school = witcher_school\n",
        "        self.signs = self.__class__.__signs\n",
        "        \n",
        "    def pick_sign(self):\n",
        "        # I had to modify this function due to signs[sign_number]. \n",
        "        # The explanation will be described after the code section\n",
        "        if isinstance(self.signs, tuple):\n",
        "            sign_number = random.sample(range(0,len(self.signs)),1)[0]\n",
        "            return self.signs[sign_number]\n",
        "        else:\n",
        "            return self.signs\n",
        "        \n",
        "    @property\n",
        "    def picked_sign(self):\n",
        "        return self.pick_sign()\n",
        "        \n",
        "\n",
        "    # For setter use the following syntax: @property_name.setter\n",
        "    @picked_sign.setter\n",
        "    def picked_sign(self, new_value):\n",
        "        # Allow only string values \n",
        "        if isinstance(new_value, str):\n",
        "            self.signs = new_value\n",
        "        else:\n",
        "            raise TypeError('New Value Must Have a String Format')\n",
        "    \n",
        "    # For deleter use the following syntax: @property_name.deleter\n",
        "    @picked_sign.deleter\n",
        "    def picked_sign(self):\n",
        "        print(f'Property {self.signs} Has Been Successfully Deleted!')\n",
        "        del self.signs\n",
        "    \n",
        "ciri = Witcher(name = 'Ciri', hair_color = 'White', height = 180)\n",
        "print('Currently Picked Sign: ', ciri.picked_sign)\n",
        "\n",
        "# Let's set another value for property pick_sign\n",
        "ciri.picked_sign = 'Ignii'\n",
        "print('New Set Sign Value: ', ciri.picked_sign)\n",
        "\n",
        "# Can delete as well\n",
        "del ciri.picked_sign"
      ],
      "metadata": {
        "execution": {
          "iopub.status.busy": "2021-08-09T09:28:12.438628Z",
          "iopub.execute_input": "2021-08-09T09:28:12.439204Z",
          "iopub.status.idle": "2021-08-09T09:28:12.458130Z",
          "shell.execute_reply.started": "2021-08-09T09:28:12.439155Z",
          "shell.execute_reply": "2021-08-09T09:28:12.457071Z"
        },
        "trusted": true,
        "id": "5sXjqirkcHqM",
        "outputId": "a8265aa8-aa6e-471f-88d8-8577e44b5785"
      },
      "execution_count": null,
      "outputs": [
        {
          "name": "stdout",
          "text": "Currently Picked Sign:  Ignii\nNew Set Sign Value:  Ignii\nProperty Ignii Has Been Successfully Deleted!\n",
          "output_type": "stream"
        },
        {
          "name": "stderr",
          "text": "Exception ignored in: <function GameCharacter.__del__ at 0x7f845a5e1f80>\nTraceback (most recent call last):\n  File \"<ipython-input-81-cfbc52eb5ee3>\", line 12, in __del__\nAttributeError: type object 'GameCharacter' has no attribute '_counter'\n",
          "output_type": "stream"
        }
      ]
    },
    {
      "cell_type": "markdown",
      "source": [
        "In the above code, we've implemented the **setter and deleter methods** by using the special decorator **@property**. I've decided to make the function **pick_sign() a property.** After it became a property, whenever we want to call this property it **executes** the function **pick_sign()**.\n",
        "\n",
        "In my case, I had to **reimplement** this function because it was returning a tuple with a random index. Can you guess what kind of a problem it leads? When setting a new property value, it executes the function again and instead of a new sign name we get only a new letter of that sign name. To overcome the problem, I've defined the following checking (first calling self.signs always returns a tuple, whereas the second one - a string). Luckily, it works.\n",
        "\n",
        "So you've seen that we can transform a function into a new property and we can do that in two different ways either using the decorator or the class **property.** In addition, we can not only create a new property but also change it using setters and deleters.\n",
        "\n",
        "### <a id=\"9.8\">9.8 Main Points of the Chapter</a>\n",
        "- Functions are **first-class objects** in Python;\n",
        "- **Decorator** is a function which extends the logic of a decorated function;\n",
        "- **Wrapper function** is nested into a decorator. It executes a decorated function and extends its logic;\n",
        "- Decorator can be applied to **classes and objects;**\n",
        "- Decoration of a class doesn't decorate its methods.\n",
        "- **@wraps** copies decorated function name, signature and documentation.\n",
        "\n",
        "### <a id=\"10.0\"><a id=\"10\">10. Desriptors</a></a>\n",
        "Descriptor is an object attribute with binding behaviour (i.e. an object attribute whose behaviour is being overridden by descriptor methods). I'm sure that the definition is complex and probably doesn't make any sense. For this purpose, let's use another definition: Descriptor is a class where there are 3 special methods:\n",
        "\n",
        "- \\_\\_get__() # getter\n",
        "- \\_\\_set__() # setter\n",
        "- \\_\\_delete__() # deleter\n",
        "\n",
        "Besides, descriptors can be divided into two groups:\n",
        "- **Data-Descriptor** # has all methods\n",
        "- **Non-Data Descriptor** # has only get() method\n",
        "\n",
        "We already familiar with these methods but once we've faced with a problem. We could define the getters, setters and deleters only for one attribute. With the help of descriptors, our life becomes much easier. We only need to find attributes that are similar in terms of behaviour (i.e attributes that have binding behaviour) and define descriptors for them. Once the descriptors defined, they provide similar behaviour for binding attributes (i.e. defining the getters, setters and deleters only once, we can get, change and delete binding attributes) and this is super cool!\n",
        "\n",
        "let's come back to the example that was covered in chapter <a href='#5.3.2.1'>5.3.3 Getting, Setting and Deleting Encapsulated Attributes</a> and apply descriptors"
      ],
      "metadata": {
        "id": "8muuisGecHqN"
      }
    },
    {
      "cell_type": "code",
      "source": [
        "# First we have to define class for descriptors. Let's name it Descriptor\n",
        "class Descriptor:\n",
        "\n",
        "    def __init__(self, name):\n",
        "        self.__name = name\n",
        "        \n",
        "    def __get__(self, instance, owner):\n",
        "        return instance.__dict__[self.__name]\n",
        "    \n",
        "    def __set__(self, instance, value):\n",
        "        if self.__name in ['name','hair_color']:\n",
        "            if isinstance(value, str):\n",
        "                instance.__dict__[self.__name] = value\n",
        "            else:\n",
        "                raise TypeError\n",
        "        else:\n",
        "            if isinstance(value, int):\n",
        "                instance.__dict__[self.__name] = value\n",
        "            else:\n",
        "                raise TypeError\n",
        "                \n",
        "    def __delete__(self, instance):\n",
        "        print(f'Property {self.__name} Has Been Deleted')\n",
        "        del instance.__dict__[self.__name]\n",
        "        \n",
        "        \n",
        "class GameCharacter:\n",
        "    \n",
        "    # First define descriptors as below\n",
        "    name = Descriptor('name')\n",
        "    hair_color = Descriptor('hair_color')\n",
        "    height = Descriptor('height')\n",
        "    \n",
        "    # All the rest looks the same\n",
        "    __counter = 0\n",
        "\n",
        "    def __init__(self, name, hair_color, height):\n",
        "        self.name = name\n",
        "        self.hair_color = hair_color\n",
        "        self.height = height\n",
        "        \n",
        "        self.__class__.__counter += 1\n",
        "        \n",
        "geralt = GameCharacter(name = 'Geralt', hair_color = 'White', height = 180)\n",
        "bob = GameCharacter(name = 'bob', hair_color = 'White', height = 180)\n",
        "\n",
        "# Now we get, set and delete properties (attributes) much easier. Plus, we've defined parameters check before assigning them\n",
        "print('Using Get To Access a Property Value: ', geralt.name)\n",
        "\n",
        "# New value setting\n",
        "geralt.height = 175\n",
        "print('New Height Value: ', geralt.height)\n",
        "\n",
        "# Let's delete property hair_clor\n",
        "del geralt.hair_color"
      ],
      "metadata": {
        "execution": {
          "iopub.status.busy": "2021-08-09T09:28:12.516381Z",
          "iopub.execute_input": "2021-08-09T09:28:12.516727Z",
          "iopub.status.idle": "2021-08-09T09:28:12.537149Z",
          "shell.execute_reply.started": "2021-08-09T09:28:12.516697Z",
          "shell.execute_reply": "2021-08-09T09:28:12.535806Z"
        },
        "trusted": true,
        "id": "L2F7l7-lcHqN",
        "outputId": "3b10471f-4211-4ebc-9258-1d262413f04c"
      },
      "execution_count": null,
      "outputs": [
        {
          "name": "stdout",
          "text": "Using Get To Access a Property Value:  Geralt\nNew Height Value:  175\nProperty hair_color Has Been Deleted\n",
          "output_type": "stream"
        },
        {
          "name": "stderr",
          "text": "Exception ignored in: <function GameCharacter.__del__ at 0x7f845a5e1f80>\nTraceback (most recent call last):\n  File \"<ipython-input-81-cfbc52eb5ee3>\", line 12, in __del__\nAttributeError: type object 'GameCharacter' has no attribute '_counter'\n",
          "output_type": "stream"
        }
      ]
    },
    {
      "cell_type": "markdown",
      "source": [
        "let's understand what was going on in the code above. We should always start with defining the **descriptor class**. The name of the class can be any (not obligatory descriptor, I've just named it like that because this name is pretty straightforward).\n",
        "\n",
        "The first method in the descriptor class is **\\_\\_init__()**. In this method, we save the name of local property into property **__name.**\n",
        "\n",
        "In __get__() method, we define what the method should return when we call the property. As it's the **get()** method it must return a calling attribute. Also, have a look at arguments which the method take in:\n",
        "- **self** # belongs to the descriptor property (descriptor instance);\n",
        "- **instance** # instance of the class (e.g. ciri, geralt and so forth);\n",
        "- **owner** # a class in which the descriptors are defined (Witcher class)\n",
        "\n",
        "Here **instance** argument will refer to an instance for which the descriptor was called. Then for this instance, a descriptor property is being created. In **get()** method, we call this property, whereas in the **set()** method we assign a new value for this property as well as check value type. In **deleter**, the logic is the same.\n",
        "\n",
        "**Important Notes**\n",
        "\n",
        "**\\_\\_init__()** method from Witcher class doesn't create local attributes for Witcher class. Instead, here it assigns values to the descriptors. New properties aren't created due to descriptors operators overloading and method __set__() from descriptor class is called.\n",
        "\n",
        "Starting from Python 3.6+ a more convenient method has appeared. \n",
        "\n",
        "All we need to do is just write instead of **\\_\\_init__()** another method **\\_\\_set_name__()**"
      ],
      "metadata": {
        "id": "J4_IxYIqcHqN"
      }
    },
    {
      "cell_type": "code",
      "source": [
        "class Descriptor:\n",
        "    \n",
        "    def __set_name(self, owner, name):\n",
        "        self.__name = name\n",
        "\n",
        "    def __get__(self, instance, owner):\n",
        "        return instance.__dict__[self.__name]\n",
        "    \n",
        "    def __set__(self, instance, value):\n",
        "        if self.__name in ['name','hair_color']:\n",
        "            if isinstance(value, str):\n",
        "                instance.__dict__[self.__name] = value\n",
        "            else:\n",
        "                raise TypeError\n",
        "        else:\n",
        "            if isinstance(value, int):\n",
        "                instance.__dict__[self.__name] = value\n",
        "            else:\n",
        "                raise TypeError\n",
        "                \n",
        "    def __delete__(self, instance):\n",
        "        print(f'Property {self.__name} Has Been Deleted')\n",
        "        del instance.__dict__[self.__name]\n",
        "        \n",
        "class GameCharacter:\n",
        "    \n",
        "    # There is now need to rpovide names as parameters\n",
        "    name = Descriptor()\n",
        "    hair_color = Descriptor()\n",
        "    height = Descriptor()\n",
        "\n",
        "    # All the rest is the same\n",
        "    __counter = 0\n",
        "\n",
        "    def __init__(self, name, hair_color, height):\n",
        "        self.name = name\n",
        "        self.hair_color = hair_color\n",
        "        self.height = height\n",
        "        \n",
        "        self.__class__.__counter += 1"
      ],
      "metadata": {
        "execution": {
          "iopub.status.busy": "2021-08-09T09:28:12.677529Z",
          "iopub.execute_input": "2021-08-09T09:28:12.677865Z",
          "iopub.status.idle": "2021-08-09T09:28:12.690387Z",
          "shell.execute_reply.started": "2021-08-09T09:28:12.677836Z",
          "shell.execute_reply": "2021-08-09T09:28:12.689018Z"
        },
        "trusted": true,
        "id": "gxqYvdxjcHqO"
      },
      "execution_count": null,
      "outputs": []
    },
    {
      "cell_type": "markdown",
      "source": [
        "### <a id=\"11\">11. Abstract Classes. Why Do We Need Them?</a>\n",
        "First of all, let's understand what is an abstract class:\n",
        "- **Abstract class** is a class which has at least **one abstract method or property** (a method which is defined but not implemented)\n",
        "\n",
        "Abstract classes provide a **mutual interface** (a set of attributes) for its child classes. It helps to make sure that we defined all methods for all child classes and didn't forget anything. If we did forget, we aren't able to even create an object and this is better because we can know where exactly we forgot something and solve a problem faster.  \n",
        "\n",
        "Using abstract classes leads to an **increase in modularity and readability of the code.** It gives more insights to the developers of what is going on in the code as well as handle possible errors much faster.\n",
        "\n",
        "**In Python, abstract classes don't exist naturally.** To create them we have to import a special module called abc (**Abstract Base Class**).\n",
        "\n",
        "### <a id=\"11.1\">11.1 Abstract Base Class Module</a>\n",
        "\n",
        "**Abstract Base Class module** (ABC) provides an opportunity to create abstract classes in Python. There are several options for how you can create abstract classes. Have a look:"
      ],
      "metadata": {
        "id": "tdmfO_11cHqO"
      }
    },
    {
      "cell_type": "code",
      "source": [
        "# Import ABC module\n",
        "from abc import ABC, ABCMeta\n",
        "\n",
        "# First option (My favourite one)\n",
        "class AbstractClass(ABC):\n",
        "        pass\n",
        "\n",
        "# The second option\n",
        "class AbstractClass(metaclass = ABCMeta):\n",
        "    pass"
      ],
      "metadata": {
        "execution": {
          "iopub.status.busy": "2021-08-09T09:28:12.692320Z",
          "iopub.execute_input": "2021-08-09T09:28:12.692667Z",
          "iopub.status.idle": "2021-08-09T09:28:12.708761Z",
          "shell.execute_reply.started": "2021-08-09T09:28:12.692635Z",
          "shell.execute_reply": "2021-08-09T09:28:12.707814Z"
        },
        "trusted": true,
        "id": "cIgdfR3tcHqO"
      },
      "execution_count": null,
      "outputs": []
    },
    {
      "cell_type": "markdown",
      "source": [
        "From classes above we can create an object because we haven't defined any abstract methods or properties (there is nothing overload). Have a look:"
      ],
      "metadata": {
        "id": "ik6lDAtFcHqP"
      }
    },
    {
      "cell_type": "code",
      "source": [
        "abstract_object = AbstractClass()\n",
        "abstract_object"
      ],
      "metadata": {
        "execution": {
          "iopub.status.busy": "2021-08-09T09:28:12.811217Z",
          "iopub.execute_input": "2021-08-09T09:28:12.811561Z",
          "iopub.status.idle": "2021-08-09T09:28:12.817339Z",
          "shell.execute_reply.started": "2021-08-09T09:28:12.811532Z",
          "shell.execute_reply": "2021-08-09T09:28:12.816317Z"
        },
        "trusted": true,
        "id": "2RmNvTLccHqP",
        "outputId": "eebf3871-6af2-4cee-b54d-5126a70a274d"
      },
      "execution_count": null,
      "outputs": [
        {
          "execution_count": 86,
          "output_type": "execute_result",
          "data": {
            "text/plain": "<__main__.AbstractClass at 0x7f845a5b9c10>"
          },
          "metadata": {}
        }
      ]
    },
    {
      "cell_type": "markdown",
      "source": [
        "To define abstract methods and properties in an abstract class, we have to import **abstractmethod** and **abstractproperty** explicitly."
      ],
      "metadata": {
        "id": "sVqhjdikcHqP"
      }
    },
    {
      "cell_type": "code",
      "source": [
        "from abc import ABC, abstractmethod, abstractproperty\n",
        "\n",
        "class AbstractClass(ABC):\n",
        "    # Define one abstract method by using the following decorator\n",
        "    @abstractmethod \n",
        "    def attack(self):\n",
        "        pass\n",
        "    # The abstract property\n",
        "    @abstractproperty\n",
        "    def greeting(self):\n",
        "        pass"
      ],
      "metadata": {
        "execution": {
          "iopub.status.busy": "2021-08-09T09:28:12.818714Z",
          "iopub.execute_input": "2021-08-09T09:28:12.819070Z",
          "iopub.status.idle": "2021-08-09T09:28:12.830071Z",
          "shell.execute_reply.started": "2021-08-09T09:28:12.818989Z",
          "shell.execute_reply": "2021-08-09T09:28:12.829182Z"
        },
        "trusted": true,
        "id": "QPFANCNqcHqP"
      },
      "execution_count": null,
      "outputs": []
    },
    {
      "cell_type": "markdown",
      "source": [
        "After we've defined at least one abstract method or property we can't create an object any more. Have a look:"
      ],
      "metadata": {
        "id": "JpLnEZPOcHqP"
      }
    },
    {
      "cell_type": "code",
      "source": [
        "abstract_object = AbstractClass()"
      ],
      "metadata": {
        "execution": {
          "iopub.status.busy": "2021-08-09T09:28:12.879554Z",
          "iopub.execute_input": "2021-08-09T09:28:12.880067Z",
          "iopub.status.idle": "2021-08-09T09:28:12.893430Z",
          "shell.execute_reply.started": "2021-08-09T09:28:12.880013Z",
          "shell.execute_reply": "2021-08-09T09:28:12.892221Z"
        },
        "trusted": true,
        "id": "15Iqcx7ucHqQ",
        "outputId": "091d20c7-259c-4b11-de05-8b170c7dac8e"
      },
      "execution_count": null,
      "outputs": [
        {
          "traceback": [
            "\u001b[0;31m---------------------------------------------------------------------------\u001b[0m",
            "\u001b[0;31mTypeError\u001b[0m                                 Traceback (most recent call last)",
            "\u001b[0;32m<ipython-input-88-047c7a6ae952>\u001b[0m in \u001b[0;36m<module>\u001b[0;34m\u001b[0m\n\u001b[0;32m----> 1\u001b[0;31m \u001b[0mabstract_object\u001b[0m \u001b[0;34m=\u001b[0m \u001b[0mAbstractClass\u001b[0m\u001b[0;34m(\u001b[0m\u001b[0;34m)\u001b[0m\u001b[0;34m\u001b[0m\u001b[0;34m\u001b[0m\u001b[0m\n\u001b[0m",
            "\u001b[0;31mTypeError\u001b[0m: Can't instantiate abstract class AbstractClass with abstract methods attack, greeting"
          ],
          "ename": "TypeError",
          "evalue": "Can't instantiate abstract class AbstractClass with abstract methods attack, greeting",
          "output_type": "error"
        }
      ]
    },
    {
      "cell_type": "markdown",
      "source": [
        "From my point of view, abstract classes are used for providing a **mutual interface.** \n",
        "\n",
        "What does mutual interface mean? \n",
        "\n",
        "Well, the simplest explanation may sound like this: a set of class attributes and methods is an **interface**, thus classes that inherit abstract classes must have these attributes and methods (overloaded!) as well as some new attributes. Even though some classes will have different attributes, always will be a set of attributes or methods defined in both of them (mutual interface). I hope you got the idea. \n",
        "\n",
        "### <a id=\"11.2\">11.2 Abstract Class Implementation</a>\n",
        "This time let's make **GameCharacter** class abstract and inherit two classes (Villager and Witcher). Have a look:"
      ],
      "metadata": {
        "id": "uUm9NTONcHqQ"
      }
    },
    {
      "cell_type": "code",
      "source": [
        "import random\n",
        "from abc import ABC, abstractmethod\n",
        "\n",
        "# Let's make GameCharacter class abstract\n",
        "class AbstractClassGameCharacter(ABC):\n",
        "    \n",
        "    def __init__(self, name, hair_color, height):\n",
        "        self.name = name\n",
        "        self.hair_color = hair_color\n",
        "        self.height = height\n",
        "    \n",
        "    # Each class must have these methods (mutual interface)\n",
        "    @abstractmethod\n",
        "    def greet(self):\n",
        "        pass\n",
        "    \n",
        "    @abstractmethod\n",
        "    def farewell(self):\n",
        "        return 'Farewell!'\n",
        "\n",
        "# Create the new class Villager\n",
        "class Villager(AbstractClassGameCharacter):\n",
        "    \n",
        "    # Overload abstract methods \n",
        "    def greet(self):\n",
        "        return f'Hello My Name Is {self.name}'\n",
        "    \n",
        "    def farewell(self):\n",
        "        return f'I Was Glad to See You'\n",
        "\n",
        "class Witcher(AbstractClassGameCharacter):\n",
        "\n",
        "    __signs = ('Axii', 'Qven', 'Ignii', 'Aard', 'Yrden')\n",
        "\n",
        "    def __init__(self, name, hair_color, height, witcher_school = 'Wolf'):\n",
        "        super().__init__(name, hair_color, height)\n",
        "        self.witcher_school = witcher_school\n",
        "        self.signs = self.__class__.__signs\n",
        "        \n",
        "    # Don't forget to overload the  abstract methods \n",
        "    def greet(self):\n",
        "        return f\"I am glad to see you, my name is Geralt.\\nI'm the Witcher\"\n",
        "    \n",
        "    # Instead of overriding we can extend the method\n",
        "    def farewell(self):\n",
        "        extension = super().farewell()\n",
        "        return f'Thanks for talking.{extension}'\n",
        "        \n",
        "    # Unique methods of Withcer Class (let's leave only pick_sign for simplicity)\n",
        "    def pick_sign(self):\n",
        "        sign_number = random.sample(range(0,len(self.signs)),1)[0]\n",
        "        return self.signs[sign_number]\n",
        "    \n",
        "# All abstract methods were overridden, thus no errors         \n",
        "geralt = Witcher(name = 'Geralt', hair_color = 'White', height = 180)  \n",
        "bob_villager = Villager(name = 'Bob Funny Villager', hair_color = 'Dark', height = 175)\n",
        "\n",
        "# Mutual Interface\n",
        "print(geralt.farewell())\n",
        "print('\\n')\n",
        "print(bob_villager.greet())"
      ],
      "metadata": {
        "execution": {
          "iopub.status.busy": "2021-08-09T09:28:12.996193Z",
          "iopub.execute_input": "2021-08-09T09:28:12.996713Z",
          "iopub.status.idle": "2021-08-09T09:28:13.014454Z",
          "shell.execute_reply.started": "2021-08-09T09:28:12.996680Z",
          "shell.execute_reply": "2021-08-09T09:28:13.013309Z"
        },
        "trusted": true,
        "id": "Ur6n3nQgcHqQ",
        "outputId": "27806284-fb30-47fb-e4a2-2ad4dcef3118"
      },
      "execution_count": null,
      "outputs": [
        {
          "name": "stdout",
          "text": "Thanks for talking.Farewell!\n\n\nHello My Name Is Bob Funny Villager\n",
          "output_type": "stream"
        }
      ]
    },
    {
      "cell_type": "markdown",
      "source": [
        "### <a id=\"11.3\">11.3 Main Points of the Chapter</a> \n",
        "\n",
        "- **Abstract class** is a class that has at least one abstract method or property;\n",
        "- To define abstract class, import the **module abc;**\n",
        "- Objects from abstract classes can't be created;\n",
        "- All abstract methods or properties must be overridden;\n",
        "- Static and class methods can be abstract as well;\n",
        "- An **interface** is a set of class attributes and methods;\n",
        "- Abstract classes provide a **mutual interface** between child classes\n",
        "\n",
        "### <a id=\"12\">12. OOP Advantages and Disadvantages</a>  \n",
        "In the last chapter, I would like to slightly pay your attention to the advantages and disadvantages of OOP paradigm. \n",
        "\n",
        "### <a id=\"12.1\">12.1 Advantages</a>\n",
        "Undoubtedly, the main advantage is **code consistency**. Each class has its predefined fields and methods preventing the growth of new fields and methods for new objects. An object may be considered as a container with instruments (methods) and fields - variables.\n",
        "\n",
        "The next one is **code reusability**. Inheritance allows to reuse, override or extend attributes and methods from parental classes. \n",
        "\n",
        "The last one is probably **time**. Using OOP paradigm allows creating a complex system faster.\n",
        "\n",
        "### <a id=\"12.2\">12.2 Disadvantages</a>\n",
        "You have to study a particular field carefully and determine relationships between classes. Wrong relationships and classes may destruct the whole system.\n",
        "\n",
        "### Conclusion\n",
        "What an amazing journey it was! I foresee that many of you will think that the tutorial is rather lengthy...yes it is. However, have a look at how many important topics we've covered. I hope that you've strengthened your knowledge and topics such as overloading, decorators or encapsulation won't cause any difficulties any more. Thank you all guys and remember don't overfit, generalize."
      ],
      "metadata": {
        "id": "nKhWVpr3cHqQ"
      }
    }
  ]
}