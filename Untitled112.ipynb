{
  "nbformat": 4,
  "nbformat_minor": 0,
  "metadata": {
    "colab": {
      "provenance": [],
      "collapsed_sections": [],
      "authorship_tag": "ABX9TyOych0sszOlcndaE5n0y+8h",
      "include_colab_link": true
    },
    "kernelspec": {
      "name": "python3",
      "display_name": "Python 3"
    },
    "language_info": {
      "name": "python"
    }
  },
  "cells": [
    {
      "cell_type": "markdown",
      "metadata": {
        "id": "view-in-github",
        "colab_type": "text"
      },
      "source": [
        "<a href=\"https://colab.research.google.com/github/ustab/AORNEK_CALISMALAR-Veri_Bilimi/blob/main/Untitled112.ipynb\" target=\"_parent\"><img src=\"https://colab.research.google.com/assets/colab-badge.svg\" alt=\"Open In Colab\"/></a>"
      ]
    },
    {
      "cell_type": "code",
      "execution_count": 3,
      "metadata": {
        "id": "KKg0ekZ1yVtC"
      },
      "outputs": [],
      "source": [
        "import pandas as pd"
      ]
    },
    {
      "cell_type": "code",
      "source": [
        "data = {\n",
        "\"user_id\": [251],\n",
        "\"first_name\": [\"Murat\"],\n",
        "\"last_name\": [\"Fedai\"],\n",
        "\"nick_name\": \"Kara Murat\",\n",
        "\"summary\": [\"Fatih'in fedaisi.\"],\n",
        "\"birth_place\": [\"Çorum\"],\n",
        "\"photo_url\": [\"/photos/7/000/253/05b/308dd6e.jpg\"],\n",
        "\"served_years_places\": [ [ {\"year\": 1461, \"place\": \"Arnavutluk\"},\n",
        "                 {\"year\": 1464, \"place\": \"Bosna Hersek\"}]\n",
        "],\n",
        "\"education\": [ [ {\"school_name\": \"Çorum Sıbyan Mektebi\", \"start\": 1441, \"end\": 1445, \"city\": \"Çorum\"},\n",
        "                 {\"school_name\": \"Fatih Medresesi\", \"start\": 1455, \"end\": 1457, \"city\": \"İstanbul\"} \n",
        "               ],\n",
        "],\n",
        "\"contact_info\": [ { \"blog\": \"http://karamuratbenim.com\", \"twitter\": \"http://twitter.com/KaraMurat\" }],\n",
        "\"horses\": [ { \"name\": \"Gelincik\"}]\n",
        "}"
      ],
      "metadata": {
        "id": "AU9OrnDryX1Y"
      },
      "execution_count": 36,
      "outputs": []
    },
    {
      "cell_type": "markdown",
      "source": [
        "Birazdan bu dictionary yapısını pandas dataframe haline getireceğiz ancak ondan önce veri türlerini çıplak gözle bir inceleyelim:\n",
        "\n",
        "user_id -> int           \n",
        "first_name -> string     \n",
        "last_name -> string \n",
        "nick_name -> string\n",
        "summary -> string\n",
        "birth_place -> string  \n",
        "photo_url -> string\n",
        "served_years_places -> list(her bir elemanı dictionary)\n",
        "education -> list(her bir elemanı dictionary)\n",
        "contact_info -> dictionary\n",
        "horses -> string (dictionary gibi görünüyor ama dışarıdaki tek tırnaklar string yapıyor)\n",
        "     \n",
        "     Şimdi de pandas dataframe oluşturalım."
      ],
      "metadata": {
        "id": "4crV5iHgyitj"
      }
    },
    {
      "cell_type": "code",
      "source": [
        "df = pd.DataFrame(data=data)\n",
        "df.head()"
      ],
      "metadata": {
        "colab": {
          "base_uri": "https://localhost:8080/",
          "height": 179
        },
        "id": "A3uNHT9Lyae1",
        "outputId": "99ccc17e-9d47-4bbf-ce04-a5031eadeff1"
      },
      "execution_count": 19,
      "outputs": [
        {
          "output_type": "execute_result",
          "data": {
            "text/plain": [
              "   user_id first_name last_name   nick_name            summary birth_place  \\\n",
              "0      251      Murat     Fedai  Kara Murat  Fatih'in fedaisi.       Çorum   \n",
              "\n",
              "                           photo_url  \\\n",
              "0  /photos/7/000/253/05b/308dd6e.jpg   \n",
              "\n",
              "                                 served_years_places  \\\n",
              "0  [{'year': 1461, 'place': 'Arnavutluk'}, {'year...   \n",
              "\n",
              "                                           education  \\\n",
              "0  [{'school_name': 'Çorum Sıbyan Mektebi', 'star...   \n",
              "\n",
              "                                        contact_info                 horses  \n",
              "0  {'blog': 'http://karamuratbenim.com', 'twitter...  { \"name\": \"Gelincik\"}  "
            ],
            "text/html": [
              "\n",
              "  <div id=\"df-08d7d80e-287b-4738-9321-f5be42fcbd02\">\n",
              "    <div class=\"colab-df-container\">\n",
              "      <div>\n",
              "<style scoped>\n",
              "    .dataframe tbody tr th:only-of-type {\n",
              "        vertical-align: middle;\n",
              "    }\n",
              "\n",
              "    .dataframe tbody tr th {\n",
              "        vertical-align: top;\n",
              "    }\n",
              "\n",
              "    .dataframe thead th {\n",
              "        text-align: right;\n",
              "    }\n",
              "</style>\n",
              "<table border=\"1\" class=\"dataframe\">\n",
              "  <thead>\n",
              "    <tr style=\"text-align: right;\">\n",
              "      <th></th>\n",
              "      <th>user_id</th>\n",
              "      <th>first_name</th>\n",
              "      <th>last_name</th>\n",
              "      <th>nick_name</th>\n",
              "      <th>summary</th>\n",
              "      <th>birth_place</th>\n",
              "      <th>photo_url</th>\n",
              "      <th>served_years_places</th>\n",
              "      <th>education</th>\n",
              "      <th>contact_info</th>\n",
              "      <th>horses</th>\n",
              "    </tr>\n",
              "  </thead>\n",
              "  <tbody>\n",
              "    <tr>\n",
              "      <th>0</th>\n",
              "      <td>251</td>\n",
              "      <td>Murat</td>\n",
              "      <td>Fedai</td>\n",
              "      <td>Kara Murat</td>\n",
              "      <td>Fatih'in fedaisi.</td>\n",
              "      <td>Çorum</td>\n",
              "      <td>/photos/7/000/253/05b/308dd6e.jpg</td>\n",
              "      <td>[{'year': 1461, 'place': 'Arnavutluk'}, {'year...</td>\n",
              "      <td>[{'school_name': 'Çorum Sıbyan Mektebi', 'star...</td>\n",
              "      <td>{'blog': 'http://karamuratbenim.com', 'twitter...</td>\n",
              "      <td>{ \"name\": \"Gelincik\"}</td>\n",
              "    </tr>\n",
              "  </tbody>\n",
              "</table>\n",
              "</div>\n",
              "      <button class=\"colab-df-convert\" onclick=\"convertToInteractive('df-08d7d80e-287b-4738-9321-f5be42fcbd02')\"\n",
              "              title=\"Convert this dataframe to an interactive table.\"\n",
              "              style=\"display:none;\">\n",
              "        \n",
              "  <svg xmlns=\"http://www.w3.org/2000/svg\" height=\"24px\"viewBox=\"0 0 24 24\"\n",
              "       width=\"24px\">\n",
              "    <path d=\"M0 0h24v24H0V0z\" fill=\"none\"/>\n",
              "    <path d=\"M18.56 5.44l.94 2.06.94-2.06 2.06-.94-2.06-.94-.94-2.06-.94 2.06-2.06.94zm-11 1L8.5 8.5l.94-2.06 2.06-.94-2.06-.94L8.5 2.5l-.94 2.06-2.06.94zm10 10l.94 2.06.94-2.06 2.06-.94-2.06-.94-.94-2.06-.94 2.06-2.06.94z\"/><path d=\"M17.41 7.96l-1.37-1.37c-.4-.4-.92-.59-1.43-.59-.52 0-1.04.2-1.43.59L10.3 9.45l-7.72 7.72c-.78.78-.78 2.05 0 2.83L4 21.41c.39.39.9.59 1.41.59.51 0 1.02-.2 1.41-.59l7.78-7.78 2.81-2.81c.8-.78.8-2.07 0-2.86zM5.41 20L4 18.59l7.72-7.72 1.47 1.35L5.41 20z\"/>\n",
              "  </svg>\n",
              "      </button>\n",
              "      \n",
              "  <style>\n",
              "    .colab-df-container {\n",
              "      display:flex;\n",
              "      flex-wrap:wrap;\n",
              "      gap: 12px;\n",
              "    }\n",
              "\n",
              "    .colab-df-convert {\n",
              "      background-color: #E8F0FE;\n",
              "      border: none;\n",
              "      border-radius: 50%;\n",
              "      cursor: pointer;\n",
              "      display: none;\n",
              "      fill: #1967D2;\n",
              "      height: 32px;\n",
              "      padding: 0 0 0 0;\n",
              "      width: 32px;\n",
              "    }\n",
              "\n",
              "    .colab-df-convert:hover {\n",
              "      background-color: #E2EBFA;\n",
              "      box-shadow: 0px 1px 2px rgba(60, 64, 67, 0.3), 0px 1px 3px 1px rgba(60, 64, 67, 0.15);\n",
              "      fill: #174EA6;\n",
              "    }\n",
              "\n",
              "    [theme=dark] .colab-df-convert {\n",
              "      background-color: #3B4455;\n",
              "      fill: #D2E3FC;\n",
              "    }\n",
              "\n",
              "    [theme=dark] .colab-df-convert:hover {\n",
              "      background-color: #434B5C;\n",
              "      box-shadow: 0px 1px 3px 1px rgba(0, 0, 0, 0.15);\n",
              "      filter: drop-shadow(0px 1px 2px rgba(0, 0, 0, 0.3));\n",
              "      fill: #FFFFFF;\n",
              "    }\n",
              "  </style>\n",
              "\n",
              "      <script>\n",
              "        const buttonEl =\n",
              "          document.querySelector('#df-08d7d80e-287b-4738-9321-f5be42fcbd02 button.colab-df-convert');\n",
              "        buttonEl.style.display =\n",
              "          google.colab.kernel.accessAllowed ? 'block' : 'none';\n",
              "\n",
              "        async function convertToInteractive(key) {\n",
              "          const element = document.querySelector('#df-08d7d80e-287b-4738-9321-f5be42fcbd02');\n",
              "          const dataTable =\n",
              "            await google.colab.kernel.invokeFunction('convertToInteractive',\n",
              "                                                     [key], {});\n",
              "          if (!dataTable) return;\n",
              "\n",
              "          const docLinkHtml = 'Like what you see? Visit the ' +\n",
              "            '<a target=\"_blank\" href=https://colab.research.google.com/notebooks/data_table.ipynb>data table notebook</a>'\n",
              "            + ' to learn more about interactive tables.';\n",
              "          element.innerHTML = '';\n",
              "          dataTable['output_type'] = 'display_data';\n",
              "          await google.colab.output.renderOutput(dataTable, element);\n",
              "          const docLink = document.createElement('div');\n",
              "          docLink.innerHTML = docLinkHtml;\n",
              "          element.appendChild(docLink);\n",
              "        }\n",
              "      </script>\n",
              "    </div>\n",
              "  </div>\n",
              "  "
            ]
          },
          "metadata": {},
          "execution_count": 19
        }
      ]
    },
    {
      "cell_type": "markdown",
      "source": [
        "Şimdi diyelim ki ey pandas bize sen söyle veri türlerini. Bunun için yaygın iki yöntem var: df.dtypes ve df.info(). dtypes kullanalım."
      ],
      "metadata": {
        "id": "OQBr4kjWziDS"
      }
    },
    {
      "cell_type": "markdown",
      "source": [],
      "metadata": {
        "id": "ImfmxGMQzgD0"
      }
    },
    {
      "cell_type": "code",
      "source": [
        "#Komut:\n",
        "df.dtypes"
      ],
      "metadata": {
        "colab": {
          "base_uri": "https://localhost:8080/"
        },
        "id": "AQzJu4bpzm-p",
        "outputId": "fa389a87-bcef-49dc-c560-8df86ce125c5"
      },
      "execution_count": 20,
      "outputs": [
        {
          "output_type": "execute_result",
          "data": {
            "text/plain": [
              "user_id                 int64\n",
              "first_name             object\n",
              "last_name              object\n",
              "nick_name              object\n",
              "summary                object\n",
              "birth_place            object\n",
              "photo_url              object\n",
              "served_years_places    object\n",
              "education              object\n",
              "contact_info           object\n",
              "horses                 object\n",
              "dtype: object"
            ]
          },
          "metadata": {},
          "execution_count": 20
        }
      ]
    },
    {
      "cell_type": "markdown",
      "source": [
        "Yukarıda gördüğümüz gibi her şeye object diyor. Peki ne var bu object’ler içinde? Nasıl öğrenebiliriz? Bir for döngüsü ile bu objelerin içindeki gerçek python veri tiplerini görebiliriz. Bu çıplak gözümüz ile yaptığımız incelemeye çok yakın olacaktır."
      ],
      "metadata": {
        "id": "dOLb6l3Vz1kC"
      }
    },
    {
      "cell_type": "code",
      "source": [
        "#Komut: \n",
        "for i in df.columns:\n",
        "    print(df[i].apply(lambda x: type(x)).head(1))"
      ],
      "metadata": {
        "colab": {
          "base_uri": "https://localhost:8080/"
        },
        "id": "hMaA5Dgzz28y",
        "outputId": "a7bba4b7-916d-40c6-fa8c-7726f7db4ab7"
      },
      "execution_count": 21,
      "outputs": [
        {
          "output_type": "stream",
          "name": "stdout",
          "text": [
            "0    <class 'int'>\n",
            "Name: user_id, dtype: object\n",
            "0    <class 'str'>\n",
            "Name: first_name, dtype: object\n",
            "0    <class 'str'>\n",
            "Name: last_name, dtype: object\n",
            "0    <class 'str'>\n",
            "Name: nick_name, dtype: object\n",
            "0    <class 'str'>\n",
            "Name: summary, dtype: object\n",
            "0    <class 'str'>\n",
            "Name: birth_place, dtype: object\n",
            "0    <class 'str'>\n",
            "Name: photo_url, dtype: object\n",
            "0    <class 'list'>\n",
            "Name: served_years_places, dtype: object\n",
            "0    <class 'list'>\n",
            "Name: education, dtype: object\n",
            "0    <class 'dict'>\n",
            "Name: contact_info, dtype: object\n",
            "0    <class 'str'>\n",
            "Name: horses, dtype: object\n"
          ]
        }
      ]
    },
    {
      "cell_type": "markdown",
      "source": [
        "Şimdi sadece bir farka değinip kapanış yapalım. dtypes, bize horses ve contact_info için object demişti (basit veri türlerinde object’i string olarak yorumlamaya eğilimliyizdir) ancak gerçekte contact_info’nun dictionary, horses’un ise string olduğunu öğrendik. Aslına bakarsanız horses da dictionary olmalı, ancak bir şekilde dışına tek tırnak gelmiş, o yüzden string. Onu da tek tırnaklardan kurtarıp gerçek hüviyetine kavuşturmalısınız. Diğer farklılıkların incelemesini sizlere bırakıyorum ve bitiriyorum."
      ],
      "metadata": {
        "id": "HIW9pBaE0aH4"
      }
    },
    {
      "cell_type": "code",
      "source": [
        "import pandas as pd\n",
        "import sqlalchemy"
      ],
      "metadata": {
        "id": "I9ZOX2_Y0cbB"
      },
      "execution_count": 22,
      "outputs": []
    },
    {
      "cell_type": "markdown",
      "source": [
        "Mysql veri tabanında bir tablo yaratıp içine örnek kayıtlar girelim."
      ],
      "metadata": {
        "id": "TuoD-ZRt1p_f"
      }
    },
    {
      "cell_type": "code",
      "source": [
        "my_data=[(1416, \"George Clooney\", 1999.2546, '{\"Database\": 88, \"Network\": \"A+\"}'), \n",
        "                 (1417, \"Brad Pitt\", 2000.5001, '{\"Database\": 78, \"Network\": \"B+\"}'),\n",
        "                 (1506, \"Leonardo DiCaprio\", 2100.5430, '{\"Database\": 98, \"Network\": \"A+\"}'),\n",
        "                 (1527, \"Shah Rukh Khan\", 1988.9875, '{\"Literature\": 98, \"Geography\": \"A+\"}'),\n",
        "                 (1525, \"Geoffrey Rush\", 1975.2506, '{\"Economics\": 78, \"Monetary\": \"C+\"}')]"
      ],
      "metadata": {
        "id": "vvwSoIAM2Mwl"
      },
      "execution_count": 26,
      "outputs": []
    },
    {
      "cell_type": "code",
      "source": [
        "trainee = {\n",
        "\"id\": [1416],\n",
        "\"first_name\": [\"George Clooney\"],\n",
        "\"salary\": [1999.2546],\n",
        "\"notes\": [[{\"Database\": 88, \"Network\": \"A+\"}]]\n",
        "}"
      ],
      "metadata": {
        "id": "NMpflDcV2neV"
      },
      "execution_count": 40,
      "outputs": []
    },
    {
      "cell_type": "code",
      "source": [
        "from sqlalchemy.types import *\n",
        "df_schema = {\n",
        "\"id\": Integer,    \n",
        "\"name\": String(64),\n",
        "\"salary\": DECIMAL(15,4),\n",
        "\"notes\": JSON\n",
        "}"
      ],
      "metadata": {
        "id": "WPjHTn-bJEYq"
      },
      "execution_count": 47,
      "outputs": []
    },
    {
      "cell_type": "code",
      "source": [
        "trainee.to_sql('trainee3', engine, index=False, if_exists='replace', dtype=df_schema)"
      ],
      "metadata": {
        "id": "kIbSin5QJLSS"
      },
      "execution_count": null,
      "outputs": []
    },
    {
      "cell_type": "code",
      "source": [
        "#Normal csv dosyası okumaktan hiçbir farkı yok.\n",
        "\n",
        "import pandas as pd\n",
        "df = pd.read_csv(\"/file/to/filename.zip\")"
      ],
      "metadata": {
        "id": "nQOsfg2uJ6LB"
      },
      "execution_count": null,
      "outputs": []
    },
    {
      "cell_type": "code",
      "source": [
        "import pandas as pd\n",
        "my_dict = {'sno':[1,2],\n",
        "           'aciklama': ['Lorem Ipsum, dizgi ve baskı endüstrisinde kullanılan mıgır metinlerdir.',\n",
        "         'Lorem Ipsum']}\n",
        "df = pd.DataFrame(my_dict)\n",
        "df.head()"
      ],
      "metadata": {
        "colab": {
          "base_uri": "https://localhost:8080/",
          "height": 112
        },
        "id": "U4UrZkwSKNCh",
        "outputId": "bb18e5c7-5049-4ab4-be24-5cc0a94652c2"
      },
      "execution_count": 50,
      "outputs": [
        {
          "output_type": "execute_result",
          "data": {
            "text/plain": [
              "   sno                                           aciklama\n",
              "0    1  Lorem Ipsum, dizgi ve baskı endüstrisinde kull...\n",
              "1    2                                        Lorem Ipsum"
            ],
            "text/html": [
              "\n",
              "  <div id=\"df-916d6c23-e6fc-4a09-9e64-74ede38e1109\">\n",
              "    <div class=\"colab-df-container\">\n",
              "      <div>\n",
              "<style scoped>\n",
              "    .dataframe tbody tr th:only-of-type {\n",
              "        vertical-align: middle;\n",
              "    }\n",
              "\n",
              "    .dataframe tbody tr th {\n",
              "        vertical-align: top;\n",
              "    }\n",
              "\n",
              "    .dataframe thead th {\n",
              "        text-align: right;\n",
              "    }\n",
              "</style>\n",
              "<table border=\"1\" class=\"dataframe\">\n",
              "  <thead>\n",
              "    <tr style=\"text-align: right;\">\n",
              "      <th></th>\n",
              "      <th>sno</th>\n",
              "      <th>aciklama</th>\n",
              "    </tr>\n",
              "  </thead>\n",
              "  <tbody>\n",
              "    <tr>\n",
              "      <th>0</th>\n",
              "      <td>1</td>\n",
              "      <td>Lorem Ipsum, dizgi ve baskı endüstrisinde kull...</td>\n",
              "    </tr>\n",
              "    <tr>\n",
              "      <th>1</th>\n",
              "      <td>2</td>\n",
              "      <td>Lorem Ipsum</td>\n",
              "    </tr>\n",
              "  </tbody>\n",
              "</table>\n",
              "</div>\n",
              "      <button class=\"colab-df-convert\" onclick=\"convertToInteractive('df-916d6c23-e6fc-4a09-9e64-74ede38e1109')\"\n",
              "              title=\"Convert this dataframe to an interactive table.\"\n",
              "              style=\"display:none;\">\n",
              "        \n",
              "  <svg xmlns=\"http://www.w3.org/2000/svg\" height=\"24px\"viewBox=\"0 0 24 24\"\n",
              "       width=\"24px\">\n",
              "    <path d=\"M0 0h24v24H0V0z\" fill=\"none\"/>\n",
              "    <path d=\"M18.56 5.44l.94 2.06.94-2.06 2.06-.94-2.06-.94-.94-2.06-.94 2.06-2.06.94zm-11 1L8.5 8.5l.94-2.06 2.06-.94-2.06-.94L8.5 2.5l-.94 2.06-2.06.94zm10 10l.94 2.06.94-2.06 2.06-.94-2.06-.94-.94-2.06-.94 2.06-2.06.94z\"/><path d=\"M17.41 7.96l-1.37-1.37c-.4-.4-.92-.59-1.43-.59-.52 0-1.04.2-1.43.59L10.3 9.45l-7.72 7.72c-.78.78-.78 2.05 0 2.83L4 21.41c.39.39.9.59 1.41.59.51 0 1.02-.2 1.41-.59l7.78-7.78 2.81-2.81c.8-.78.8-2.07 0-2.86zM5.41 20L4 18.59l7.72-7.72 1.47 1.35L5.41 20z\"/>\n",
              "  </svg>\n",
              "      </button>\n",
              "      \n",
              "  <style>\n",
              "    .colab-df-container {\n",
              "      display:flex;\n",
              "      flex-wrap:wrap;\n",
              "      gap: 12px;\n",
              "    }\n",
              "\n",
              "    .colab-df-convert {\n",
              "      background-color: #E8F0FE;\n",
              "      border: none;\n",
              "      border-radius: 50%;\n",
              "      cursor: pointer;\n",
              "      display: none;\n",
              "      fill: #1967D2;\n",
              "      height: 32px;\n",
              "      padding: 0 0 0 0;\n",
              "      width: 32px;\n",
              "    }\n",
              "\n",
              "    .colab-df-convert:hover {\n",
              "      background-color: #E2EBFA;\n",
              "      box-shadow: 0px 1px 2px rgba(60, 64, 67, 0.3), 0px 1px 3px 1px rgba(60, 64, 67, 0.15);\n",
              "      fill: #174EA6;\n",
              "    }\n",
              "\n",
              "    [theme=dark] .colab-df-convert {\n",
              "      background-color: #3B4455;\n",
              "      fill: #D2E3FC;\n",
              "    }\n",
              "\n",
              "    [theme=dark] .colab-df-convert:hover {\n",
              "      background-color: #434B5C;\n",
              "      box-shadow: 0px 1px 3px 1px rgba(0, 0, 0, 0.15);\n",
              "      filter: drop-shadow(0px 1px 2px rgba(0, 0, 0, 0.3));\n",
              "      fill: #FFFFFF;\n",
              "    }\n",
              "  </style>\n",
              "\n",
              "      <script>\n",
              "        const buttonEl =\n",
              "          document.querySelector('#df-916d6c23-e6fc-4a09-9e64-74ede38e1109 button.colab-df-convert');\n",
              "        buttonEl.style.display =\n",
              "          google.colab.kernel.accessAllowed ? 'block' : 'none';\n",
              "\n",
              "        async function convertToInteractive(key) {\n",
              "          const element = document.querySelector('#df-916d6c23-e6fc-4a09-9e64-74ede38e1109');\n",
              "          const dataTable =\n",
              "            await google.colab.kernel.invokeFunction('convertToInteractive',\n",
              "                                                     [key], {});\n",
              "          if (!dataTable) return;\n",
              "\n",
              "          const docLinkHtml = 'Like what you see? Visit the ' +\n",
              "            '<a target=\"_blank\" href=https://colab.research.google.com/notebooks/data_table.ipynb>data table notebook</a>'\n",
              "            + ' to learn more about interactive tables.';\n",
              "          element.innerHTML = '';\n",
              "          dataTable['output_type'] = 'display_data';\n",
              "          await google.colab.output.renderOutput(dataTable, element);\n",
              "          const docLink = document.createElement('div');\n",
              "          docLink.innerHTML = docLinkHtml;\n",
              "          element.appendChild(docLink);\n",
              "        }\n",
              "      </script>\n",
              "    </div>\n",
              "  </div>\n",
              "  "
            ]
          },
          "metadata": {},
          "execution_count": 50
        }
      ]
    },
    {
      "cell_type": "code",
      "source": [
        "#Sütun içini kırpmadan hepsini görmek istiyorsak aşağıdaki komutu çalıştırmalıyız:\n",
        "\n",
        "pd.set_option('display.max_colwidth', None)"
      ],
      "metadata": {
        "id": "kFmn5oKkKTwZ"
      },
      "execution_count": 51,
      "outputs": []
    },
    {
      "cell_type": "code",
      "source": [
        "#Pandas dataframe tüm sütunları seç – göster (select all columns)\n",
        "# Show all columns\n",
        "pd.set_option(\"display.max_columns\", None)"
      ],
      "metadata": {
        "id": "OmTXUqFEKdGR"
      },
      "execution_count": 52,
      "outputs": []
    },
    {
      "cell_type": "code",
      "source": [
        "#pandas dataframe sütunlarını mesaj olarak göndermek istediğimde karşıma çıktı. Epey uğraştım. Çözümü paylaşıyorum.\n",
        "\n",
        "import pandas as pd\n",
        "df = pd.read_csv(\"D:/Datasets/iris.csv\")\n",
        "# Her bir satırı sütunları virgülle ayrılmış şekilde bir listenin elemanları yapalım\n",
        "x = df.to_string(header=False,\n",
        "                  index=False,\n",
        "                  index_names=False).split('\\n')\n",
        "vals = [','.join(ele.split()) for ele in x]\n",
        "# Elde ettiğimiz listeyi dataframe'e value sütunü olarak takalım\n",
        "df['value'] = vals\n",
        "# Sonucu görelim\n",
        "df.head()"
      ],
      "metadata": {
        "id": "wjMkHNRlKqS_"
      },
      "execution_count": null,
      "outputs": []
    },
    {
      "cell_type": "code",
      "source": [
        "stopper = 0\n",
        "interval = []\n",
        "for index, line in runorwalk.iterrows():\n",
        "    print(index, line)\n",
        "    stopper += 1\n",
        "    if stopper >= 2:\n",
        "        break"
      ],
      "metadata": {
        "id": "yaCGbqm1K6jY"
      },
      "execution_count": null,
      "outputs": []
    },
    {
      "cell_type": "markdown",
      "source": [
        "Günlük İşlerinizi Kolaylaştıracak Pandas ve Numpy Fonksiyonları"
      ],
      "metadata": {
        "id": "VYKUYs3RLfm-"
      }
    },
    {
      "cell_type": "code",
      "source": [
        "#1 – argpartition()\n",
        "#Bu fonksiyon, bize N en büyük değerlerin indekslerini vermektedir. İhtiyaca göre bu indekslere sahip değerleri sıralayabiliriz.\n",
        "\n",
        "x = np.array([1,9,5,8,7,13,4])\n",
        "index_val = np.argpartition(x, -4)[-4:]\n",
        "index_val\n",
        "#--> array([4, 1, 5, 3])\n",
        "np.sort(x[index_val])\n",
        "#--> array([ 7,  8,  9, 13])"
      ],
      "metadata": {
        "id": "s5TthbbiLg-p"
      },
      "execution_count": null,
      "outputs": []
    },
    {
      "cell_type": "code",
      "source": [
        "#2 – allclose()\n",
        "#Bu fonksiyon, 2 tane dizinin birbirine eşit ya da benzer olup olmadığını, belirlenen tolerans değeri ile kontrol etmektedir.\n",
        "\n",
        "array1 = np.array([0.25,0.36,0.45,0.68,0.95])\n",
        "array2 = np.array([0.26,0.35,0.44,0.70,0.93])\n",
        "np.allclose(array1, array2, 0.1)\n",
        "#--> True"
      ],
      "metadata": {
        "id": "CKjiD1RPL5HG"
      },
      "execution_count": null,
      "outputs": []
    },
    {
      "cell_type": "code",
      "source": [
        "3 – clip()\n",
        "Bu fonksiyon, bir dizideki değerleri belirlenen aralık içinde tutar. Aralığın dışındaki değerler, aralığın alt ve üst limitlerine kırpılır.\n",
        "\n",
        "x = np.array([3,16,15,9,1,4,2,26,12,8])\n",
        "np.clip(x,3,10)\n",
        "#--> array([ 3, 10, 10,  9,  3,  4,  3, 10, 10,  8])\n",
        "4 – extract()\n",
        "Bu fonksiyon, bir diziden belli koşullara uyan değerlere ulaşılmasını sağlar.\n",
        "\n",
        "# Rastgele sayı üret\n",
        "array = np.random.randint(40, size=20)\n",
        "array\n",
        "#--> array([31,14,24,34,5,2,26,12,36,10,1,22,30,29,13,0,12,31,31,34])\n",
        "# Sayıların 3'e bölümünden kalanı 1 olanları kontrol et\n",
        "cond = np.mod(array, 3)==1\n",
        "# Yukarıdaki koşula sahip olan değerleri çıkar\n",
        "np.extract(cond, array)\n",
        "#--> array([31, 34, 10,  1, 22, 13, 31, 31, 34])\n",
        "5 – where()\n",
        "Bu fonksiyon, bir diziden belli koşullara uyan değerlerin indeks değerlerini kullanıcıya döndürür.\n",
        "\n",
        "y = np.array([5,9,7,12,25,16,10,19])\n",
        "# Eğer koşul değeri True ise \"Büyük\", False ise \"Küçük\" yazdır\n",
        "np.where(y>13, \"Büyük\", \"Küçük\")\n",
        "#--> array(['Küçük','Küçük','Küçük','Küçük','Büyük','Büyük', 'Küçük','Büyük'], dtype='<U5')\n",
        "Pandas\n",
        "1 – read_csv(nrows=n)\n",
        "Herkes read_csv() ile veri yüklüyor. Ancak gerekli olmadığı zamanlarda verinin hepsini yüklemek çok zahmetli olmaktadır. 10 GB boyutunda bir veriyi gerekli olmadığı halde yüklemeye çalışmak yerine sadece ilk 10 satırı yükleyip, daha sonra ihtiyaca göre devam edebiliriz.\n",
        "\n",
        "import io\n",
        "import requests\n",
        "url = \"http://archive.ics.uci.edu/ml/machine-learning-databases/autos/imports-85.data\"\n",
        "s = requests.get(url).content\n",
        "df = pd.read_csv(io.StringIO(s.decode(\"utf-8\")),\n",
        "                 nrows=10,\n",
        "                 index_col=0)\n",
        "df\n",
        "\n",
        "2 – map()\n",
        "Bu fonksiyon, başka bir fonksiyon yardımı ile bir serideki değerleri değiştirmeye yarar.\n",
        "\n",
        "# Dataframe oluştur\n",
        "df = pd.DataFrame(np.random.randn(5, 5),\n",
        "                  columns=list(\"abcde\"),\n",
        "                  index=['Matematik', 'Geometri',\n",
        "                         'Fizik', 'Kimya',\n",
        "                         'Biyoloji'])\n",
        "\n",
        "# Sayıların virgülden sonraki 2 basamağını alan fonksiyon\n",
        "changefn = lambda x: '%.2f' % x\n",
        "# Değişiklikleri \"d\" sütununa uygula\n",
        "df['d'].map(changefn)\n",
        "\n",
        "3 – apply()\n",
        "Bu fonksiyon, kullanıcıya istediği bir fonksiyonu her bir değere uygulamasına izin verir.\n",
        "\n",
        "# max - min\n",
        "fn = lambda x: x.max() - x.min()\n",
        "# Yukarıda oluşturduğumuz veriye, fonksiyonu satır bazında uygulayalım\n",
        "df.apply(fn)\n",
        "\n",
        "4 – isin()\n",
        "Bu fonksiyon, belirli bir sütunda belirli bir değere sahip satırların seçilmesine yardımcı olur.\n",
        "\n",
        "\n",
        "df['d'].isin([1])\n",
        "\n",
        "5 – copy()\n",
        "Bu fonksiyon, bir pandas objesinin kopyasını oluşturmaya yarar. Bir dataframe objesini başka bir objeye atadığımız zaman, orjinal objede yapılan değişiklikler diğer objeye de yansımaktadır. Bu problemi çözmek için copy() fonksiyonu kullanılır.\n",
        "\n",
        "# Seriyi oluştur\n",
        "data = pd.Series(['Finlandiya', 'Norveç', 'İsveç', 'Danimarka'])\n",
        "# Seriyi kopyala\n",
        "new = data.copy()\n",
        "# Yeni değer ata\n",
        "new[1] = 'Changed Value'\n",
        "print(new)\n",
        "\n",
        "print(data)\n",
        "\n",
        "6 – select_dtypes()\n",
        "Bu fonksiyon, dataframe içindeki istenilen veri tipindeki sütunları kullanıcıya döndürmektedir.\n",
        "\n",
        "iris = pd.read_csv('data/iris.csv')\n",
        "iris.info()\n",
        "\n",
        "iris.select_dtypes(include=\"float64\").head()\n",
        "\n"
      ],
      "metadata": {
        "id": "v6D9Kbo0MD-V"
      },
      "execution_count": null,
      "outputs": []
    },
    {
      "cell_type": "code",
      "source": [
        "#2 – map()\n",
        "#Bu fonksiyon, başka bir fonksiyon yardımı ile bir serideki değerleri değiştirmeye yarar."
      ],
      "metadata": {
        "id": "XPj864NOMdGd"
      },
      "execution_count": null,
      "outputs": []
    },
    {
      "cell_type": "code",
      "source": [
        "# Dataframe oluştur\n",
        "df = pd.DataFrame(np.random.randn(5, 5),\n",
        "                  columns=list(\"abcde\"),\n",
        "                  index=['Matematik', 'Geometri',\n",
        "                         'Fizik', 'Kimya',\n",
        "                         'Biyoloji'])"
      ],
      "metadata": {
        "id": "yeebH9aeMcfV"
      },
      "execution_count": null,
      "outputs": []
    },
    {
      "cell_type": "markdown",
      "source": [
        "# Sayıların virgülden sonraki 2 basamağını alan fonksiyon\n",
        "changefn = lambda x: '%.2f' % x\n",
        "# Değişiklikleri \"d\" sütununa uygula\n",
        "df['d'].map(changefn)"
      ],
      "metadata": {
        "id": "6BvXgz9XMxvG"
      }
    }
  ]
}