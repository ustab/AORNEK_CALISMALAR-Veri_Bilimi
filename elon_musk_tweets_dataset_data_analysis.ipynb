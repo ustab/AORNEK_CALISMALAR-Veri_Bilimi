{
  "cells": [
    {
      "cell_type": "markdown",
      "metadata": {
        "id": "view-in-github",
        "colab_type": "text"
      },
      "source": [
        "<a href=\"https://colab.research.google.com/github/ustab/AORNEK_CALISMALAR-Veri_Bilimi/blob/main/elon_musk_tweets_dataset_data_analysis.ipynb\" target=\"_parent\"><img src=\"https://colab.research.google.com/assets/colab-badge.svg\" alt=\"Open In Colab\"/></a>"
      ]
    },
    {
      "cell_type": "code",
      "execution_count": 2,
      "id": "fae456be",
      "metadata": {
        "_cell_guid": "b1076dfc-b9ad-4769-8c92-a6c4dae69d19",
        "_uuid": "8f2839f25d086af736a60e9eeb907d3b93b6e0e5",
        "execution": {
          "iopub.execute_input": "2022-10-08T11:22:07.223263Z",
          "iopub.status.busy": "2022-10-08T11:22:07.222677Z",
          "iopub.status.idle": "2022-10-08T11:22:07.243138Z",
          "shell.execute_reply": "2022-10-08T11:22:07.241672Z"
        },
        "papermill": {
          "duration": 0.032511,
          "end_time": "2022-10-08T11:22:07.246364",
          "exception": false,
          "start_time": "2022-10-08T11:22:07.213853",
          "status": "completed"
        },
        "tags": [],
        "id": "fae456be"
      },
      "outputs": [],
      "source": [
        "# This Python 3 environment comes with many helpful analytics libraries installed\n",
        "# It is defined by the kaggle/python Docker image: https://github.com/kaggle/docker-python\n",
        "# For example, here's several helpful packages to load\n",
        "\n",
        "import numpy as np # linear algebra\n",
        "import pandas as pd # data processing, CSV file I/O (e.g. pd.read_csv)\n",
        "import matplotlib.pyplot as plt\n",
        "\n",
        "# Input data files are available in the read-only \"../input/\" directory\n",
        "# For example, running this (by clicking run or pressing Shift+Enter) will list all files under the input directory\n",
        "\n",
        "import os\n",
        "for dirname, _, filenames in os.walk('/kaggle/input'):\n",
        "    for filename in filenames:\n",
        "        print(os.path.join(dirname, filename))\n",
        "\n",
        "# You can write up to 20GB to the current directory (/kaggle/working/) that gets preserved as output when you create a version using \"Save & Run All\" \n",
        "# You can also write temporary files to /kaggle/temp/, but they won't be saved outside of the current session"
      ]
    },
    {
      "cell_type": "code",
      "execution_count": 3,
      "id": "6167a35f",
      "metadata": {
        "execution": {
          "iopub.execute_input": "2022-10-08T11:22:07.262228Z",
          "iopub.status.busy": "2022-10-08T11:22:07.261794Z",
          "iopub.status.idle": "2022-10-08T11:22:07.379489Z",
          "shell.execute_reply": "2022-10-08T11:22:07.378593Z"
        },
        "papermill": {
          "duration": 0.129357,
          "end_time": "2022-10-08T11:22:07.381873",
          "exception": false,
          "start_time": "2022-10-08T11:22:07.252516",
          "status": "completed"
        },
        "tags": [],
        "id": "6167a35f"
      },
      "outputs": [],
      "source": [
        "tweets = pd.read_csv(\"/content/elonmusk.csv\")"
      ]
    },
    {
      "cell_type": "code",
      "execution_count": 4,
      "id": "a0d12297",
      "metadata": {
        "execution": {
          "iopub.execute_input": "2022-10-08T11:22:07.397618Z",
          "iopub.status.busy": "2022-10-08T11:22:07.396472Z",
          "iopub.status.idle": "2022-10-08T11:22:07.432802Z",
          "shell.execute_reply": "2022-10-08T11:22:07.431487Z"
        },
        "papermill": {
          "duration": 0.048909,
          "end_time": "2022-10-08T11:22:07.436352",
          "exception": false,
          "start_time": "2022-10-08T11:22:07.387443",
          "status": "completed"
        },
        "tags": [],
        "colab": {
          "base_uri": "https://localhost:8080/",
          "height": 363
        },
        "id": "a0d12297",
        "outputId": "b41bd142-55d5-4e76-df8d-fdf3ee89d188"
      },
      "outputs": [
        {
          "output_type": "execute_result",
          "data": {
            "text/plain": [
              "                    Date Created  Number of Likes     Source of Tweet  \\\n",
              "8450   2020-03-26 07:24:01+00:00             4656  Twitter for iPhone   \n",
              "9749   2019-09-26 15:05:34+00:00              946  Twitter for iPhone   \n",
              "506    2022-07-15 01:46:09+00:00             4812  Twitter for iPhone   \n",
              "10553  2019-06-25 03:35:46+00:00             1282  Twitter for iPhone   \n",
              "1222   2022-05-21 20:41:43+00:00             6262  Twitter for iPhone   \n",
              "3856   2021-08-14 15:02:57+00:00            25845  Twitter for iPhone   \n",
              "14765  2017-07-05 22:25:06+00:00             7945  Twitter for iPhone   \n",
              "13077  2018-07-09 19:31:49+00:00             1075  Twitter for iPhone   \n",
              "6936   2020-08-04 07:10:32+00:00            26380  Twitter for iPhone   \n",
              "11402  2019-03-26 19:59:32+00:00             3522  Twitter for iPhone   \n",
              "\n",
              "                                                  Tweets  \n",
              "8450   @MartianDays Physics is the law, everything el...  \n",
              "9749   @BrendanCogbill7 About a week. Will include sl...  \n",
              "506    @Erdayastronaut @SpaceX @Caspar_Stanley @IzanR...  \n",
              "10553  @marialauraadr @_TomCross_ Waiting for Falcon ...  \n",
              "1222                @Chad_Hurley https://t.co/G1t6jIgCYu  \n",
              "3856   @CNBC @CNBCMakeIt I’ve been saying this for a ...  \n",
              "14765  SpaceX team reviewed all systems again late la...  \n",
              "13077  @Noizey_Man @JaneidyEve That would be cool. I ...  \n",
              "6936                            @cleantechnica True fact  \n",
              "11402  @Erdayastronaut @NASA @VP I think so. For sure...  "
            ],
            "text/html": [
              "\n",
              "  <div id=\"df-197ca04b-b186-4b4b-b67c-224668006265\">\n",
              "    <div class=\"colab-df-container\">\n",
              "      <div>\n",
              "<style scoped>\n",
              "    .dataframe tbody tr th:only-of-type {\n",
              "        vertical-align: middle;\n",
              "    }\n",
              "\n",
              "    .dataframe tbody tr th {\n",
              "        vertical-align: top;\n",
              "    }\n",
              "\n",
              "    .dataframe thead th {\n",
              "        text-align: right;\n",
              "    }\n",
              "</style>\n",
              "<table border=\"1\" class=\"dataframe\">\n",
              "  <thead>\n",
              "    <tr style=\"text-align: right;\">\n",
              "      <th></th>\n",
              "      <th>Date Created</th>\n",
              "      <th>Number of Likes</th>\n",
              "      <th>Source of Tweet</th>\n",
              "      <th>Tweets</th>\n",
              "    </tr>\n",
              "  </thead>\n",
              "  <tbody>\n",
              "    <tr>\n",
              "      <th>8450</th>\n",
              "      <td>2020-03-26 07:24:01+00:00</td>\n",
              "      <td>4656</td>\n",
              "      <td>Twitter for iPhone</td>\n",
              "      <td>@MartianDays Physics is the law, everything el...</td>\n",
              "    </tr>\n",
              "    <tr>\n",
              "      <th>9749</th>\n",
              "      <td>2019-09-26 15:05:34+00:00</td>\n",
              "      <td>946</td>\n",
              "      <td>Twitter for iPhone</td>\n",
              "      <td>@BrendanCogbill7 About a week. Will include sl...</td>\n",
              "    </tr>\n",
              "    <tr>\n",
              "      <th>506</th>\n",
              "      <td>2022-07-15 01:46:09+00:00</td>\n",
              "      <td>4812</td>\n",
              "      <td>Twitter for iPhone</td>\n",
              "      <td>@Erdayastronaut @SpaceX @Caspar_Stanley @IzanR...</td>\n",
              "    </tr>\n",
              "    <tr>\n",
              "      <th>10553</th>\n",
              "      <td>2019-06-25 03:35:46+00:00</td>\n",
              "      <td>1282</td>\n",
              "      <td>Twitter for iPhone</td>\n",
              "      <td>@marialauraadr @_TomCross_ Waiting for Falcon ...</td>\n",
              "    </tr>\n",
              "    <tr>\n",
              "      <th>1222</th>\n",
              "      <td>2022-05-21 20:41:43+00:00</td>\n",
              "      <td>6262</td>\n",
              "      <td>Twitter for iPhone</td>\n",
              "      <td>@Chad_Hurley https://t.co/G1t6jIgCYu</td>\n",
              "    </tr>\n",
              "    <tr>\n",
              "      <th>3856</th>\n",
              "      <td>2021-08-14 15:02:57+00:00</td>\n",
              "      <td>25845</td>\n",
              "      <td>Twitter for iPhone</td>\n",
              "      <td>@CNBC @CNBCMakeIt I’ve been saying this for a ...</td>\n",
              "    </tr>\n",
              "    <tr>\n",
              "      <th>14765</th>\n",
              "      <td>2017-07-05 22:25:06+00:00</td>\n",
              "      <td>7945</td>\n",
              "      <td>Twitter for iPhone</td>\n",
              "      <td>SpaceX team reviewed all systems again late la...</td>\n",
              "    </tr>\n",
              "    <tr>\n",
              "      <th>13077</th>\n",
              "      <td>2018-07-09 19:31:49+00:00</td>\n",
              "      <td>1075</td>\n",
              "      <td>Twitter for iPhone</td>\n",
              "      <td>@Noizey_Man @JaneidyEve That would be cool. I ...</td>\n",
              "    </tr>\n",
              "    <tr>\n",
              "      <th>6936</th>\n",
              "      <td>2020-08-04 07:10:32+00:00</td>\n",
              "      <td>26380</td>\n",
              "      <td>Twitter for iPhone</td>\n",
              "      <td>@cleantechnica True fact</td>\n",
              "    </tr>\n",
              "    <tr>\n",
              "      <th>11402</th>\n",
              "      <td>2019-03-26 19:59:32+00:00</td>\n",
              "      <td>3522</td>\n",
              "      <td>Twitter for iPhone</td>\n",
              "      <td>@Erdayastronaut @NASA @VP I think so. For sure...</td>\n",
              "    </tr>\n",
              "  </tbody>\n",
              "</table>\n",
              "</div>\n",
              "      <button class=\"colab-df-convert\" onclick=\"convertToInteractive('df-197ca04b-b186-4b4b-b67c-224668006265')\"\n",
              "              title=\"Convert this dataframe to an interactive table.\"\n",
              "              style=\"display:none;\">\n",
              "        \n",
              "  <svg xmlns=\"http://www.w3.org/2000/svg\" height=\"24px\"viewBox=\"0 0 24 24\"\n",
              "       width=\"24px\">\n",
              "    <path d=\"M0 0h24v24H0V0z\" fill=\"none\"/>\n",
              "    <path d=\"M18.56 5.44l.94 2.06.94-2.06 2.06-.94-2.06-.94-.94-2.06-.94 2.06-2.06.94zm-11 1L8.5 8.5l.94-2.06 2.06-.94-2.06-.94L8.5 2.5l-.94 2.06-2.06.94zm10 10l.94 2.06.94-2.06 2.06-.94-2.06-.94-.94-2.06-.94 2.06-2.06.94z\"/><path d=\"M17.41 7.96l-1.37-1.37c-.4-.4-.92-.59-1.43-.59-.52 0-1.04.2-1.43.59L10.3 9.45l-7.72 7.72c-.78.78-.78 2.05 0 2.83L4 21.41c.39.39.9.59 1.41.59.51 0 1.02-.2 1.41-.59l7.78-7.78 2.81-2.81c.8-.78.8-2.07 0-2.86zM5.41 20L4 18.59l7.72-7.72 1.47 1.35L5.41 20z\"/>\n",
              "  </svg>\n",
              "      </button>\n",
              "      \n",
              "  <style>\n",
              "    .colab-df-container {\n",
              "      display:flex;\n",
              "      flex-wrap:wrap;\n",
              "      gap: 12px;\n",
              "    }\n",
              "\n",
              "    .colab-df-convert {\n",
              "      background-color: #E8F0FE;\n",
              "      border: none;\n",
              "      border-radius: 50%;\n",
              "      cursor: pointer;\n",
              "      display: none;\n",
              "      fill: #1967D2;\n",
              "      height: 32px;\n",
              "      padding: 0 0 0 0;\n",
              "      width: 32px;\n",
              "    }\n",
              "\n",
              "    .colab-df-convert:hover {\n",
              "      background-color: #E2EBFA;\n",
              "      box-shadow: 0px 1px 2px rgba(60, 64, 67, 0.3), 0px 1px 3px 1px rgba(60, 64, 67, 0.15);\n",
              "      fill: #174EA6;\n",
              "    }\n",
              "\n",
              "    [theme=dark] .colab-df-convert {\n",
              "      background-color: #3B4455;\n",
              "      fill: #D2E3FC;\n",
              "    }\n",
              "\n",
              "    [theme=dark] .colab-df-convert:hover {\n",
              "      background-color: #434B5C;\n",
              "      box-shadow: 0px 1px 3px 1px rgba(0, 0, 0, 0.15);\n",
              "      filter: drop-shadow(0px 1px 2px rgba(0, 0, 0, 0.3));\n",
              "      fill: #FFFFFF;\n",
              "    }\n",
              "  </style>\n",
              "\n",
              "      <script>\n",
              "        const buttonEl =\n",
              "          document.querySelector('#df-197ca04b-b186-4b4b-b67c-224668006265 button.colab-df-convert');\n",
              "        buttonEl.style.display =\n",
              "          google.colab.kernel.accessAllowed ? 'block' : 'none';\n",
              "\n",
              "        async function convertToInteractive(key) {\n",
              "          const element = document.querySelector('#df-197ca04b-b186-4b4b-b67c-224668006265');\n",
              "          const dataTable =\n",
              "            await google.colab.kernel.invokeFunction('convertToInteractive',\n",
              "                                                     [key], {});\n",
              "          if (!dataTable) return;\n",
              "\n",
              "          const docLinkHtml = 'Like what you see? Visit the ' +\n",
              "            '<a target=\"_blank\" href=https://colab.research.google.com/notebooks/data_table.ipynb>data table notebook</a>'\n",
              "            + ' to learn more about interactive tables.';\n",
              "          element.innerHTML = '';\n",
              "          dataTable['output_type'] = 'display_data';\n",
              "          await google.colab.output.renderOutput(dataTable, element);\n",
              "          const docLink = document.createElement('div');\n",
              "          docLink.innerHTML = docLinkHtml;\n",
              "          element.appendChild(docLink);\n",
              "        }\n",
              "      </script>\n",
              "    </div>\n",
              "  </div>\n",
              "  "
            ]
          },
          "metadata": {},
          "execution_count": 4
        }
      ],
      "source": [
        "tweets.sample(10)"
      ]
    },
    {
      "cell_type": "code",
      "source": [
        "tweets.shape"
      ],
      "metadata": {
        "colab": {
          "base_uri": "https://localhost:8080/"
        },
        "id": "4DV5uzU24VYX",
        "outputId": "f3d7fb70-3e27-42fd-eaa0-cbdcfc99ff6c"
      },
      "id": "4DV5uzU24VYX",
      "execution_count": 6,
      "outputs": [
        {
          "output_type": "execute_result",
          "data": {
            "text/plain": [
              "(17437, 4)"
            ]
          },
          "metadata": {},
          "execution_count": 6
        }
      ]
    },
    {
      "cell_type": "markdown",
      "id": "33778c9d",
      "metadata": {
        "papermill": {
          "duration": 0.005707,
          "end_time": "2022-10-08T11:22:07.448685",
          "exception": false,
          "start_time": "2022-10-08T11:22:07.442978",
          "status": "completed"
        },
        "tags": [],
        "id": "33778c9d"
      },
      "source": [
        "# **Now we have the dataset let's ask some questions.**\n"
      ]
    },
    {
      "cell_type": "markdown",
      "id": "c4367f02",
      "metadata": {
        "papermill": {
          "duration": 0.005853,
          "end_time": "2022-10-08T11:22:07.460531",
          "exception": false,
          "start_time": "2022-10-08T11:22:07.454678",
          "status": "completed"
        },
        "tags": [],
        "id": "c4367f02"
      },
      "source": [
        "# 1. How many tweets he has done according to this dataset?"
      ]
    },
    {
      "cell_type": "code",
      "execution_count": 7,
      "id": "1b84b42a",
      "metadata": {
        "execution": {
          "iopub.execute_input": "2022-10-08T11:22:07.474483Z",
          "iopub.status.busy": "2022-10-08T11:22:07.473439Z",
          "iopub.status.idle": "2022-10-08T11:22:07.492197Z",
          "shell.execute_reply": "2022-10-08T11:22:07.490890Z"
        },
        "papermill": {
          "duration": 0.028209,
          "end_time": "2022-10-08T11:22:07.494598",
          "exception": false,
          "start_time": "2022-10-08T11:22:07.466389",
          "status": "completed"
        },
        "tags": [],
        "colab": {
          "base_uri": "https://localhost:8080/",
          "height": 423
        },
        "id": "1b84b42a",
        "outputId": "f9bfa07e-31e0-4c89-91da-6df88e6e162d"
      },
      "outputs": [
        {
          "output_type": "execute_result",
          "data": {
            "text/plain": [
              "                    Date Created  Number of Likes     Source of Tweet  \\\n",
              "0      2022-09-12 05:44:11+00:00             1524  Twitter for iPhone   \n",
              "1      2022-09-12 05:43:02+00:00            19631  Twitter for iPhone   \n",
              "2      2022-09-12 04:19:57+00:00             9221  Twitter for iPhone   \n",
              "3      2022-09-12 03:25:03+00:00              944  Twitter for iPhone   \n",
              "4      2022-09-12 01:48:49+00:00             3710  Twitter for iPhone   \n",
              "...                          ...              ...                 ...   \n",
              "17432  2011-12-03 08:22:07+00:00               51  Twitter for iPhone   \n",
              "17433  2011-12-03 08:20:28+00:00               53  Twitter for iPhone   \n",
              "17434  2011-12-01 10:29:04+00:00               75  Twitter Web Client   \n",
              "17435  2011-12-01 09:55:11+00:00              189  Twitter Web Client   \n",
              "17436  2010-06-04 18:31:57+00:00             6042  Twitter Web Client   \n",
              "\n",
              "                                                  Tweets  \n",
              "0      @teslaownersSV @cb_doge @Tesla @mayemusk I gue...  \n",
              "1      @cb_doge @Tesla @mayemusk Still doing same thi...  \n",
              "2      Looks good to roll out to all Tesla owners wit...  \n",
              "3      @Tesla__Mania @WholeMarsBlog That is probably ...  \n",
              "4      @WholeMarsBlog Real-world validation &amp; bil...  \n",
              "...                                                  ...  \n",
              "17432                  That was a total non sequitur btw  \n",
              "17433  Great Voltaire quote, arguably better than Twa...  \n",
              "17434  I made the volume on the Model S http://t.co/w...  \n",
              "17435  Went to Iceland on Sat to ride bumper cars on ...  \n",
              "17436  Please ignore prior tweets, as that was someon...  \n",
              "\n",
              "[17437 rows x 4 columns]"
            ],
            "text/html": [
              "\n",
              "  <div id=\"df-c3f1a6e7-5498-4bb0-8a12-365f04d2de89\">\n",
              "    <div class=\"colab-df-container\">\n",
              "      <div>\n",
              "<style scoped>\n",
              "    .dataframe tbody tr th:only-of-type {\n",
              "        vertical-align: middle;\n",
              "    }\n",
              "\n",
              "    .dataframe tbody tr th {\n",
              "        vertical-align: top;\n",
              "    }\n",
              "\n",
              "    .dataframe thead th {\n",
              "        text-align: right;\n",
              "    }\n",
              "</style>\n",
              "<table border=\"1\" class=\"dataframe\">\n",
              "  <thead>\n",
              "    <tr style=\"text-align: right;\">\n",
              "      <th></th>\n",
              "      <th>Date Created</th>\n",
              "      <th>Number of Likes</th>\n",
              "      <th>Source of Tweet</th>\n",
              "      <th>Tweets</th>\n",
              "    </tr>\n",
              "  </thead>\n",
              "  <tbody>\n",
              "    <tr>\n",
              "      <th>0</th>\n",
              "      <td>2022-09-12 05:44:11+00:00</td>\n",
              "      <td>1524</td>\n",
              "      <td>Twitter for iPhone</td>\n",
              "      <td>@teslaownersSV @cb_doge @Tesla @mayemusk I gue...</td>\n",
              "    </tr>\n",
              "    <tr>\n",
              "      <th>1</th>\n",
              "      <td>2022-09-12 05:43:02+00:00</td>\n",
              "      <td>19631</td>\n",
              "      <td>Twitter for iPhone</td>\n",
              "      <td>@cb_doge @Tesla @mayemusk Still doing same thi...</td>\n",
              "    </tr>\n",
              "    <tr>\n",
              "      <th>2</th>\n",
              "      <td>2022-09-12 04:19:57+00:00</td>\n",
              "      <td>9221</td>\n",
              "      <td>Twitter for iPhone</td>\n",
              "      <td>Looks good to roll out to all Tesla owners wit...</td>\n",
              "    </tr>\n",
              "    <tr>\n",
              "      <th>3</th>\n",
              "      <td>2022-09-12 03:25:03+00:00</td>\n",
              "      <td>944</td>\n",
              "      <td>Twitter for iPhone</td>\n",
              "      <td>@Tesla__Mania @WholeMarsBlog That is probably ...</td>\n",
              "    </tr>\n",
              "    <tr>\n",
              "      <th>4</th>\n",
              "      <td>2022-09-12 01:48:49+00:00</td>\n",
              "      <td>3710</td>\n",
              "      <td>Twitter for iPhone</td>\n",
              "      <td>@WholeMarsBlog Real-world validation &amp;amp; bil...</td>\n",
              "    </tr>\n",
              "    <tr>\n",
              "      <th>...</th>\n",
              "      <td>...</td>\n",
              "      <td>...</td>\n",
              "      <td>...</td>\n",
              "      <td>...</td>\n",
              "    </tr>\n",
              "    <tr>\n",
              "      <th>17432</th>\n",
              "      <td>2011-12-03 08:22:07+00:00</td>\n",
              "      <td>51</td>\n",
              "      <td>Twitter for iPhone</td>\n",
              "      <td>That was a total non sequitur btw</td>\n",
              "    </tr>\n",
              "    <tr>\n",
              "      <th>17433</th>\n",
              "      <td>2011-12-03 08:20:28+00:00</td>\n",
              "      <td>53</td>\n",
              "      <td>Twitter for iPhone</td>\n",
              "      <td>Great Voltaire quote, arguably better than Twa...</td>\n",
              "    </tr>\n",
              "    <tr>\n",
              "      <th>17434</th>\n",
              "      <td>2011-12-01 10:29:04+00:00</td>\n",
              "      <td>75</td>\n",
              "      <td>Twitter Web Client</td>\n",
              "      <td>I made the volume on the Model S http://t.co/w...</td>\n",
              "    </tr>\n",
              "    <tr>\n",
              "      <th>17435</th>\n",
              "      <td>2011-12-01 09:55:11+00:00</td>\n",
              "      <td>189</td>\n",
              "      <td>Twitter Web Client</td>\n",
              "      <td>Went to Iceland on Sat to ride bumper cars on ...</td>\n",
              "    </tr>\n",
              "    <tr>\n",
              "      <th>17436</th>\n",
              "      <td>2010-06-04 18:31:57+00:00</td>\n",
              "      <td>6042</td>\n",
              "      <td>Twitter Web Client</td>\n",
              "      <td>Please ignore prior tweets, as that was someon...</td>\n",
              "    </tr>\n",
              "  </tbody>\n",
              "</table>\n",
              "<p>17437 rows × 4 columns</p>\n",
              "</div>\n",
              "      <button class=\"colab-df-convert\" onclick=\"convertToInteractive('df-c3f1a6e7-5498-4bb0-8a12-365f04d2de89')\"\n",
              "              title=\"Convert this dataframe to an interactive table.\"\n",
              "              style=\"display:none;\">\n",
              "        \n",
              "  <svg xmlns=\"http://www.w3.org/2000/svg\" height=\"24px\"viewBox=\"0 0 24 24\"\n",
              "       width=\"24px\">\n",
              "    <path d=\"M0 0h24v24H0V0z\" fill=\"none\"/>\n",
              "    <path d=\"M18.56 5.44l.94 2.06.94-2.06 2.06-.94-2.06-.94-.94-2.06-.94 2.06-2.06.94zm-11 1L8.5 8.5l.94-2.06 2.06-.94-2.06-.94L8.5 2.5l-.94 2.06-2.06.94zm10 10l.94 2.06.94-2.06 2.06-.94-2.06-.94-.94-2.06-.94 2.06-2.06.94z\"/><path d=\"M17.41 7.96l-1.37-1.37c-.4-.4-.92-.59-1.43-.59-.52 0-1.04.2-1.43.59L10.3 9.45l-7.72 7.72c-.78.78-.78 2.05 0 2.83L4 21.41c.39.39.9.59 1.41.59.51 0 1.02-.2 1.41-.59l7.78-7.78 2.81-2.81c.8-.78.8-2.07 0-2.86zM5.41 20L4 18.59l7.72-7.72 1.47 1.35L5.41 20z\"/>\n",
              "  </svg>\n",
              "      </button>\n",
              "      \n",
              "  <style>\n",
              "    .colab-df-container {\n",
              "      display:flex;\n",
              "      flex-wrap:wrap;\n",
              "      gap: 12px;\n",
              "    }\n",
              "\n",
              "    .colab-df-convert {\n",
              "      background-color: #E8F0FE;\n",
              "      border: none;\n",
              "      border-radius: 50%;\n",
              "      cursor: pointer;\n",
              "      display: none;\n",
              "      fill: #1967D2;\n",
              "      height: 32px;\n",
              "      padding: 0 0 0 0;\n",
              "      width: 32px;\n",
              "    }\n",
              "\n",
              "    .colab-df-convert:hover {\n",
              "      background-color: #E2EBFA;\n",
              "      box-shadow: 0px 1px 2px rgba(60, 64, 67, 0.3), 0px 1px 3px 1px rgba(60, 64, 67, 0.15);\n",
              "      fill: #174EA6;\n",
              "    }\n",
              "\n",
              "    [theme=dark] .colab-df-convert {\n",
              "      background-color: #3B4455;\n",
              "      fill: #D2E3FC;\n",
              "    }\n",
              "\n",
              "    [theme=dark] .colab-df-convert:hover {\n",
              "      background-color: #434B5C;\n",
              "      box-shadow: 0px 1px 3px 1px rgba(0, 0, 0, 0.15);\n",
              "      filter: drop-shadow(0px 1px 2px rgba(0, 0, 0, 0.3));\n",
              "      fill: #FFFFFF;\n",
              "    }\n",
              "  </style>\n",
              "\n",
              "      <script>\n",
              "        const buttonEl =\n",
              "          document.querySelector('#df-c3f1a6e7-5498-4bb0-8a12-365f04d2de89 button.colab-df-convert');\n",
              "        buttonEl.style.display =\n",
              "          google.colab.kernel.accessAllowed ? 'block' : 'none';\n",
              "\n",
              "        async function convertToInteractive(key) {\n",
              "          const element = document.querySelector('#df-c3f1a6e7-5498-4bb0-8a12-365f04d2de89');\n",
              "          const dataTable =\n",
              "            await google.colab.kernel.invokeFunction('convertToInteractive',\n",
              "                                                     [key], {});\n",
              "          if (!dataTable) return;\n",
              "\n",
              "          const docLinkHtml = 'Like what you see? Visit the ' +\n",
              "            '<a target=\"_blank\" href=https://colab.research.google.com/notebooks/data_table.ipynb>data table notebook</a>'\n",
              "            + ' to learn more about interactive tables.';\n",
              "          element.innerHTML = '';\n",
              "          dataTable['output_type'] = 'display_data';\n",
              "          await google.colab.output.renderOutput(dataTable, element);\n",
              "          const docLink = document.createElement('div');\n",
              "          docLink.innerHTML = docLinkHtml;\n",
              "          element.appendChild(docLink);\n",
              "        }\n",
              "      </script>\n",
              "    </div>\n",
              "  </div>\n",
              "  "
            ]
          },
          "metadata": {},
          "execution_count": 7
        }
      ],
      "source": [
        "tweets"
      ]
    },
    {
      "cell_type": "code",
      "execution_count": 13,
      "id": "345761e7",
      "metadata": {
        "execution": {
          "iopub.execute_input": "2022-10-08T11:22:07.510612Z",
          "iopub.status.busy": "2022-10-08T11:22:07.508706Z",
          "iopub.status.idle": "2022-10-08T11:22:07.518709Z",
          "shell.execute_reply": "2022-10-08T11:22:07.517895Z"
        },
        "papermill": {
          "duration": 0.019761,
          "end_time": "2022-10-08T11:22:07.520660",
          "exception": false,
          "start_time": "2022-10-08T11:22:07.500899",
          "status": "completed"
        },
        "tags": [],
        "colab": {
          "base_uri": "https://localhost:8080/"
        },
        "id": "345761e7",
        "outputId": "740398b0-69da-4a40-ec14-887885bc5ad4"
      },
      "outputs": [
        {
          "output_type": "execute_result",
          "data": {
            "text/plain": [
              "RangeIndex(start=0, stop=17437, step=1)"
            ]
          },
          "metadata": {},
          "execution_count": 13
        }
      ],
      "source": [
        "tweets.index"
      ]
    },
    {
      "cell_type": "markdown",
      "id": "acbdf072",
      "metadata": {
        "papermill": {
          "duration": 0.005759,
          "end_time": "2022-10-08T11:22:07.532533",
          "exception": false,
          "start_time": "2022-10-08T11:22:07.526774",
          "status": "completed"
        },
        "tags": [],
        "id": "acbdf072"
      },
      "source": [
        "**17437 tweets**"
      ]
    },
    {
      "cell_type": "markdown",
      "id": "8673cce9",
      "metadata": {
        "papermill": {
          "duration": 0.005663,
          "end_time": "2022-10-08T11:22:07.544120",
          "exception": false,
          "start_time": "2022-10-08T11:22:07.538457",
          "status": "completed"
        },
        "tags": [],
        "id": "8673cce9"
      },
      "source": [
        "# 2. When did he post first time on Twitter?"
      ]
    },
    {
      "cell_type": "code",
      "execution_count": 21,
      "id": "43d0f694",
      "metadata": {
        "execution": {
          "iopub.execute_input": "2022-10-08T11:22:07.558019Z",
          "iopub.status.busy": "2022-10-08T11:22:07.557083Z",
          "iopub.status.idle": "2022-10-08T11:22:07.579531Z",
          "shell.execute_reply": "2022-10-08T11:22:07.578473Z"
        },
        "papermill": {
          "duration": 0.031794,
          "end_time": "2022-10-08T11:22:07.581864",
          "exception": false,
          "start_time": "2022-10-08T11:22:07.550070",
          "status": "completed"
        },
        "tags": [],
        "colab": {
          "base_uri": "https://localhost:8080/"
        },
        "id": "43d0f694",
        "outputId": "3043550a-6447-44d6-8b4a-b1eb0bce73a3"
      },
      "outputs": [
        {
          "output_type": "execute_result",
          "data": {
            "text/plain": [
              "17436    2010-06-04 18:31:57+00:00\n",
              "17435    2011-12-01 09:55:11+00:00\n",
              "17434    2011-12-01 10:29:04+00:00\n",
              "17433    2011-12-03 08:20:28+00:00\n",
              "17432    2011-12-03 08:22:07+00:00\n",
              "                   ...            \n",
              "4        2022-09-12 01:48:49+00:00\n",
              "3        2022-09-12 03:25:03+00:00\n",
              "2        2022-09-12 04:19:57+00:00\n",
              "1        2022-09-12 05:43:02+00:00\n",
              "0        2022-09-12 05:44:11+00:00\n",
              "Name: Date Created, Length: 17437, dtype: object"
            ]
          },
          "metadata": {},
          "execution_count": 21
        }
      ],
      "source": [
        "tweets[\"Date Created\"].sort_values(ascending=True)"
      ]
    },
    {
      "cell_type": "markdown",
      "id": "b2ba10c9",
      "metadata": {
        "papermill": {
          "duration": 0.006124,
          "end_time": "2022-10-08T11:22:07.594227",
          "exception": false,
          "start_time": "2022-10-08T11:22:07.588103",
          "status": "completed"
        },
        "tags": [],
        "id": "b2ba10c9"
      },
      "source": [
        "**2010-06-04 18:31:57+00:00**\n",
        "Note: Twitter uses YYYY-MM-DD \n",
        "converting it into DD-MM-YYYY which will make it less ambiguous\n",
        "so he first posted in\n",
        "**4 June 2010 6:31 PM**"
      ]
    },
    {
      "cell_type": "markdown",
      "id": "9d867bab",
      "metadata": {
        "papermill": {
          "duration": 0.006233,
          "end_time": "2022-10-08T11:22:07.608336",
          "exception": false,
          "start_time": "2022-10-08T11:22:07.602103",
          "status": "completed"
        },
        "tags": [],
        "id": "9d867bab"
      },
      "source": [
        "# 3. What are his sources of Tweets?"
      ]
    },
    {
      "cell_type": "code",
      "execution_count": 24,
      "id": "999a7475",
      "metadata": {
        "execution": {
          "iopub.execute_input": "2022-10-08T11:22:07.625669Z",
          "iopub.status.busy": "2022-10-08T11:22:07.624772Z",
          "iopub.status.idle": "2022-10-08T11:22:07.637960Z",
          "shell.execute_reply": "2022-10-08T11:22:07.637214Z"
        },
        "papermill": {
          "duration": 0.02369,
          "end_time": "2022-10-08T11:22:07.639951",
          "exception": false,
          "start_time": "2022-10-08T11:22:07.616261",
          "status": "completed"
        },
        "tags": [],
        "colab": {
          "base_uri": "https://localhost:8080/"
        },
        "id": "999a7475",
        "outputId": "6c79b1a0-60a9-497f-8387-55ab2e208b77"
      },
      "outputs": [
        {
          "output_type": "execute_result",
          "data": {
            "text/plain": [
              "Twitter for iPhone      16875\n",
              "Twitter Web Client        402\n",
              "Instagram                  93\n",
              "Twitter Web App            36\n",
              "Twitter for Websites       12\n",
              "iOS                        11\n",
              "Mobile Web                  4\n",
              "Photos on iOS               3\n",
              "Tweetlogix                  1\n",
              "Name: Source of Tweet, dtype: int64"
            ]
          },
          "metadata": {},
          "execution_count": 24
        }
      ],
      "source": [
        "tweets[\"Source of Tweet\"].value_counts().sort_values(ascending=False)"
      ]
    },
    {
      "cell_type": "code",
      "execution_count": 27,
      "id": "27bd0152",
      "metadata": {
        "execution": {
          "iopub.execute_input": "2022-10-08T11:22:07.659955Z",
          "iopub.status.busy": "2022-10-08T11:22:07.659255Z",
          "iopub.status.idle": "2022-10-08T11:22:07.998698Z",
          "shell.execute_reply": "2022-10-08T11:22:07.997570Z"
        },
        "papermill": {
          "duration": 0.353479,
          "end_time": "2022-10-08T11:22:08.001389",
          "exception": false,
          "start_time": "2022-10-08T11:22:07.647910",
          "status": "completed"
        },
        "tags": [],
        "colab": {
          "base_uri": "https://localhost:8080/",
          "height": 913
        },
        "id": "27bd0152",
        "outputId": "37ca6972-f0d9-4fed-d3c9-cff4f7f26fb0"
      },
      "outputs": [
        {
          "output_type": "execute_result",
          "data": {
            "text/plain": [
              "<matplotlib.axes._subplots.AxesSubplot at 0x7fb5fc3b1f10>"
            ]
          },
          "metadata": {},
          "execution_count": 27
        },
        {
          "output_type": "display_data",
          "data": {
            "text/plain": [
              "<Figure size 1080x1080 with 1 Axes>"
            ],
            "image/png": "[encoded data removed]"
          },
          "metadata": {}
        }
      ],
      "source": [
        "plt.style.use('Solarize_Light2')\n",
        "tweets[\"Source of Tweet\"].value_counts().plot(kind=\"barh\",figsize=(15,15),title=\"Source of Tweet\",fontsize=25)"
      ]
    },
    {
      "cell_type": "markdown",
      "id": "c8cc400e",
      "metadata": {
        "papermill": {
          "duration": 0.006661,
          "end_time": "2022-10-08T11:22:08.015265",
          "exception": false,
          "start_time": "2022-10-08T11:22:08.008604",
          "status": "completed"
        },
        "tags": [],
        "id": "c8cc400e"
      },
      "source": [
        " **His biggest source of tweet is Iphone**\n",
        " **Almost 94% to 97%**"
      ]
    },
    {
      "cell_type": "markdown",
      "id": "244df2d3",
      "metadata": {
        "papermill": {
          "duration": 0.006675,
          "end_time": "2022-10-08T11:22:08.028821",
          "exception": false,
          "start_time": "2022-10-08T11:22:08.022146",
          "status": "completed"
        },
        "tags": [],
        "id": "244df2d3"
      },
      "source": [
        "# 4. His most liked tweet, what was it about?"
      ]
    },
    {
      "cell_type": "code",
      "execution_count": null,
      "id": "25d64d34",
      "metadata": {
        "execution": {
          "iopub.execute_input": "2022-10-08T11:22:08.044721Z",
          "iopub.status.busy": "2022-10-08T11:22:08.044045Z",
          "iopub.status.idle": "2022-10-08T11:22:08.058689Z",
          "shell.execute_reply": "2022-10-08T11:22:08.057910Z"
        },
        "papermill": {
          "duration": 0.025152,
          "end_time": "2022-10-08T11:22:08.060772",
          "exception": false,
          "start_time": "2022-10-08T11:22:08.035620",
          "status": "completed"
        },
        "tags": [],
        "id": "25d64d34",
        "outputId": "9cf1a6ac-1e8e-4b63-806d-cb2ff6571306"
      },
      "outputs": [
        {
          "data": {
            "text/html": [
              "<div>\n",
              "<style scoped>\n",
              "    .dataframe tbody tr th:only-of-type {\n",
              "        vertical-align: middle;\n",
              "    }\n",
              "\n",
              "    .dataframe tbody tr th {\n",
              "        vertical-align: top;\n",
              "    }\n",
              "\n",
              "    .dataframe thead th {\n",
              "        text-align: right;\n",
              "    }\n",
              "</style>\n",
              "<table border=\"1\" class=\"dataframe\">\n",
              "  <thead>\n",
              "    <tr style=\"text-align: right;\">\n",
              "      <th></th>\n",
              "      <th>Date Created</th>\n",
              "      <th>Number of Likes</th>\n",
              "      <th>Source of Tweet</th>\n",
              "      <th>Tweets</th>\n",
              "    </tr>\n",
              "  </thead>\n",
              "  <tbody>\n",
              "    <tr>\n",
              "      <th>0</th>\n",
              "      <td>2022-09-12 05:44:11+00:00</td>\n",
              "      <td>1524</td>\n",
              "      <td>Twitter for iPhone</td>\n",
              "      <td>@teslaownersSV @cb_doge @Tesla @mayemusk I gue...</td>\n",
              "    </tr>\n",
              "    <tr>\n",
              "      <th>1</th>\n",
              "      <td>2022-09-12 05:43:02+00:00</td>\n",
              "      <td>19631</td>\n",
              "      <td>Twitter for iPhone</td>\n",
              "      <td>@cb_doge @Tesla @mayemusk Still doing same thi...</td>\n",
              "    </tr>\n",
              "    <tr>\n",
              "      <th>2</th>\n",
              "      <td>2022-09-12 04:19:57+00:00</td>\n",
              "      <td>9221</td>\n",
              "      <td>Twitter for iPhone</td>\n",
              "      <td>Looks good to roll out to all Tesla owners wit...</td>\n",
              "    </tr>\n",
              "    <tr>\n",
              "      <th>3</th>\n",
              "      <td>2022-09-12 03:25:03+00:00</td>\n",
              "      <td>944</td>\n",
              "      <td>Twitter for iPhone</td>\n",
              "      <td>@Tesla__Mania @WholeMarsBlog That is probably ...</td>\n",
              "    </tr>\n",
              "    <tr>\n",
              "      <th>4</th>\n",
              "      <td>2022-09-12 01:48:49+00:00</td>\n",
              "      <td>3710</td>\n",
              "      <td>Twitter for iPhone</td>\n",
              "      <td>@WholeMarsBlog Real-world validation &amp;amp; bil...</td>\n",
              "    </tr>\n",
              "    <tr>\n",
              "      <th>...</th>\n",
              "      <td>...</td>\n",
              "      <td>...</td>\n",
              "      <td>...</td>\n",
              "      <td>...</td>\n",
              "    </tr>\n",
              "    <tr>\n",
              "      <th>17432</th>\n",
              "      <td>2011-12-03 08:22:07+00:00</td>\n",
              "      <td>51</td>\n",
              "      <td>Twitter for iPhone</td>\n",
              "      <td>That was a total non sequitur btw</td>\n",
              "    </tr>\n",
              "    <tr>\n",
              "      <th>17433</th>\n",
              "      <td>2011-12-03 08:20:28+00:00</td>\n",
              "      <td>53</td>\n",
              "      <td>Twitter for iPhone</td>\n",
              "      <td>Great Voltaire quote, arguably better than Twa...</td>\n",
              "    </tr>\n",
              "    <tr>\n",
              "      <th>17434</th>\n",
              "      <td>2011-12-01 10:29:04+00:00</td>\n",
              "      <td>75</td>\n",
              "      <td>Twitter Web Client</td>\n",
              "      <td>I made the volume on the Model S http://t.co/w...</td>\n",
              "    </tr>\n",
              "    <tr>\n",
              "      <th>17435</th>\n",
              "      <td>2011-12-01 09:55:11+00:00</td>\n",
              "      <td>189</td>\n",
              "      <td>Twitter Web Client</td>\n",
              "      <td>Went to Iceland on Sat to ride bumper cars on ...</td>\n",
              "    </tr>\n",
              "    <tr>\n",
              "      <th>17436</th>\n",
              "      <td>2010-06-04 18:31:57+00:00</td>\n",
              "      <td>6042</td>\n",
              "      <td>Twitter Web Client</td>\n",
              "      <td>Please ignore prior tweets, as that was someon...</td>\n",
              "    </tr>\n",
              "  </tbody>\n",
              "</table>\n",
              "<p>17437 rows × 4 columns</p>\n",
              "</div>"
            ],
            "text/plain": [
              "                    Date Created  Number of Likes     Source of Tweet  \\\n",
              "0      2022-09-12 05:44:11+00:00             1524  Twitter for iPhone   \n",
              "1      2022-09-12 05:43:02+00:00            19631  Twitter for iPhone   \n",
              "2      2022-09-12 04:19:57+00:00             9221  Twitter for iPhone   \n",
              "3      2022-09-12 03:25:03+00:00              944  Twitter for iPhone   \n",
              "4      2022-09-12 01:48:49+00:00             3710  Twitter for iPhone   \n",
              "...                          ...              ...                 ...   \n",
              "17432  2011-12-03 08:22:07+00:00               51  Twitter for iPhone   \n",
              "17433  2011-12-03 08:20:28+00:00               53  Twitter for iPhone   \n",
              "17434  2011-12-01 10:29:04+00:00               75  Twitter Web Client   \n",
              "17435  2011-12-01 09:55:11+00:00              189  Twitter Web Client   \n",
              "17436  2010-06-04 18:31:57+00:00             6042  Twitter Web Client   \n",
              "\n",
              "                                                  Tweets  \n",
              "0      @teslaownersSV @cb_doge @Tesla @mayemusk I gue...  \n",
              "1      @cb_doge @Tesla @mayemusk Still doing same thi...  \n",
              "2      Looks good to roll out to all Tesla owners wit...  \n",
              "3      @Tesla__Mania @WholeMarsBlog That is probably ...  \n",
              "4      @WholeMarsBlog Real-world validation &amp; bil...  \n",
              "...                                                  ...  \n",
              "17432                  That was a total non sequitur btw  \n",
              "17433  Great Voltaire quote, arguably better than Twa...  \n",
              "17434  I made the volume on the Model S http://t.co/w...  \n",
              "17435  Went to Iceland on Sat to ride bumper cars on ...  \n",
              "17436  Please ignore prior tweets, as that was someon...  \n",
              "\n",
              "[17437 rows x 4 columns]"
            ]
          },
          "execution_count": 9,
          "metadata": {},
          "output_type": "execute_result"
        }
      ],
      "source": [
        "tweets"
      ]
    },
    {
      "cell_type": "code",
      "execution_count": 28,
      "id": "583b7e98",
      "metadata": {
        "execution": {
          "iopub.execute_input": "2022-10-08T11:22:08.077683Z",
          "iopub.status.busy": "2022-10-08T11:22:08.077020Z",
          "iopub.status.idle": "2022-10-08T11:22:08.087325Z",
          "shell.execute_reply": "2022-10-08T11:22:08.086225Z"
        },
        "papermill": {
          "duration": 0.021512,
          "end_time": "2022-10-08T11:22:08.089751",
          "exception": false,
          "start_time": "2022-10-08T11:22:08.068239",
          "status": "completed"
        },
        "tags": [],
        "colab": {
          "base_uri": "https://localhost:8080/"
        },
        "id": "583b7e98",
        "outputId": "329c1bf6-c687-4a29-8999-1bdaed655252"
      },
      "outputs": [
        {
          "output_type": "execute_result",
          "data": {
            "text/plain": [
              "1602     4812557\n",
              "1627     3259198\n",
              "1599     2673383\n",
              "1626     2629536\n",
              "1598     2600911\n",
              "          ...   \n",
              "16910          3\n",
              "16948          3\n",
              "16947          3\n",
              "16937          3\n",
              "17015          3\n",
              "Name: Number of Likes, Length: 17437, dtype: int64"
            ]
          },
          "metadata": {},
          "execution_count": 28
        }
      ],
      "source": [
        "tweets[\"Number of Likes\"].sort_values(ascending=False)\n"
      ]
    },
    {
      "cell_type": "code",
      "execution_count": 29,
      "id": "9142b597",
      "metadata": {
        "execution": {
          "iopub.execute_input": "2022-10-08T11:22:08.107703Z",
          "iopub.status.busy": "2022-10-08T11:22:08.106900Z",
          "iopub.status.idle": "2022-10-08T11:22:08.115052Z",
          "shell.execute_reply": "2022-10-08T11:22:08.114175Z"
        },
        "papermill": {
          "duration": 0.0195,
          "end_time": "2022-10-08T11:22:08.117273",
          "exception": false,
          "start_time": "2022-10-08T11:22:08.097773",
          "status": "completed"
        },
        "tags": [],
        "colab": {
          "base_uri": "https://localhost:8080/"
        },
        "id": "9142b597",
        "outputId": "1312728d-0cd4-46d1-f223-9d4a571b53b9"
      },
      "outputs": [
        {
          "output_type": "execute_result",
          "data": {
            "text/plain": [
              "Date Created                               2022-04-28 00:56:58+00:00\n",
              "Number of Likes                                              4812557\n",
              "Source of Tweet                                   Twitter for iPhone\n",
              "Tweets             Next I’m buying Coca-Cola to put the cocaine b...\n",
              "Name: 1602, dtype: object"
            ]
          },
          "metadata": {},
          "execution_count": 29
        }
      ],
      "source": [
        "tweets.iloc[1602]"
      ]
    },
    {
      "cell_type": "code",
      "execution_count": 33,
      "id": "76d5b979",
      "metadata": {
        "execution": {
          "iopub.execute_input": "2022-10-08T11:22:08.135132Z",
          "iopub.status.busy": "2022-10-08T11:22:08.134493Z",
          "iopub.status.idle": "2022-10-08T11:22:08.141659Z",
          "shell.execute_reply": "2022-10-08T11:22:08.140710Z"
        },
        "papermill": {
          "duration": 0.018381,
          "end_time": "2022-10-08T11:22:08.143701",
          "exception": false,
          "start_time": "2022-10-08T11:22:08.125320",
          "status": "completed"
        },
        "tags": [],
        "colab": {
          "base_uri": "https://localhost:8080/",
          "height": 36
        },
        "id": "76d5b979",
        "outputId": "fe7938d6-6a71-4892-a4ba-bf48d236091a"
      },
      "outputs": [
        {
          "output_type": "execute_result",
          "data": {
            "text/plain": [
              "'Next I’m buying Coca-Cola to put the cocaine back in'"
            ],
            "application/vnd.google.colaboratory.intrinsic+json": {
              "type": "string"
            }
          },
          "metadata": {},
          "execution_count": 33
        }
      ],
      "source": [
        "tweets.iloc[1602][\"Tweets\"]"
      ]
    },
    {
      "cell_type": "markdown",
      "id": "6685b5c9",
      "metadata": {
        "papermill": {
          "duration": 0.007624,
          "end_time": "2022-10-08T11:22:08.158991",
          "exception": false,
          "start_time": "2022-10-08T11:22:08.151367",
          "status": "completed"
        },
        "tags": [],
        "id": "6685b5c9"
      },
      "source": [
        " **According to this dataset Elon's most liked tweet is a joke.**\n",
        " **The tweet received 4812557 likes.**"
      ]
    },
    {
      "cell_type": "markdown",
      "id": "a2c7ec65",
      "metadata": {
        "papermill": {
          "duration": 0.007509,
          "end_time": "2022-10-08T11:22:08.174374",
          "exception": false,
          "start_time": "2022-10-08T11:22:08.166865",
          "status": "completed"
        },
        "tags": [],
        "id": "a2c7ec65"
      },
      "source": [
        "# 5. His least liked tweet, what was it about?"
      ]
    },
    {
      "cell_type": "code",
      "execution_count": 34,
      "id": "a70b5a3b",
      "metadata": {
        "execution": {
          "iopub.execute_input": "2022-10-08T11:22:08.192011Z",
          "iopub.status.busy": "2022-10-08T11:22:08.191350Z",
          "iopub.status.idle": "2022-10-08T11:22:08.203995Z",
          "shell.execute_reply": "2022-10-08T11:22:08.202748Z"
        },
        "papermill": {
          "duration": 0.024237,
          "end_time": "2022-10-08T11:22:08.206264",
          "exception": false,
          "start_time": "2022-10-08T11:22:08.182027",
          "status": "completed"
        },
        "tags": [],
        "colab": {
          "base_uri": "https://localhost:8080/"
        },
        "id": "a70b5a3b",
        "outputId": "af085c91-17a3-4aa4-9fcc-353993c764ce"
      },
      "outputs": [
        {
          "output_type": "execute_result",
          "data": {
            "text/plain": [
              "16942          3\n",
              "17015          3\n",
              "16948          3\n",
              "16910          3\n",
              "16947          3\n",
              "          ...   \n",
              "1598     2600911\n",
              "1626     2629536\n",
              "1599     2673383\n",
              "1627     3259198\n",
              "1602     4812557\n",
              "Name: Number of Likes, Length: 17437, dtype: int64"
            ]
          },
          "metadata": {},
          "execution_count": 34
        }
      ],
      "source": [
        "tweets[\"Number of Likes\"].sort_values(ascending=True)\n"
      ]
    },
    {
      "cell_type": "code",
      "execution_count": 35,
      "id": "278d63f3",
      "metadata": {
        "execution": {
          "iopub.execute_input": "2022-10-08T11:22:08.224575Z",
          "iopub.status.busy": "2022-10-08T11:22:08.224158Z",
          "iopub.status.idle": "2022-10-08T11:22:08.233782Z",
          "shell.execute_reply": "2022-10-08T11:22:08.232800Z"
        },
        "papermill": {
          "duration": 0.021182,
          "end_time": "2022-10-08T11:22:08.235928",
          "exception": false,
          "start_time": "2022-10-08T11:22:08.214746",
          "status": "completed"
        },
        "tags": [],
        "colab": {
          "base_uri": "https://localhost:8080/"
        },
        "id": "278d63f3",
        "outputId": "065acc35-343c-440b-9c53-e13db80a1684"
      },
      "outputs": [
        {
          "output_type": "execute_result",
          "data": {
            "text/plain": [
              "16942    3\n",
              "17015    3\n",
              "16948    3\n",
              "16910    3\n",
              "16947    3\n",
              "Name: Number of Likes, dtype: int64"
            ]
          },
          "metadata": {},
          "execution_count": 35
        }
      ],
      "source": [
        "tweets[\"Number of Likes\"].sort_values().head()"
      ]
    },
    {
      "cell_type": "markdown",
      "id": "327bae4b",
      "metadata": {
        "papermill": {
          "duration": 0.007867,
          "end_time": "2022-10-08T11:22:08.253375",
          "exception": false,
          "start_time": "2022-10-08T11:22:08.245508",
          "status": "completed"
        },
        "tags": [],
        "id": "327bae4b"
      },
      "source": [
        "**The least likes he received on his Twitter is 3 but in this dataset, many tweets received only 3 likes.**"
      ]
    }
  ],
  "metadata": {
    "kernelspec": {
      "display_name": "Python 3",
      "language": "python",
      "name": "python3"
    },
    "language_info": {
      "codemirror_mode": {
        "name": "ipython",
        "version": 3
      },
      "file_extension": ".py",
      "mimetype": "text/x-python",
      "name": "python",
      "nbconvert_exporter": "python",
      "pygments_lexer": "ipython3",
      "version": "3.7.12"
    },
    "papermill": {
      "default_parameters": {},
      "duration": 10.441763,
      "end_time": "2022-10-08T11:22:08.881426",
      "environment_variables": {},
      "exception": null,
      "input_path": "__notebook__.ipynb",
      "output_path": "__notebook__.ipynb",
      "parameters": {},
      "start_time": "2022-10-08T11:21:58.439663",
      "version": "2.3.4"
    },
    "colab": {
      "provenance": [],
      "include_colab_link": true
    }
  },
  "nbformat": 4,
  "nbformat_minor": 5
}