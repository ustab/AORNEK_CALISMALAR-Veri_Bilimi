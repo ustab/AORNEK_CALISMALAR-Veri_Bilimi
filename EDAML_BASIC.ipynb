{
  "nbformat": 4,
  "nbformat_minor": 0,
  "metadata": {
    "colab": {
      "private_outputs": true,
      "provenance": [],
      "authorship_tag": "ABX9TyN46JbBF1UR340PeeXmKWFu",
      "include_colab_link": true
    },
    "kernelspec": {
      "name": "python3",
      "display_name": "Python 3"
    },
    "language_info": {
      "name": "python"
    }
  },
  "cells": [
    {
      "cell_type": "markdown",
      "metadata": {
        "id": "view-in-github",
        "colab_type": "text"
      },
      "source": [
        "<a href=\"https://colab.research.google.com/github/ustab/AORNEK_CALISMALAR-Veri_Bilimi/blob/main/EDAML_BASIC.ipynb\" target=\"_parent\"><img src=\"https://colab.research.google.com/assets/colab-badge.svg\" alt=\"Open In Colab\"/></a>"
      ]
    },
    {
      "cell_type": "code",
      "execution_count": null,
      "metadata": {
        "id": "wMpuFICGCTWG"
      },
      "outputs": [],
      "source": [
        "import pandas as pd\n",
        "import numpy as np\n",
        "\n",
        "sozluk = {'İsim':pd.Series(['Ada','Cem','Sibel','Ahmet','Mehmet','Ali','Veli',\n",
        "          'Ayşe','Hüseyin','Necmi','Nalan','Namık']),\n",
        "          'Meslek':pd.Series(['işçi','işçi','memur','serbest','serbest',None,None,\n",
        "          'sigortacı','işsiz',None,None,'memur']),\n",
        "          'Tarih':pd.Series(['11.11.2010','11.11.2010','11.11.2010','18.11.2011','18.11.2011',None,None,\n",
        "          None,'11.11.2010',None,'18.11.2011','18.11.2011']),          \n",
        "          'Yaş':pd.Series([21, 24, 25, 44, 31, 27, 35, 33, 42, 29, 41, 43]),\n",
        "          'ÇocukSayısı':pd.Series([None, None, None, None, None, 1, 2, 0, None, None, None, None]),\n",
        "          'Puan':pd.Series([89, 87, 77, 55, 70, 79, 73, 79, 54, 92, 61, 69])}\n",
        "df = pd.DataFrame(sozluk)\n",
        "df"
      ]
    },
    {
      "cell_type": "code",
      "source": [
        "df.isnull().sum().sum()"
      ],
      "metadata": {
        "id": "V6w3C1V2CeJW"
      },
      "execution_count": null,
      "outputs": []
    },
    {
      "cell_type": "code",
      "source": [
        "df.isnull().sum()"
      ],
      "metadata": {
        "id": "lBIQl1i7Ckad"
      },
      "execution_count": null,
      "outputs": []
    },
    {
      "cell_type": "code",
      "source": [
        "\n",
        "#Eksik değer tablosu\n",
        "def eksik_deger_tablosu(df): \n",
        "    eksik_deger = df.isnull().sum()\n",
        "    eksik_deger_yuzde = 100 * df.isnull().sum()/len(df)\n",
        "    eksik_deger_tablo = pd.concat([eksik_deger, eksik_deger_yuzde], axis=1)\n",
        "    eksik_deger_tablo_son = eksik_deger_tablo.rename(\n",
        "    columns = {0 : 'Eksik Değerler', 1 : '% Değeri'})\n",
        "    return eksik_deger_tablo_son\n",
        "  "
      ],
      "metadata": {
        "id": "PixZ621AN6vR"
      },
      "execution_count": null,
      "outputs": []
    },
    {
      "cell_type": "code",
      "source": [
        "#%70 üzerinde null değer içeren kolonları sil\n",
        "tr = len(df) * .3\n",
        "df.dropna(thresh = tr, axis = 1, inplace = True)\n",
        "\n",
        "df"
      ],
      "metadata": {
        "id": "QuJbQL3COXy9"
      },
      "execution_count": null,
      "outputs": []
    },
    {
      "cell_type": "code",
      "source": [
        "#Meslek özniteliğindeki Null değerleri 'Diğer' değeri ile doldur\n",
        "df['Meslek'] = df['Meslek'].fillna('Diğer')\n",
        "\n",
        "#Tarih özniteliğindeki Null değerleri Tarih benzersiz değerlerden ilki ile doldur\n",
        "print(df['Tarih'].unique()[0])\n",
        "df['Tarih'] = df['Tarih'].fillna(df['Tarih'].unique()[0])\n",
        "\n",
        "df"
      ],
      "metadata": {
        "id": "DfOKIJW-Oswp"
      },
      "execution_count": null,
      "outputs": []
    },
    {
      "cell_type": "code",
      "source": [
        "\n",
        "#Apply fonksiyonu kullanarak sınav başarı durumunu yeni öznitelik olarak ekle\n",
        "def basari_durumu(puan):\n",
        "    return (puan >= 70)\n",
        "\n",
        "df['Geçti'] = df['Puan'].apply(basari_durumu)\n",
        "df"
      ],
      "metadata": {
        "id": "YSNf7KGcPHrA"
      },
      "execution_count": null,
      "outputs": []
    },
    {
      "cell_type": "code",
      "source": [
        "\n",
        "#Tarih özniteliğindeki yıl bilgisini kullanarak 'Yıl' isimli yeni bir öznitelik oluşturuyoruz\n",
        "tarih = pd.to_datetime(df['Tarih'])\n",
        "df['Yıl'] = tarih.dt.year\n",
        "\n",
        "df"
      ],
      "metadata": {
        "id": "8CLiJDlNPqxq"
      },
      "execution_count": null,
      "outputs": []
    },
    {
      "cell_type": "markdown",
      "source": [
        "Bunu yapmanın en yaygın iki yolu Sklearn kütüphanesi altında yer alan LabelEncoder veya OneHotEncoder(ya da Pandas.get_dummies) sınıflarını kullanmaktır. Aslında bunları farklı iki yaklaşım olarak görmek mümkündür."
      ],
      "metadata": {
        "id": "4JvpWwPfQF2_"
      }
    },
    {
      "cell_type": "code",
      "source": [
        "from sklearn import preprocessing\n",
        "label_encoder = preprocessing.LabelEncoder() \n",
        "df['Geçti_Encoded']= label_encoder.fit_transform(df['Geçti'])\n",
        "\n",
        "df\n",
        "#view rawpython_sample_dataset_labelencoding1.py hosted with ❤ by GitHub"
      ],
      "metadata": {
        "id": "4hZDkrr4QVBf"
      },
      "execution_count": null,
      "outputs": []
    },
    {
      "cell_type": "code",
      "source": [
        "df['Meslek_Encoded']= label_encoder.fit_transform(df['Meslek'])\n",
        "df"
      ],
      "metadata": {
        "id": "XdFL6MglQnxb"
      },
      "execution_count": null,
      "outputs": []
    },
    {
      "cell_type": "code",
      "source": [
        "onehotencoder = preprocessing.OneHotEncoder()"
      ],
      "metadata": {
        "id": "C1h5fAthRDup"
      },
      "execution_count": null,
      "outputs": []
    },
    {
      "cell_type": "code",
      "source": [
        "df['Meslek'] = pd.Categorical(df['Meslek'])\n",
        "dfDummies = pd.get_dummies(df['Meslek'], prefix = 'Kat')\n",
        "dfDummies"
      ],
      "metadata": {
        "id": "riH0oIcvRL2D"
      },
      "execution_count": null,
      "outputs": []
    },
    {
      "cell_type": "code",
      "source": [
        "df_new = pd.concat([df, dfDummies], axis=1)\n",
        "df_new"
      ],
      "metadata": {
        "id": "gseGS6nGRcyn"
      },
      "execution_count": null,
      "outputs": []
    },
    {
      "cell_type": "code",
      "source": [
        "#Puan özniteliğini ölçeklendirmek istiyoruz\n",
        "x = df[['Puan']].values.astype(float)\n",
        "\n",
        "#Ölçeklendirme için MinMaxScaler fonksiyonunu kullanıyoruz.\n",
        "min_max_scaler = preprocessing.MinMaxScaler()\n",
        "x_scaled = min_max_scaler.fit_transform(x)\n",
        "df['Puan2'] = pd.DataFrame(x_scaled)\n",
        "\n",
        "df"
      ],
      "metadata": {
        "id": "J7SL_tgAR22u"
      },
      "execution_count": null,
      "outputs": []
    },
    {
      "cell_type": "code",
      "source": [
        "import seaborn as sns\n",
        "sns.boxplot(x=df['Puan'])"
      ],
      "metadata": {
        "id": "KqQEZxGBSbHA"
      },
      "execution_count": null,
      "outputs": []
    },
    {
      "cell_type": "code",
      "source": [
        "Q1 = df.Puan.quantile(0.25)\n",
        "Q2 = df.Puan.quantile(0.5)\n",
        "Q3 = df.Puan.quantile(0.75)\n",
        "Q4 = df.Puan.quantile(1)\n",
        "IQR = Q3 - Q1\n",
        "\n",
        "print(\"Q1-->\", Q1)\n",
        "print(\"Q3-->\", Q3)\n",
        "print(\"Q2-->\", Q2)\n",
        "print(\"Q4-->\", Q4)\n",
        "print(\"IQR-->\", IQR)\n",
        "print(\"Alt sınır: Q1 - 1.5 * IQR--->\", Q1 - 1.5 * IQR)\n",
        "print(\"Üst sınır: Q3 + 1.5 * IQR--->\", Q3 + 1.5 * IQR)"
      ],
      "metadata": {
        "id": "At3sCZBOSpUj"
      },
      "execution_count": null,
      "outputs": []
    },
    {
      "cell_type": "code",
      "source": [
        "outliers_df = df[(df.Puan < (Q1–1.5*IQR))|(df.Puan > Q3+1.5*IQR)]"
      ],
      "metadata": {
        "id": "YVN5lqDZS4uF"
      },
      "execution_count": null,
      "outputs": []
    }
  ]
}